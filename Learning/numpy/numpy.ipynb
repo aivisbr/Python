{
 "cells": [
  {
   "cell_type": "markdown",
   "id": "2ce1b4cf-f3cc-4fdc-a664-5a0d344438c1",
   "metadata": {},
   "source": [
    "# NumPy training\n",
    "https://numpy.org"
   ]
  },
  {
   "cell_type": "code",
   "execution_count": 1,
   "id": "12f16bd0-36de-4590-a092-1968b22810fc",
   "metadata": {},
   "outputs": [],
   "source": [
    "import numpy as np"
   ]
  },
  {
   "cell_type": "markdown",
   "id": "15d47369-2018-46a6-9c01-da76e9047c30",
   "metadata": {},
   "source": [
    "## Array\n",
    "An array is a central data structure of the NumPy library. "
   ]
  },
  {
   "cell_type": "code",
   "execution_count": 20,
   "id": "6644c578-dfbb-406a-88d1-b6c63195c77d",
   "metadata": {},
   "outputs": [
    {
     "name": "stdout",
     "output_type": "stream",
     "text": [
      "<class 'numpy.ndarray'>\n",
      "[ 1  1  2  3  5  8 13 21]\n"
     ]
    }
   ],
   "source": [
    "# initialize NumPy array from Python list\n",
    "nparray = np.array([1, 1, 2, 3, 5, 8, 13, 21])\n",
    "print(type(nparray)) # numpy.ndarray\n",
    "print(nparray)"
   ]
  },
  {
   "cell_type": "code",
   "execution_count": 19,
   "id": "efe81bee-2e40-403a-804d-2fa79a86943b",
   "metadata": {},
   "outputs": [
    {
     "name": "stdout",
     "output_type": "stream",
     "text": [
      "<class 'numpy.ndarray'>\n",
      "[[  1   1   2   3]\n",
      " [  5   8  13  21]\n",
      " [ 34  55  89 144]]\n"
     ]
    }
   ],
   "source": [
    "# Using nested lists\n",
    "nparray_nested = np.array([[1, 1, 2, 3], [5, 8, 13, 21], [34, 55, 89, 144]])\n",
    "print(type(nparray_nested)) # numpy.ndarray\n",
    "print(nparray_nested)"
   ]
  },
  {
   "cell_type": "markdown",
   "id": "17f5136b-5f61-476d-b6d1-35360e91e9c3",
   "metadata": {},
   "source": [
    "## accessing numpy array values"
   ]
  },
  {
   "cell_type": "code",
   "execution_count": 16,
   "id": "98416312-e6d8-42b9-b135-62c1c88241e3",
   "metadata": {},
   "outputs": [
    {
     "name": "stdout",
     "output_type": "stream",
     "text": [
      "[ 5  8 13 21]\n"
     ]
    },
    {
     "data": {
      "text/plain": [
       "numpy.ndarray"
      ]
     },
     "execution_count": 16,
     "metadata": {},
     "output_type": "execute_result"
    }
   ],
   "source": [
    "print(nparray_nested[1])\n",
    "type(nparray_nested[1]) # numpy.ndarray"
   ]
  },
  {
   "cell_type": "code",
   "execution_count": 17,
   "id": "6ac2246f-571d-45f6-9557-0ccf35b5d273",
   "metadata": {},
   "outputs": [
    {
     "name": "stdout",
     "output_type": "stream",
     "text": [
      "21\n"
     ]
    },
    {
     "data": {
      "text/plain": [
       "numpy.int32"
      ]
     },
     "execution_count": 17,
     "metadata": {},
     "output_type": "execute_result"
    }
   ],
   "source": [
    "print(nparray_nested[1][3])\n",
    "type(nparray_nested[1][3]) # numpy.int32"
   ]
  },
  {
   "cell_type": "markdown",
   "id": "dbd32ebf-17d2-4f16-98ec-a63b4eee361b",
   "metadata": {},
   "source": [
    "https://numpy.org/doc/stable/user/absolute_beginners.html"
   ]
  },
  {
   "cell_type": "code",
   "execution_count": null,
   "id": "72afc381-f769-4411-8f94-3bfaab29b4fb",
   "metadata": {},
   "outputs": [],
   "source": []
  }
 ],
 "metadata": {
  "kernelspec": {
   "display_name": "Python 3 (ipykernel)",
   "language": "python",
   "name": "python3"
  },
  "language_info": {
   "codemirror_mode": {
    "name": "ipython",
    "version": 3
   },
   "file_extension": ".py",
   "mimetype": "text/x-python",
   "name": "python",
   "nbconvert_exporter": "python",
   "pygments_lexer": "ipython3",
   "version": "3.10.2"
  }
 },
 "nbformat": 4,
 "nbformat_minor": 5
}

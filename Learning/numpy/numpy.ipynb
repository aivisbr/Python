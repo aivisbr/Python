{
 "cells": [
  {
   "cell_type": "markdown",
   "id": "2ce1b4cf-f3cc-4fdc-a664-5a0d344438c1",
   "metadata": {},
   "source": [
    "# NumPy training\n",
    "https://numpy.org <br/>\n",
    "NumPy (<em>Numerical Python</em>) is the fundamental package for scientific computing in Python. It is a Python library that provides a multidimensional array object, various derived objects (such as masked arrays and matrices), and an assortment of routines for fast operations on arrays, including mathematical, logical, shape manipulation, sorting, selecting, I/O, discrete Fourier transforms, basic linear algebra, basic statistical operations, random simulation and much more."
   ]
  },
  {
   "cell_type": "markdown",
   "id": "15d47369-2018-46a6-9c01-da76e9047c30",
   "metadata": {},
   "source": [
    "<ul>\n",
    "    <li>An array is a central data structure of the NumPy library.</li>\n",
    "    <li>All of the elements in a NumPy array should be homogeneous.</li>\n",
    "    <li>NumPy’s array class is called <strong>ndarray</strong>. It is also known by the alias <strong>array</strong>.</li>\n",
    "    <li>A <strong>vector</strong> is an array with a single dimension.</li>\n",
    "    <li>A <strong>matrix</strong> refers to an array with two dimensions.</li>\n",
    "    <li>A <strong>tensor</strong> is a 3-D or higher dimensional array.</li>\n",
    "    <li>In NumPy, dimensions are called <strong>axes</strong> (i.e. 2D array has 2 axes, 3D - 3 etc.).</li>\n",
    "</ul>"
   ]
  },
  {
   "cell_type": "code",
   "execution_count": 1,
   "id": "12f16bd0-36de-4590-a092-1968b22810fc",
   "metadata": {},
   "outputs": [],
   "source": [
    "import numpy as np"
   ]
  },
  {
   "cell_type": "code",
   "execution_count": 3,
   "id": "f1ffa500",
   "metadata": {},
   "outputs": [
    {
     "name": "stdout",
     "output_type": "stream",
     "text": [
      "1.23.5\n"
     ]
    }
   ],
   "source": [
    "# NumPy version\n",
    "print(np.__version__) # 1.23.5"
   ]
  },
  {
   "cell_type": "markdown",
   "id": "2323e68f-886a-4ad3-91e7-6573128d5b94",
   "metadata": {},
   "source": [
    "# 1. Create an array"
   ]
  },
  {
   "cell_type": "markdown",
   "id": "fe29afb3",
   "metadata": {},
   "source": [
    "https://numpy.org/doc/stable/reference/generated/numpy.array.html"
   ]
  },
  {
   "cell_type": "code",
   "execution_count": 2,
   "id": "6644c578-dfbb-406a-88d1-b6c63195c77d",
   "metadata": {},
   "outputs": [
    {
     "name": "stdout",
     "output_type": "stream",
     "text": [
      "<class 'numpy.ndarray'>\n",
      "[ 1  1  2  3  5  8 13 21]\n"
     ]
    }
   ],
   "source": [
    "# initialize NumPy array from Python list\n",
    "nparray = np.array([1, 1, 2, 3, 5, 8, 13, 21])\n",
    "print(type(nparray)) # numpy.ndarray # ndarray -> n-dimensional array\n",
    "print(nparray)"
   ]
  },
  {
   "cell_type": "code",
   "execution_count": 3,
   "id": "70ca21e5-1de2-4ca8-a7bf-2a7b73bad1df",
   "metadata": {},
   "outputs": [
    {
     "name": "stdout",
     "output_type": "stream",
     "text": [
      "float64\n",
      "[ 1.  1.  2.  3.  5.  8. 13. 21.]\n"
     ]
    }
   ],
   "source": [
    "# Specifying the type of the elements in the array\n",
    "nparray_float = np.array([1, 1, 2, 3, 5, 8, 13, 21], dtype = np.float64)\n",
    "print(nparray_float.dtype)\n",
    "print(nparray_float)"
   ]
  },
  {
   "cell_type": "code",
   "execution_count": 195,
   "id": "efe81bee-2e40-403a-804d-2fa79a86943b",
   "metadata": {},
   "outputs": [
    {
     "name": "stdout",
     "output_type": "stream",
     "text": [
      "<class 'numpy.ndarray'>\n",
      "nparray_nested.shape=(3, 4), nparray_nested.ndim=2\n",
      "[[  1   1   2   3]\n",
      " [  5   8  13  21]\n",
      " [ 34  55  89 144]]\n"
     ]
    }
   ],
   "source": [
    "# Using nested lists\n",
    "nparray_nested = np.array([[1, 1, 2, 3], [5, 8, 13, 21], [34, 55, 89, 144]]) # 2D array with shape (3, 4)\n",
    "nparray_nested_nan = np.array([[1, 1, 2, np.nan], [5, 8, 13, 21], [34, np.nan, 89, 144]]) # 2D array\n",
    "nparray_nested_3D = np.array([[[1, 1, 2, 3], [5, 8, 13, 21], [34, 55, 89, 144]]]) # 3D array with shape (1, 3, 4)\n",
    "print(type(nparray_nested)) # numpy.ndarray\n",
    "print(f'{nparray_nested.shape=}, {nparray_nested.ndim=}')\n",
    "print(nparray_nested)"
   ]
  },
  {
   "cell_type": "markdown",
   "id": "bc59f16f-4126-4823-b404-82cdcd890ca7",
   "metadata": {},
   "source": [
    "## 1.1. Create an array using function zeros"
   ]
  },
  {
   "cell_type": "markdown",
   "id": "45c83f85",
   "metadata": {},
   "source": [
    "https://numpy.org/doc/stable/reference/generated/numpy.zeros.html"
   ]
  },
  {
   "cell_type": "code",
   "execution_count": 7,
   "id": "408170fb-8f10-4fa4-a71a-0f4b3a4146ec",
   "metadata": {},
   "outputs": [
    {
     "name": "stdout",
     "output_type": "stream",
     "text": [
      "[0. 0. 0. 0. 0.]\n",
      "float64\n"
     ]
    },
    {
     "data": {
      "text/plain": [
       "array([[0., 0., 0., 0., 0.],\n",
       "       [0., 0., 0., 0., 0.],\n",
       "       [0., 0., 0., 0., 0.]])"
      ]
     },
     "execution_count": 7,
     "metadata": {},
     "output_type": "execute_result"
    }
   ],
   "source": [
    "# By default, the dtype of the created array is float64\n",
    "print(np.zeros(5)) # 1D array\n",
    "nparray_zeros = np.zeros((3, 5)) # 2D array with 3 rows and 5 columns\n",
    "print(nparray_zeros.dtype)\n",
    "nparray_zeros"
   ]
  },
  {
   "cell_type": "markdown",
   "id": "2690db73-e5f7-4753-91f2-e8589ca423e1",
   "metadata": {},
   "source": [
    "## 1.2. Create an array using function ones"
   ]
  },
  {
   "cell_type": "markdown",
   "id": "e6346b21",
   "metadata": {},
   "source": [
    "https://numpy.org/doc/stable/reference/generated/numpy.ones.html"
   ]
  },
  {
   "cell_type": "code",
   "execution_count": 10,
   "id": "df56d75a-4184-4310-a2af-1815702f113e",
   "metadata": {},
   "outputs": [
    {
     "name": "stdout",
     "output_type": "stream",
     "text": [
      "[1. 1. 1. 1.]\n",
      "nparray_ones.dtype=dtype('int32')\n"
     ]
    },
    {
     "data": {
      "text/plain": [
       "array([[1, 1],\n",
       "       [1, 1],\n",
       "       [1, 1],\n",
       "       [1, 1]])"
      ]
     },
     "execution_count": 10,
     "metadata": {},
     "output_type": "execute_result"
    }
   ],
   "source": [
    "# By default, the dtype of the created array is float64\n",
    "print(np.ones(4)) # 1D array\n",
    "\n",
    "nparray_ones = np.ones((4, 2), dtype = np.int32) # 2D array with 4 rows and 2 columns\n",
    "print(f'{nparray_ones.dtype=}')\n",
    "nparray_ones"
   ]
  },
  {
   "cell_type": "markdown",
   "id": "d436c899-82d0-44a3-a024-3cbf61772a4e",
   "metadata": {},
   "source": [
    "## 1.3. Create an array using function empty"
   ]
  },
  {
   "cell_type": "markdown",
   "id": "a34d58a1",
   "metadata": {},
   "source": [
    "https://numpy.org/doc/stable/reference/generated/numpy.empty.html"
   ]
  },
  {
   "cell_type": "code",
   "execution_count": 204,
   "id": "7f0f6f3a-d74d-495e-9ed3-19c151221042",
   "metadata": {},
   "outputs": [
    {
     "name": "stdout",
     "output_type": "stream",
     "text": [
      "float64\n"
     ]
    },
    {
     "data": {
      "text/plain": [
       "array([[2.12199579e-314, 8.48798316e-314],\n",
       "       [1.06099790e-313, 4.66839074e-313]])"
      ]
     },
     "execution_count": 204,
     "metadata": {},
     "output_type": "execute_result"
    }
   ],
   "source": [
    "# Creates an array whose initial content is random\n",
    "    # By default, the dtype of the created array is float64\n",
    "nparray_mt = np.empty((2, 2)) # 2 rows and 2 columns\n",
    "print(nparray_mt.dtype)\n",
    "nparray_mt"
   ]
  },
  {
   "cell_type": "markdown",
   "id": "f615d773-0dad-48a3-830b-2c4d559837b4",
   "metadata": {},
   "source": [
    "## 1.4. Create an array using function arange"
   ]
  },
  {
   "cell_type": "markdown",
   "id": "a0ea9e32",
   "metadata": {},
   "source": [
    "https://numpy.org/doc/stable/reference/generated/numpy.arange.html"
   ]
  },
  {
   "cell_type": "code",
   "execution_count": 206,
   "id": "e2b3b719-63c3-4dd4-af44-171a7bd5836c",
   "metadata": {},
   "outputs": [
    {
     "name": "stdout",
     "output_type": "stream",
     "text": [
      "int32\n"
     ]
    },
    {
     "data": {
      "text/plain": [
       "array([  0,  25,  50,  75, 100])"
      ]
     },
     "execution_count": 206,
     "metadata": {},
     "output_type": "execute_result"
    }
   ],
   "source": [
    "nparray_aranged = np.arange(start = 0, # The default start value is 0\n",
    "                            stop = 101,\n",
    "                            step = 25) # The default step size is 1\n",
    "print(nparray_aranged.dtype)\n",
    "nparray_aranged"
   ]
  },
  {
   "cell_type": "code",
   "execution_count": 209,
   "id": "60624f3b-4d6f-4e66-91ce-3699e3acb50c",
   "metadata": {},
   "outputs": [
    {
     "name": "stdout",
     "output_type": "stream",
     "text": [
      "<class 'numpy.ndarray'>\n",
      "nparray_3d.ndim=3\n"
     ]
    },
    {
     "data": {
      "text/plain": [
       "array([[[  1,   2,   3,   4,   5,   6,   7,   8,   9,  10],\n",
       "        [ 11,  12,  13,  14,  15,  16,  17,  18,  19,  20],\n",
       "        [ 21,  22,  23,  24,  25,  26,  27,  28,  29,  30],\n",
       "        [ 31,  32,  33,  34,  35,  36,  37,  38,  39,  40],\n",
       "        [ 41,  42,  43,  44,  45,  46,  47,  48,  49,  50]],\n",
       "\n",
       "       [[ 51,  52,  53,  54,  55,  56,  57,  58,  59,  60],\n",
       "        [ 61,  62,  63,  64,  65,  66,  67,  68,  69,  70],\n",
       "        [ 71,  72,  73,  74,  75,  76,  77,  78,  79,  80],\n",
       "        [ 81,  82,  83,  84,  85,  86,  87,  88,  89,  90],\n",
       "        [ 91,  92,  93,  94,  95,  96,  97,  98,  99, 100]]])"
      ]
     },
     "execution_count": 209,
     "metadata": {},
     "output_type": "execute_result"
    }
   ],
   "source": [
    "nparray_3d = np.arange(1, 101).reshape(2, 5, 10) # creates 3D array\n",
    "print(type(nparray_3d))\n",
    "print(f'{nparray_3d.ndim=}')\n",
    "nparray_3d"
   ]
  },
  {
   "cell_type": "code",
   "execution_count": 10,
   "id": "ee6b2c23-5aa7-4ac2-ac98-88f910cb29c6",
   "metadata": {},
   "outputs": [
    {
     "name": "stdout",
     "output_type": "stream",
     "text": [
      "<class 'numpy.ndarray'>\n",
      "nparray_4d.ndim=4\n"
     ]
    },
    {
     "data": {
      "text/plain": [
       "array([[[[  1,   2,   3,   4,   5],\n",
       "         [  6,   7,   8,   9,  10],\n",
       "         [ 11,  12,  13,  14,  15],\n",
       "         [ 16,  17,  18,  19,  20]],\n",
       "\n",
       "        [[ 21,  22,  23,  24,  25],\n",
       "         [ 26,  27,  28,  29,  30],\n",
       "         [ 31,  32,  33,  34,  35],\n",
       "         [ 36,  37,  38,  39,  40]],\n",
       "\n",
       "        [[ 41,  42,  43,  44,  45],\n",
       "         [ 46,  47,  48,  49,  50],\n",
       "         [ 51,  52,  53,  54,  55],\n",
       "         [ 56,  57,  58,  59,  60]]],\n",
       "\n",
       "\n",
       "       [[[ 61,  62,  63,  64,  65],\n",
       "         [ 66,  67,  68,  69,  70],\n",
       "         [ 71,  72,  73,  74,  75],\n",
       "         [ 76,  77,  78,  79,  80]],\n",
       "\n",
       "        [[ 81,  82,  83,  84,  85],\n",
       "         [ 86,  87,  88,  89,  90],\n",
       "         [ 91,  92,  93,  94,  95],\n",
       "         [ 96,  97,  98,  99, 100]],\n",
       "\n",
       "        [[101, 102, 103, 104, 105],\n",
       "         [106, 107, 108, 109, 110],\n",
       "         [111, 112, 113, 114, 115],\n",
       "         [116, 117, 118, 119, 120]]]])"
      ]
     },
     "execution_count": 10,
     "metadata": {},
     "output_type": "execute_result"
    }
   ],
   "source": [
    "nparray_4d = np.arange(1, 121).reshape(2, 3, 4, 5)\n",
    "print(type(nparray_4d))\n",
    "print(f'{nparray_4d.ndim=}')\n",
    "nparray_4d"
   ]
  },
  {
   "cell_type": "markdown",
   "id": "c5f65c56-e511-4969-a566-9b8f67fcbba3",
   "metadata": {},
   "source": [
    "## 1.5. Create an array using function linspace"
   ]
  },
  {
   "cell_type": "markdown",
   "id": "c8381013",
   "metadata": {},
   "source": [
    "https://numpy.org/doc/stable/reference/generated/numpy.linspace.html"
   ]
  },
  {
   "cell_type": "code",
   "execution_count": 11,
   "id": "b0564323-2eed-4db8-9dea-ae699d3c5ea9",
   "metadata": {},
   "outputs": [
    {
     "data": {
      "text/plain": [
       "array([  0.        ,   4.20833333,   8.41666667,  12.625     ,\n",
       "        16.83333333,  21.04166667,  25.25      ,  29.45833333,\n",
       "        33.66666667,  37.875     ,  42.08333333,  46.29166667,\n",
       "        50.5       ,  54.70833333,  58.91666667,  63.125     ,\n",
       "        67.33333333,  71.54166667,  75.75      ,  79.95833333,\n",
       "        84.16666667,  88.375     ,  92.58333333,  96.79166667,\n",
       "       101.        ])"
      ]
     },
     "execution_count": 11,
     "metadata": {},
     "output_type": "execute_result"
    }
   ],
   "source": [
    "#nparray_linsp = np.linspace(start = 0, stop = 100, num = 5)\n",
    "#nparray_linsp = np.linspace(start = 0, stop = 100, num = 5, dtype = np.int32) # same as previous\n",
    "nparray_linsp = np.linspace(start = 0, stop = 101, num = 25) # num = 25 -> number of elements in the array\n",
    "nparray_linsp # 1D array"
   ]
  },
  {
   "cell_type": "code",
   "execution_count": 214,
   "id": "20246341-e300-4b84-9615-9f20d88af9e1",
   "metadata": {},
   "outputs": [
    {
     "data": {
      "text/plain": [
       "4.208333333333333"
      ]
     },
     "execution_count": 214,
     "metadata": {},
     "output_type": "execute_result"
    }
   ],
   "source": [
    "101/24"
   ]
  },
  {
   "cell_type": "markdown",
   "id": "346efc97",
   "metadata": {},
   "source": [
    "## 1.6. Create an array using function eye"
   ]
  },
  {
   "cell_type": "markdown",
   "id": "2729f589",
   "metadata": {},
   "source": [
    "https://numpy.org/doc/stable/reference/generated/numpy.eye.html"
   ]
  },
  {
   "cell_type": "code",
   "execution_count": 12,
   "id": "8bb6386d",
   "metadata": {},
   "outputs": [
    {
     "data": {
      "text/plain": [
       "array([[1., 0., 0., 0., 0.],\n",
       "       [0., 1., 0., 0., 0.],\n",
       "       [0., 0., 1., 0., 0.],\n",
       "       [0., 0., 0., 1., 0.],\n",
       "       [0., 0., 0., 0., 1.]])"
      ]
     },
     "execution_count": 12,
     "metadata": {},
     "output_type": "execute_result"
    }
   ],
   "source": [
    "np.eye(5) # 2D array with ones on the diagonal and zeros elsewhere. Identity [square] matrix."
   ]
  },
  {
   "cell_type": "markdown",
   "id": "eb8414fb",
   "metadata": {},
   "source": [
    "## 1.7. Create an array using random methods"
   ]
  },
  {
   "cell_type": "markdown",
   "id": "b1c5606c",
   "metadata": {},
   "source": [
    "https://numpy.org/doc/stable/reference/random/index.html"
   ]
  },
  {
   "cell_type": "code",
   "execution_count": 16,
   "id": "b7b54ba4",
   "metadata": {},
   "outputs": [
    {
     "data": {
      "text/plain": [
       "array([[0.65117509, 0.87357348, 0.22449597],\n",
       "       [0.96870344, 0.3581739 , 0.56483053],\n",
       "       [0.63952608, 0.83194617, 0.91971677],\n",
       "       [0.42897035, 0.23580245, 0.47597907],\n",
       "       [0.6483936 , 0.41658459, 0.53546833]])"
      ]
     },
     "execution_count": 16,
     "metadata": {},
     "output_type": "execute_result"
    }
   ],
   "source": [
    "np.random.rand(5, 3) # 2D array with 5 rows and 3 columns.\n",
    "# Unlike for np.zeros, np.ones ... where you defined a tuple to get n-dimensional array, here each parameter is a dimension."
   ]
  },
  {
   "cell_type": "markdown",
   "id": "17f5136b-5f61-476d-b6d1-35360e91e9c3",
   "metadata": {},
   "source": [
    "# 2. Accessing numpy array values"
   ]
  },
  {
   "cell_type": "code",
   "execution_count": 215,
   "id": "98416312-e6d8-42b9-b135-62c1c88241e3",
   "metadata": {},
   "outputs": [
    {
     "name": "stdout",
     "output_type": "stream",
     "text": [
      "[[  1   1   2   3]\n",
      " [  5   8  13  21]\n",
      " [ 34  55  89 144]]\n",
      "[ 5  8 13 21]\n"
     ]
    },
    {
     "data": {
      "text/plain": [
       "numpy.ndarray"
      ]
     },
     "execution_count": 215,
     "metadata": {},
     "output_type": "execute_result"
    }
   ],
   "source": [
    "print(nparray_nested)\n",
    "print(nparray_nested[1])\n",
    "type(nparray_nested[1]) # numpy.ndarray"
   ]
  },
  {
   "cell_type": "code",
   "execution_count": 13,
   "id": "6ac2246f-571d-45f6-9557-0ccf35b5d273",
   "metadata": {},
   "outputs": [
    {
     "name": "stdout",
     "output_type": "stream",
     "text": [
      "21\n"
     ]
    },
    {
     "data": {
      "text/plain": [
       "numpy.int32"
      ]
     },
     "execution_count": 13,
     "metadata": {},
     "output_type": "execute_result"
    }
   ],
   "source": [
    "print(nparray_nested[1][3])\n",
    "type(nparray_nested[1][3]) # numpy.int32"
   ]
  },
  {
   "cell_type": "markdown",
   "id": "dbd32ebf-17d2-4f16-98ec-a63b4eee361b",
   "metadata": {},
   "source": [
    "https://numpy.org/doc/stable/user/absolute_beginners.html"
   ]
  },
  {
   "cell_type": "markdown",
   "id": "6adb47e6-f0d8-41fd-8ef1-74a221e50ae8",
   "metadata": {},
   "source": [
    "# 3. Attributes of an ndarray object"
   ]
  },
  {
   "cell_type": "code",
   "execution_count": 14,
   "id": "aa8e0d4a-8c6a-46e4-8c28-e2c3456d260e",
   "metadata": {},
   "outputs": [
    {
     "name": "stdout",
     "output_type": "stream",
     "text": [
      "(8,)\n",
      "(3, 4)\n"
     ]
    }
   ],
   "source": [
    "# The dimensions of the array\n",
    "print(nparray.shape)\n",
    "print(nparray_nested.shape) # (No of rows, No of columns)"
   ]
  },
  {
   "cell_type": "code",
   "execution_count": 15,
   "id": "a89fd90c-bf8c-40f1-aed1-b2f9da2eba36",
   "metadata": {},
   "outputs": [
    {
     "name": "stdout",
     "output_type": "stream",
     "text": [
      "1\n",
      "2\n"
     ]
    }
   ],
   "source": [
    "# The number of axes (dimensions) of the array\n",
    "print(nparray.ndim)\n",
    "print(nparray_nested.ndim)"
   ]
  },
  {
   "cell_type": "code",
   "execution_count": 16,
   "id": "5e3f395b-7ea7-4d4f-8f33-b0c1eafda61d",
   "metadata": {},
   "outputs": [
    {
     "name": "stdout",
     "output_type": "stream",
     "text": [
      "8\n",
      "12\n",
      "12\n"
     ]
    }
   ],
   "source": [
    "# The total number of elements of the array\n",
    "print(nparray.size)\n",
    "print(nparray_nested.size)\n",
    "print(nparray_nested_nan.size) # NaN values do not impact size"
   ]
  },
  {
   "cell_type": "code",
   "execution_count": 17,
   "id": "ac01393a-2b91-492a-b6e7-e561559829a0",
   "metadata": {},
   "outputs": [
    {
     "name": "stdout",
     "output_type": "stream",
     "text": [
      "int32\n",
      "int32\n",
      "float64\n"
     ]
    }
   ],
   "source": [
    "# An object describing the type of the elements in the array\n",
    "print(nparray.dtype)\n",
    "print(nparray_nested.dtype)\n",
    "print(nparray_nested_nan.dtype)"
   ]
  },
  {
   "cell_type": "code",
   "execution_count": 18,
   "id": "973944bb-9388-48db-b8dd-529c0e504b1e",
   "metadata": {},
   "outputs": [
    {
     "name": "stdout",
     "output_type": "stream",
     "text": [
      "4\n",
      "4\n",
      "8\n"
     ]
    }
   ],
   "source": [
    "# The size in bytes of each element of the array\n",
    "print(nparray.itemsize) # 4 bytes\n",
    "print(nparray_nested.itemsize) # 4 bytes\n",
    "print(nparray_nested_nan.itemsize) # 8 bytes"
   ]
  },
  {
   "cell_type": "code",
   "execution_count": 19,
   "id": "2f946c5a-15c5-4c43-a15d-62b03cde0f58",
   "metadata": {},
   "outputs": [
    {
     "name": "stdout",
     "output_type": "stream",
     "text": [
      "<memory at 0x0000023CCC905C00>\n",
      "<memory at 0x0000023CCB8835E0>\n",
      "<memory at 0x0000023CCB8835E0>\n"
     ]
    }
   ],
   "source": [
    "# The buffer containing the actual elements of the array\n",
    "print(nparray.data)\n",
    "print(nparray_nested.data)\n",
    "print(nparray_nested_nan.data)"
   ]
  },
  {
   "cell_type": "markdown",
   "id": "d294c758-8b0d-46cc-8f5d-5049c50bc999",
   "metadata": {},
   "source": [
    "# 4. Change array\n",
    "## 4.1. Sorting"
   ]
  },
  {
   "cell_type": "code",
   "execution_count": null,
   "id": "d865ba91-e867-451c-adb9-57e5cf5c2254",
   "metadata": {},
   "outputs": [],
   "source": [
    "help(np.sort)"
   ]
  },
  {
   "cell_type": "code",
   "execution_count": 218,
   "id": "606a949a-4986-4d67-966c-8f5b219ae17d",
   "metadata": {},
   "outputs": [
    {
     "name": "stdout",
     "output_type": "stream",
     "text": [
      "[20 19 18 17 16 15 14 13 12 11 10  9  8  7  6  5  4  3  2  1]\n"
     ]
    },
    {
     "data": {
      "text/plain": [
       "array([20, 19, 18, 17, 16, 15, 14, 13, 12, 11, 10,  9,  8,  7,  6,  5,  4,\n",
       "        3,  2,  1])"
      ]
     },
     "execution_count": 218,
     "metadata": {},
     "output_type": "execute_result"
    }
   ],
   "source": [
    "# sort(a, axis=-1, kind=None, order=None)\n",
    "    # axis: Axis along which to sort.\n",
    "    # kind: {'quicksort', 'mergesort', 'heapsort', 'stable'}\n",
    "    # order: \n",
    "nparray1 = np.arange(20,0,-1)\n",
    "print(nparray1)\n",
    "np.sort(nparray1) # do not sort in-place (use np.ndarray.sort for in-place sorting or see bellow)\n",
    "#nparray1.sort() # sort an array in-place\n",
    "#print(nparray1)\n",
    "#print(np.sort(nparray1))\n",
    "nparray1"
   ]
  },
  {
   "cell_type": "code",
   "execution_count": 80,
   "id": "ab63ef99-e1fa-477c-bdcb-8b5f960ef1d0",
   "metadata": {},
   "outputs": [
    {
     "name": "stdout",
     "output_type": "stream",
     "text": [
      "[ 4  4  5  1  0 -4 22  9]\n",
      "[-4  0  1  4  4  5  9 22]\n"
     ]
    }
   ],
   "source": [
    "# Sort an array in-place\n",
    "nparray2 = np.array([4, 4, 5, 1, 0, -4, 22, 9])\n",
    "np.sort(nparray2)\n",
    "print(nparray2)\n",
    "np.ndarray.sort(nparray2) # or\n",
    "#nparray2.sort()\n",
    "print(nparray2)"
   ]
  },
  {
   "cell_type": "code",
   "execution_count": 224,
   "id": "f0ac5600-b881-4927-a52a-2b588a1436d0",
   "metadata": {},
   "outputs": [
    {
     "name": "stdout",
     "output_type": "stream",
     "text": [
      "[[ 5  3  9]\n",
      " [12  0 22]\n",
      " [54 12  9]\n",
      " [ 1  5 22]]\n",
      "(4, 3)\n",
      "sort nparray_2D\n",
      "[[ 1  0  9]\n",
      " [ 5  3  9]\n",
      " [12  5 22]\n",
      " [54 12 22]]\n",
      "sort nparray_2D_nan\n",
      "[[ 1.  0.  9.]\n",
      " [ 5.  3. 22.]\n",
      " [12.  5. 22.]\n",
      " [nan 12. nan]]\n",
      "[[[  1   2   3   4   5   6   7   8   9  10]\n",
      "  [ 11  12  13  14  15  16  17  18  19  20]\n",
      "  [ 21  22  23  24  25  26  27  28  29  30]\n",
      "  [ 31  32  33  34  35  36  37  38  39  40]\n",
      "  [ 41  42  43  44  45  46  47  48  49  50]]\n",
      "\n",
      " [[ 51  52  53  54  55  56  57  58  59  60]\n",
      "  [ 61  62  63  64  65  66  67  68  69  70]\n",
      "  [ 71  72  73  74  75  76  77  78  79  80]\n",
      "  [ 81  82  83  84  85  86  87  88  89  90]\n",
      "  [ 91  92  93  94  95  96  97  98  99 100]]]\n",
      "[[[  1   2   3   4   5   6   7   8   9  10]\n",
      "  [ 11  12  13  14  15  16  17  18  19  20]\n",
      "  [ 21  22  23  24  25  26  27  28  29  30]\n",
      "  [ 31  32  33  34  35  36  37  38  39  40]\n",
      "  [ 41  42  43  44  45  46  47  48  49  50]]\n",
      "\n",
      " [[ 51  52  53  54  55  56  57  58  59  60]\n",
      "  [ 61  62  63  64  65  66  67  68  69  70]\n",
      "  [ 71  72  73  74  75  76  77  78  79  80]\n",
      "  [ 81  82  83  84  85  86  87  88  89  90]\n",
      "  [ 91  92  93  94  95  96  97  98  99 100]]]\n"
     ]
    }
   ],
   "source": [
    "# Sorting, defining axis\n",
    "nparray_2D  = np.array([[5, 3, 9], [12, 0, 22], [54, 12, 9], [1, 5, 22]])\n",
    "nparray_2D_nan  = np.array([[5, 3, np.nan], [12, 0, 22], [np.nan, 12, 9], [1, 5, 22]])\n",
    "print(nparray_2D)\n",
    "print(nparray_2D.shape)\n",
    "print('sort nparray_2D')\n",
    "print(np.sort(nparray_2D, axis = 0))\n",
    "print('sort nparray_2D_nan')\n",
    "print(np.sort(nparray_2D_nan, axis = 0))\n",
    "\n",
    "print(np.sort(nparray_3d, axis = -1)) # sort by last dim\n",
    "print(np.sort(nparray_3d)) # same as prev\n"
   ]
  },
  {
   "cell_type": "code",
   "execution_count": 62,
   "id": "c60d85e8-bc26-4526-bc47-ef99a4fe3087",
   "metadata": {},
   "outputs": [
    {
     "name": "stdout",
     "output_type": "stream",
     "text": [
      "[[ 0  1  3]\n",
      " [ 5  5  9]\n",
      " [ 9 12 12]\n",
      " [22 22 54]]\n"
     ]
    }
   ],
   "source": [
    "# Sort all 2D elements in ASC order\n",
    "nparray_2D_v2 = np.sort(nparray_2D.flatten()).reshape(4, 3) # flatten converts 2D into 1D\n",
    "print(nparray_2D_v2)"
   ]
  },
  {
   "cell_type": "code",
   "execution_count": 232,
   "id": "28e044e2-3584-46b1-a566-574203429c00",
   "metadata": {},
   "outputs": [
    {
     "name": "stdout",
     "output_type": "stream",
     "text": [
      "1D option 1: minus\n",
      "[10  9  8  7  6  5  4  3  2  1]\n",
      "1D option 2: [::-1]\n",
      "[10  9  8  7  6  5  4  3  2  1]\n",
      "1D option 3: flip\n",
      "[10  9  8  7  6  5  4  3  2  1]\n",
      "[5 4 4 3 2 1 1]\n"
     ]
    }
   ],
   "source": [
    "# Descending order\n",
    "\n",
    "print('1D option 1: minus')\n",
    "#print(nparray_3d[0][0])\n",
    "print(-np.sort(-nparray_3d[0][0]))\n",
    "print('1D option 2: [::-1]')\n",
    "print(np.sort(nparray_3d[0][0])[::-1])\n",
    "print('1D option 3: flip')\n",
    "print(np.flip(nparray_3d[0][0])) # \n",
    "c = np.sort(np.array([1,2,4,4,3,1,5]))\n",
    "print(np.flip(c))"
   ]
  },
  {
   "cell_type": "code",
   "execution_count": 238,
   "id": "86c5849f-79b4-43c8-9c87-6e4bb3003ea8",
   "metadata": {},
   "outputs": [
    {
     "name": "stdout",
     "output_type": "stream",
     "text": [
      "(2, 5, 10)\n",
      "[[[  1   2   3   4   5   6   7   8   9  10]\n",
      "  [ 11  12  13  14  15  16  17  18  19  20]\n",
      "  [ 21  22  23  24  25  26  27  28  29  30]\n",
      "  [ 31  32  33  34  35  36  37  38  39  40]\n",
      "  [ 41  42  43  44  45  46  47  48  49  50]]\n",
      "\n",
      " [[ 51  52  53  54  55  56  57  58  59  60]\n",
      "  [ 61  62  63  64  65  66  67  68  69  70]\n",
      "  [ 71  72  73  74  75  76  77  78  79  80]\n",
      "  [ 81  82  83  84  85  86  87  88  89  90]\n",
      "  [ 91  92  93  94  95  96  97  98  99 100]]]\n",
      "3D option 1: minus\n",
      "[[[ 41  42  43  44  45  46  47  48  49  50]\n",
      "  [ 31  32  33  34  35  36  37  38  39  40]\n",
      "  [ 21  22  23  24  25  26  27  28  29  30]\n",
      "  [ 11  12  13  14  15  16  17  18  19  20]\n",
      "  [  1   2   3   4   5   6   7   8   9  10]]\n",
      "\n",
      " [[ 91  92  93  94  95  96  97  98  99 100]\n",
      "  [ 81  82  83  84  85  86  87  88  89  90]\n",
      "  [ 71  72  73  74  75  76  77  78  79  80]\n",
      "  [ 61  62  63  64  65  66  67  68  69  70]\n",
      "  [ 51  52  53  54  55  56  57  58  59  60]]]\n",
      "3D option 2: [::-1]\n",
      "[[[ 41  42  43  44  45  46  47  48  49  50]\n",
      "  [ 31  32  33  34  35  36  37  38  39  40]\n",
      "  [ 21  22  23  24  25  26  27  28  29  30]\n",
      "  [ 11  12  13  14  15  16  17  18  19  20]\n",
      "  [  1   2   3   4   5   6   7   8   9  10]]\n",
      "\n",
      " [[ 91  92  93  94  95  96  97  98  99 100]\n",
      "  [ 81  82  83  84  85  86  87  88  89  90]\n",
      "  [ 71  72  73  74  75  76  77  78  79  80]\n",
      "  [ 61  62  63  64  65  66  67  68  69  70]\n",
      "  [ 51  52  53  54  55  56  57  58  59  60]]]\n",
      "3D option 3: flip\n",
      "[[[ 41  42  43  44  45  46  47  48  49  50]\n",
      "  [ 31  32  33  34  35  36  37  38  39  40]\n",
      "  [ 21  22  23  24  25  26  27  28  29  30]\n",
      "  [ 11  12  13  14  15  16  17  18  19  20]\n",
      "  [  1   2   3   4   5   6   7   8   9  10]]\n",
      "\n",
      " [[ 91  92  93  94  95  96  97  98  99 100]\n",
      "  [ 81  82  83  84  85  86  87  88  89  90]\n",
      "  [ 71  72  73  74  75  76  77  78  79  80]\n",
      "  [ 61  62  63  64  65  66  67  68  69  70]\n",
      "  [ 51  52  53  54  55  56  57  58  59  60]]]\n"
     ]
    }
   ],
   "source": [
    "print(nparray_3d.shape)\n",
    "#print(type(nparray_3d))\n",
    "#nparray_3d[0][0][0] = 1\n",
    "print(nparray_3d)\n",
    "\n",
    "print('3D option 1: minus')\n",
    "print(-np.sort(-nparray_3d, axis = 1))\n",
    "print('3D option 2: [::-1]')\n",
    "print(np.sort(nparray_3d, axis = 1)[:,::-1,:])\n",
    "print('3D option 3: flip')\n",
    "print(np.flip(nparray_3d, axis = 1)) # use axis to sort particular axis"
   ]
  },
  {
   "cell_type": "markdown",
   "id": "95ea2b6a-e53e-4fcd-95e8-ea55c255429d",
   "metadata": {},
   "source": [
    "## 4.2. Reshape"
   ]
  },
  {
   "cell_type": "code",
   "execution_count": null,
   "id": "86addaa2-56e4-4c3f-be91-f1ddb09a40ac",
   "metadata": {},
   "outputs": [],
   "source": [
    "help(np.reshape)\n",
    "# reshape(a, newshape, order='C')\n",
    "    # order: {'C', 'F', 'A'}"
   ]
  },
  {
   "cell_type": "code",
   "execution_count": 126,
   "id": "7a667903-ee78-4727-985d-2d712500c831",
   "metadata": {},
   "outputs": [
    {
     "name": "stdout",
     "output_type": "stream",
     "text": [
      "[0 1 2 3 4 5 6 7 8 9]\n",
      "2\n",
      "[[0 1 2 3 4]\n",
      " [5 6 7 8 9]]\n"
     ]
    }
   ],
   "source": [
    "nparr1 = np.arange(10)\n",
    "print(nparr1)\n",
    "nparr2D = nparr1.reshape(2, 5)\n",
    "print(nparr2D.ndim)\n",
    "print(nparr2D)"
   ]
  },
  {
   "cell_type": "code",
   "execution_count": 240,
   "id": "b679f21e-4880-43c6-a03f-b2e98313f5d0",
   "metadata": {},
   "outputs": [
    {
     "name": "stdout",
     "output_type": "stream",
     "text": [
      "1\n",
      "[0 1 2 3 4 5 6 7 8 9]\n",
      "[[0 1]\n",
      " [2 3]\n",
      " [4 5]\n",
      " [6 7]\n",
      " [8 9]]\n"
     ]
    }
   ],
   "source": [
    "nparr2 = np.reshape(a = nparr2D, newshape = (10,))\n",
    "print(nparr2.ndim)\n",
    "print(nparr2)\n",
    "print(np.reshape(a = nparr2D, newshape = (5, 2)))"
   ]
  },
  {
   "cell_type": "markdown",
   "id": "34a6ceb2-3c74-42d1-a4aa-1cc26e339f36",
   "metadata": {},
   "source": [
    "# 5. Math operations"
   ]
  },
  {
   "cell_type": "code",
   "execution_count": 144,
   "id": "8cb2fcbb-091a-4df8-b578-786f836ba4d8",
   "metadata": {},
   "outputs": [
    {
     "name": "stdout",
     "output_type": "stream",
     "text": [
      "mat1\n",
      "[[0 1 2 3 4]\n",
      " [5 6 7 8 9]]\n",
      "mat2\n",
      "[[0 1]\n",
      " [2 3]\n",
      " [4 5]\n",
      " [6 7]\n",
      " [8 9]]\n",
      "mat3\n",
      "[[15 16 17 18 19]\n",
      " [20 21 22 23 24]]\n",
      "mat4\n",
      "[[ 0  2]\n",
      " [ 5 10]]\n",
      "mat5\n",
      "[[ 7  3]\n",
      " [ 5 13]]\n"
     ]
    }
   ],
   "source": [
    "mat1 = np.arange(10).reshape(2, 5)\n",
    "mat2 = np.arange(10).reshape(5, 2)\n",
    "mat3 = np.arange(15, 25).reshape(2, 5)\n",
    "mat4 = np.array([[0, 2], [5, 10]])\n",
    "mat5 = np.array([[7, 3], [5, 13]])\n",
    "print('mat1')\n",
    "print(mat1)\n",
    "print('mat2')\n",
    "print(mat2)\n",
    "print('mat3')\n",
    "print(mat3)\n",
    "print('mat4')\n",
    "print(mat4)\n",
    "print('mat5')\n",
    "print(mat5)"
   ]
  },
  {
   "cell_type": "code",
   "execution_count": 183,
   "id": "0cef1531-ed34-427b-b814-8de60a62c0f4",
   "metadata": {},
   "outputs": [
    {
     "data": {
      "text/plain": [
       "array([[ 0,  5, 10, 15, 20],\n",
       "       [25, 30, 35, 40, 45]])"
      ]
     },
     "execution_count": 183,
     "metadata": {},
     "output_type": "execute_result"
    }
   ],
   "source": [
    "mat1 * 5"
   ]
  },
  {
   "cell_type": "code",
   "execution_count": 184,
   "id": "f2a22f4d-526b-4678-a02c-95108d1d0a73",
   "metadata": {},
   "outputs": [
    {
     "data": {
      "text/plain": [
       "array([[ 5.5,  6.5,  7.5,  8.5,  9.5],\n",
       "       [10.5, 11.5, 12.5, 13.5, 14.5]])"
      ]
     },
     "execution_count": 184,
     "metadata": {},
     "output_type": "execute_result"
    }
   ],
   "source": [
    "mat1 + 5.5"
   ]
  },
  {
   "cell_type": "code",
   "execution_count": 189,
   "id": "ff6cdbb7-f693-4282-bfdf-c02ccf40fa86",
   "metadata": {},
   "outputs": [
    {
     "name": "stdout",
     "output_type": "stream",
     "text": [
      "mat1 + mat3\n",
      "mat1.shape=(2, 5), mat2.shape=(5, 2) and mat3.shape=(2, 5)\n",
      "[[15 17 19 21 23]\n",
      " [25 27 29 31 33]]\n"
     ]
    }
   ],
   "source": [
    "print('mat1 + mat3')\n",
    "print(f'{mat1.shape=}, {mat2.shape=} and {mat3.shape=}')\n",
    "print(mat1 + mat3)\n",
    "\n",
    "#print(mat1 + mat2) # ValueError: operands could not be broadcast together with shapes (2,5) (5,2) "
   ]
  },
  {
   "cell_type": "code",
   "execution_count": 242,
   "id": "ee1f5716-f8d5-4a51-90c6-3832088e1348",
   "metadata": {},
   "outputs": [
    {
     "name": "stdout",
     "output_type": "stream",
     "text": [
      "mat1 * mat3\n",
      "[[  0  16  34  54  76]\n",
      " [100 126 154 184 216]]\n",
      "mat4 * mat5\n",
      "[[  0   6]\n",
      " [ 25 130]]\n",
      "dot product: mat4 and mat5\n",
      "[[ 10  26]\n",
      " [ 85 145]]\n",
      "dot product: mat1 and mat2\n",
      "[[ 60  70]\n",
      " [160 195]]\n",
      "dot product: mat2 and mat1\n",
      "[[  5   6   7   8   9]\n",
      " [ 15  20  25  30  35]\n",
      " [ 25  34  43  52  61]\n",
      " [ 35  48  61  74  87]\n",
      " [ 45  62  79  96 113]]\n"
     ]
    }
   ],
   "source": [
    "print('mat1 * mat3')\n",
    "print(mat1 * mat3)\n",
    "#print(np.dot(a = mat1, b = mat3)) # ValueError: shapes (2,5) and (2,5) not aligned: 5 (dim 1) != 2 (dim 0)\n",
    "\n",
    "print('mat4 * mat5')\n",
    "print(mat4 * mat5)\n",
    "\n",
    "print('dot product: mat4 and mat5')\n",
    "print(np.dot(a = mat4, b = mat5))\n",
    "\n",
    "print('dot product: mat1 and mat2')\n",
    "print(np.dot(a = mat1, b = mat2))\n",
    "\n",
    "print('dot product: mat2 and mat1')\n",
    "print(np.dot(a = mat2, b = mat1))"
   ]
  },
  {
   "cell_type": "code",
   "execution_count": 245,
   "id": "d02c559c-916d-41ba-a8ad-319748b4be43",
   "metadata": {},
   "outputs": [
    {
     "name": "stdout",
     "output_type": "stream",
     "text": [
      "[[0 1 2 3 4]\n",
      " [5 6 7 8 9]]\n",
      "45\n",
      "sum array elements: axis = 0\n",
      "[ 5  7  9 11 13]\n",
      "sum array elements: axis = 1\n",
      "[10 35]\n",
      "sum 3D array elements: axis = 1\n",
      "[[[  1   2   3   4   5   6   7   8   9  10]\n",
      "  [ 11  12  13  14  15  16  17  18  19  20]\n",
      "  [ 21  22  23  24  25  26  27  28  29  30]\n",
      "  [ 31  32  33  34  35  36  37  38  39  40]\n",
      "  [ 41  42  43  44  45  46  47  48  49  50]]\n",
      "\n",
      " [[ 51  52  53  54  55  56  57  58  59  60]\n",
      "  [ 61  62  63  64  65  66  67  68  69  70]\n",
      "  [ 71  72  73  74  75  76  77  78  79  80]\n",
      "  [ 81  82  83  84  85  86  87  88  89  90]\n",
      "  [ 91  92  93  94  95  96  97  98  99 100]]]\n",
      "[[105 110 115 120 125 130 135 140 145 150]\n",
      " [355 360 365 370 375 380 385 390 395 400]]\n",
      "[[105 110 115 120 125 130 135 140 145 150]\n",
      " [355 360 365 370 375 380 385 390 395 400]]\n"
     ]
    }
   ],
   "source": [
    "print(mat1)\n",
    "print(mat1.sum())\n",
    "print('sum array elements: axis = 0')\n",
    "print(mat1.sum(axis = 0)) # 1D\n",
    "print('sum array elements: axis = 1')\n",
    "print(mat1.sum(axis = 1)) # 1D\n",
    "print('sum 3D array elements: axis = 1')\n",
    "print(nparray_3d)\n",
    "print(nparray_3d.sum(axis = 1)) # 2D\n",
    "# Same as\n",
    "#print(nparray_3d[0])\n",
    "a = nparray_3d[0].sum(axis = 0)\n",
    "b = nparray_3d[1].sum(axis = 0)\n",
    "print(np.concatenate((a, b)).reshape(2,10))"
   ]
  },
  {
   "cell_type": "code",
   "execution_count": 193,
   "id": "8438dfe9-66c9-4057-9482-1b9c6001ac44",
   "metadata": {},
   "outputs": [
    {
     "name": "stdout",
     "output_type": "stream",
     "text": [
      "[150 400]\n"
     ]
    }
   ],
   "source": [
    "print(nparray_3d.sum(axis = 1).max(axis=1))"
   ]
  },
  {
   "cell_type": "code",
   "execution_count": null,
   "id": "1a0cac0b-365a-478a-8c8f-28d13d4ada92",
   "metadata": {},
   "outputs": [],
   "source": []
  }
 ],
 "metadata": {
  "kernelspec": {
   "display_name": "Python 3 (ipykernel)",
   "language": "python",
   "name": "python3"
  },
  "language_info": {
   "codemirror_mode": {
    "name": "ipython",
    "version": 3
   },
   "file_extension": ".py",
   "mimetype": "text/x-python",
   "name": "python",
   "nbconvert_exporter": "python",
   "pygments_lexer": "ipython3",
   "version": "3.10.2"
  }
 },
 "nbformat": 4,
 "nbformat_minor": 5
}

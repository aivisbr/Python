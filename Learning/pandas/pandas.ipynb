{
 "cells": [
  {
   "cell_type": "markdown",
   "id": "b0f6a580-9ffa-4fbc-a9aa-46a3b04e0940",
   "metadata": {},
   "source": [
    "# Pandas training"
   ]
  },
  {
   "cell_type": "markdown",
   "id": "b4c0d335-266d-4a79-97f5-c65d0795f5db",
   "metadata": {},
   "source": [
    "Before you work with pandas library, you need to install following Python packages - <strong>pandas</strong>, <strong>openpyxl</strong> (to export data to Excel), <strong>sqlalchemy</strong> and <strong>cx_Oracle</strong> (to create the engine to connect to the database), <strong>bs4</strong>, <strong>lxml</strong>, <strong>html5lib</strong> (loading data from web)"
   ]
  },
  {
   "cell_type": "code",
   "execution_count": 1,
   "id": "75a9889e-10a3-483b-8b2a-c1d5c98f5307",
   "metadata": {},
   "outputs": [],
   "source": [
    "import pandas as pd\n",
    "from sqlalchemy import create_engine # to connect to the Oracle DB\n",
    "import getpass # Python's standard library"
   ]
  },
  {
   "cell_type": "markdown",
   "id": "df1f3b6e-42c1-484c-a718-267b5195b491",
   "metadata": {},
   "source": [
    "# Reading files\n",
    "Additional source: https://pandas.pydata.org/docs/getting_started/intro_tutorials/02_read_write.html.<br/>\n",
    "Two types of objects:\n",
    "* DataFrame\n",
    "* Series"
   ]
  },
  {
   "cell_type": "markdown",
   "id": "88cdb235-aae3-4bb5-99bd-1b3200fd2750",
   "metadata": {},
   "source": [
    "## read_csv function"
   ]
  },
  {
   "cell_type": "code",
   "execution_count": 2,
   "id": "45d8be18-6c6d-404e-b8c4-7333bc65e102",
   "metadata": {},
   "outputs": [
    {
     "name": "stdout",
     "output_type": "stream",
     "text": [
      "type(df_vakances_raw)=<class 'pandas.core.frame.DataFrame'>\n"
     ]
    }
   ],
   "source": [
    "df_vakances_raw = pd.read_csv(filepath_or_buffer='vakances-2022-05-04.csv')\n",
    "print(f\"{type(df_vakances_raw)=}\")"
   ]
  },
  {
   "cell_type": "markdown",
   "id": "bba0c42b-041b-4321-b969-deaf2e8a917d",
   "metadata": {},
   "source": [
    "## read_excel function"
   ]
  },
  {
   "cell_type": "code",
   "execution_count": 3,
   "id": "716d147c-5bb6-4bfa-8403-21c782f50bfb",
   "metadata": {},
   "outputs": [
    {
     "name": "stdout",
     "output_type": "stream",
     "text": [
      "df_xlsx_vakances.shape=(1478, 14)\n"
     ]
    }
   ],
   "source": [
    "df_xlsx_vakances = pd.read_excel(io='vakances-2022-05-04.xlsx')\n",
    "print(f\"{df_xlsx_vakances.shape=}\")"
   ]
  },
  {
   "cell_type": "markdown",
   "id": "9774df43-8f53-4b14-8967-6603c8f865a4",
   "metadata": {},
   "source": [
    "## read_sql function\n",
    "Engines: https://docs.sqlalchemy.org/en/14/core/engines.html"
   ]
  },
  {
   "cell_type": "code",
   "execution_count": 7,
   "id": "62717b36-5203-45e6-8df9-320848252431",
   "metadata": {},
   "outputs": [
    {
     "name": "stdin",
     "output_type": "stream",
     "text": [
      "Enter password to connect to the db_name database:  ····\n"
     ]
    }
   ],
   "source": [
    "ci = {\"user\":\"user_name\", \"host\":\"hostname\", \"port\":1521, \"database\":\"db_name\"}\n",
    "psw = getpass.getpass(f'Enter password to connect to the {ci[\"database\"]} database: ')  \n",
    "o_engine = create_engine(f'oracle://{ci[\"user\"]}:{psw}@{ci[\"host\"]}:{ci[\"port\"]}/{ci[\"database\"]}') # need also cx_Oracle package"
   ]
  },
  {
   "cell_type": "code",
   "execution_count": 6,
   "id": "0cb4a19b-662c-471b-a657-a43d3f00bbff",
   "metadata": {},
   "outputs": [
    {
     "name": "stdout",
     "output_type": "stream",
     "text": [
      "<class 'pandas.core.frame.DataFrame'>\n",
      "RangeIndex: 1272 entries, 0 to 1271\n",
      "Columns: 126 entries, d_date to dt_created\n",
      "dtypes: datetime64[ns](3), float64(28), int64(43), object(52)\n",
      "memory usage: 1.2+ MB\n",
      "None\n"
     ]
    }
   ],
   "source": [
    "df_db_sample = pd.read_sql(sql=\"\"\"\n",
    "    SELECT *\n",
    "    FROM SCHEMA.TABLE_NAME\n",
    "    WHERE DATE_COLUMN >= SYSDATE - 7\n",
    "    ORDER BY DATE_COLUMN, COL1, COL2 \n",
    "    \"\"\",\n",
    "    con=o_engine)\n",
    "\n",
    "print(df_db_sample.info()) # Liela saraksta gadījumā nerāda katras kolonnas info."
   ]
  },
  {
   "cell_type": "markdown",
   "id": "f4f46d43-7ef8-46bb-a3ab-96a2ef748083",
   "metadata": {},
   "source": [
    "## read_json function"
   ]
  },
  {
   "cell_type": "code",
   "execution_count": 8,
   "id": "41195a54-a168-4287-bb96-8a9feb022b57",
   "metadata": {},
   "outputs": [
    {
     "data": {
      "text/html": [
       "<div>\n",
       "<style scoped>\n",
       "    .dataframe tbody tr th:only-of-type {\n",
       "        vertical-align: middle;\n",
       "    }\n",
       "\n",
       "    .dataframe tbody tr th {\n",
       "        vertical-align: top;\n",
       "    }\n",
       "\n",
       "    .dataframe thead th {\n",
       "        text-align: right;\n",
       "    }\n",
       "</style>\n",
       "<table border=\"1\" class=\"dataframe\">\n",
       "  <thead>\n",
       "    <tr style=\"text-align: right;\">\n",
       "      <th></th>\n",
       "      <th>userId</th>\n",
       "      <th>id</th>\n",
       "      <th>title</th>\n",
       "      <th>completed</th>\n",
       "    </tr>\n",
       "  </thead>\n",
       "  <tbody>\n",
       "    <tr>\n",
       "      <th>0</th>\n",
       "      <td>1</td>\n",
       "      <td>1</td>\n",
       "      <td>delectus aut autem</td>\n",
       "      <td>False</td>\n",
       "    </tr>\n",
       "    <tr>\n",
       "      <th>1</th>\n",
       "      <td>1</td>\n",
       "      <td>2</td>\n",
       "      <td>quis ut nam facilis et officia qui</td>\n",
       "      <td>False</td>\n",
       "    </tr>\n",
       "    <tr>\n",
       "      <th>2</th>\n",
       "      <td>1</td>\n",
       "      <td>3</td>\n",
       "      <td>fugiat veniam minus</td>\n",
       "      <td>False</td>\n",
       "    </tr>\n",
       "    <tr>\n",
       "      <th>3</th>\n",
       "      <td>1</td>\n",
       "      <td>4</td>\n",
       "      <td>et porro tempora</td>\n",
       "      <td>True</td>\n",
       "    </tr>\n",
       "    <tr>\n",
       "      <th>4</th>\n",
       "      <td>1</td>\n",
       "      <td>5</td>\n",
       "      <td>laboriosam mollitia et enim quasi adipisci qui...</td>\n",
       "      <td>False</td>\n",
       "    </tr>\n",
       "    <tr>\n",
       "      <th>...</th>\n",
       "      <td>...</td>\n",
       "      <td>...</td>\n",
       "      <td>...</td>\n",
       "      <td>...</td>\n",
       "    </tr>\n",
       "    <tr>\n",
       "      <th>195</th>\n",
       "      <td>10</td>\n",
       "      <td>196</td>\n",
       "      <td>consequuntur aut ut fugit similique</td>\n",
       "      <td>True</td>\n",
       "    </tr>\n",
       "    <tr>\n",
       "      <th>196</th>\n",
       "      <td>10</td>\n",
       "      <td>197</td>\n",
       "      <td>dignissimos quo nobis earum saepe</td>\n",
       "      <td>True</td>\n",
       "    </tr>\n",
       "    <tr>\n",
       "      <th>197</th>\n",
       "      <td>10</td>\n",
       "      <td>198</td>\n",
       "      <td>quis eius est sint explicabo</td>\n",
       "      <td>True</td>\n",
       "    </tr>\n",
       "    <tr>\n",
       "      <th>198</th>\n",
       "      <td>10</td>\n",
       "      <td>199</td>\n",
       "      <td>numquam repellendus a magnam</td>\n",
       "      <td>True</td>\n",
       "    </tr>\n",
       "    <tr>\n",
       "      <th>199</th>\n",
       "      <td>10</td>\n",
       "      <td>200</td>\n",
       "      <td>ipsam aperiam voluptates qui</td>\n",
       "      <td>False</td>\n",
       "    </tr>\n",
       "  </tbody>\n",
       "</table>\n",
       "<p>200 rows × 4 columns</p>\n",
       "</div>"
      ],
      "text/plain": [
       "     userId   id                                              title  completed\n",
       "0         1    1                                 delectus aut autem      False\n",
       "1         1    2                 quis ut nam facilis et officia qui      False\n",
       "2         1    3                                fugiat veniam minus      False\n",
       "3         1    4                                   et porro tempora       True\n",
       "4         1    5  laboriosam mollitia et enim quasi adipisci qui...      False\n",
       "..      ...  ...                                                ...        ...\n",
       "195      10  196                consequuntur aut ut fugit similique       True\n",
       "196      10  197                  dignissimos quo nobis earum saepe       True\n",
       "197      10  198                       quis eius est sint explicabo       True\n",
       "198      10  199                       numquam repellendus a magnam       True\n",
       "199      10  200                       ipsam aperiam voluptates qui      False\n",
       "\n",
       "[200 rows x 4 columns]"
      ]
     },
     "execution_count": 8,
     "metadata": {},
     "output_type": "execute_result"
    }
   ],
   "source": [
    "dfjson = pd.read_json(\"https://jsonplaceholder.typicode.com/todos\")\n",
    "dfjson"
   ]
  },
  {
   "cell_type": "code",
   "execution_count": 15,
   "id": "682192a5-2a68-4679-82da-002656b97eb1",
   "metadata": {},
   "outputs": [
    {
     "data": {
      "text/html": [
       "<div>\n",
       "<style scoped>\n",
       "    .dataframe tbody tr th:only-of-type {\n",
       "        vertical-align: middle;\n",
       "    }\n",
       "\n",
       "    .dataframe tbody tr th {\n",
       "        vertical-align: top;\n",
       "    }\n",
       "\n",
       "    .dataframe thead th {\n",
       "        text-align: right;\n",
       "    }\n",
       "</style>\n",
       "<table border=\"1\" class=\"dataframe\">\n",
       "  <thead>\n",
       "    <tr style=\"text-align: right;\">\n",
       "      <th></th>\n",
       "      <th>Name</th>\n",
       "      <th>Population density(/km2)</th>\n",
       "      <th>Area(km2)</th>\n",
       "      <th>Population</th>\n",
       "    </tr>\n",
       "  </thead>\n",
       "  <tbody>\n",
       "    <tr>\n",
       "      <th>0</th>\n",
       "      <td>Monaco</td>\n",
       "      <td>18960.0</td>\n",
       "      <td>2.02</td>\n",
       "      <td>38300</td>\n",
       "    </tr>\n",
       "    <tr>\n",
       "      <th>1</th>\n",
       "      <td>Gibraltar (UK)</td>\n",
       "      <td>5011.0</td>\n",
       "      <td>6.7</td>\n",
       "      <td>33573</td>\n",
       "    </tr>\n",
       "    <tr>\n",
       "      <th>2</th>\n",
       "      <td>Vatican City</td>\n",
       "      <td>1684.0</td>\n",
       "      <td>0.49[a]</td>\n",
       "      <td>825</td>\n",
       "    </tr>\n",
       "    <tr>\n",
       "      <th>3</th>\n",
       "      <td>Malta</td>\n",
       "      <td>1505.0</td>\n",
       "      <td>316</td>\n",
       "      <td>475701</td>\n",
       "    </tr>\n",
       "    <tr>\n",
       "      <th>4</th>\n",
       "      <td>Guernsey (UK)</td>\n",
       "      <td>955.0</td>\n",
       "      <td>65</td>\n",
       "      <td>62063</td>\n",
       "    </tr>\n",
       "    <tr>\n",
       "      <th>...</th>\n",
       "      <td>...</td>\n",
       "      <td>...</td>\n",
       "      <td>...</td>\n",
       "      <td>...</td>\n",
       "    </tr>\n",
       "    <tr>\n",
       "      <th>56</th>\n",
       "      <td>Finland</td>\n",
       "      <td>16.0</td>\n",
       "      <td>338424</td>\n",
       "      <td>5521533</td>\n",
       "    </tr>\n",
       "    <tr>\n",
       "      <th>57</th>\n",
       "      <td>Norway</td>\n",
       "      <td>14.0</td>\n",
       "      <td>385203</td>\n",
       "      <td>5323933</td>\n",
       "    </tr>\n",
       "    <tr>\n",
       "      <th>58</th>\n",
       "      <td>Kazakhstan (European part)</td>\n",
       "      <td>5.5</td>\n",
       "      <td>148000</td>\n",
       "      <td>813621</td>\n",
       "    </tr>\n",
       "    <tr>\n",
       "      <th>59</th>\n",
       "      <td>Iceland</td>\n",
       "      <td>3.5</td>\n",
       "      <td>102775</td>\n",
       "      <td>355620</td>\n",
       "    </tr>\n",
       "    <tr>\n",
       "      <th>60</th>\n",
       "      <td>Total</td>\n",
       "      <td>73.0</td>\n",
       "      <td>10160000</td>\n",
       "      <td>740000000</td>\n",
       "    </tr>\n",
       "  </tbody>\n",
       "</table>\n",
       "<p>61 rows × 4 columns</p>\n",
       "</div>"
      ],
      "text/plain": [
       "                          Name  Population density(/km2) Area(km2)  Population\n",
       "0                       Monaco                   18960.0      2.02       38300\n",
       "1               Gibraltar (UK)                    5011.0       6.7       33573\n",
       "2                 Vatican City                    1684.0   0.49[a]         825\n",
       "3                        Malta                    1505.0       316      475701\n",
       "4                Guernsey (UK)                     955.0        65       62063\n",
       "..                         ...                       ...       ...         ...\n",
       "56                     Finland                      16.0    338424     5521533\n",
       "57                      Norway                      14.0    385203     5323933\n",
       "58  Kazakhstan (European part)                       5.5    148000      813621\n",
       "59                     Iceland                       3.5    102775      355620\n",
       "60                       Total                      73.0  10160000   740000000\n",
       "\n",
       "[61 rows x 4 columns]"
      ]
     },
     "execution_count": 15,
     "metadata": {},
     "output_type": "execute_result"
    }
   ],
   "source": [
    "# Population density, area and population of countries and dependencies in Europe\n",
    "dfhtml = pd.read_html('https://en.wikipedia.org/wiki/Area_and_population_of_European_countries')[1]\n",
    "dfhtml"
   ]
  },
  {
   "cell_type": "markdown",
   "id": "ae0a8891-6a92-4c3e-b725-94986b4ba4fb",
   "metadata": {},
   "source": [
    "# DataFrame/Series basic information"
   ]
  },
  {
   "cell_type": "markdown",
   "id": "bdbea496-3979-4dec-aee6-e1e4a30e7e93",
   "metadata": {},
   "source": [
    "## head method"
   ]
  },
  {
   "cell_type": "code",
   "execution_count": 16,
   "id": "d3301fe7-9416-48a7-b241-649cb341126e",
   "metadata": {},
   "outputs": [
    {
     "data": {
      "text/html": [
       "<div>\n",
       "<style scoped>\n",
       "    .dataframe tbody tr th:only-of-type {\n",
       "        vertical-align: middle;\n",
       "    }\n",
       "\n",
       "    .dataframe tbody tr th {\n",
       "        vertical-align: top;\n",
       "    }\n",
       "\n",
       "    .dataframe thead th {\n",
       "        text-align: right;\n",
       "    }\n",
       "</style>\n",
       "<table border=\"1\" class=\"dataframe\">\n",
       "  <thead>\n",
       "    <tr style=\"text-align: right;\">\n",
       "      <th></th>\n",
       "      <th>Vakances Nr</th>\n",
       "      <th>Aktualizācijas datums</th>\n",
       "      <th>Iestādes reģistrācijas numurs</th>\n",
       "      <th>Vakances nosaukums</th>\n",
       "      <th>Vakances kategorija</th>\n",
       "      <th>Alga no</th>\n",
       "      <th>Alga līdz</th>\n",
       "      <th>Slodzes tips</th>\n",
       "      <th>Darba laika veids</th>\n",
       "      <th>Darba stundas nedēļā</th>\n",
       "      <th>Pieteikšanās termiņš</th>\n",
       "      <th>Attēls</th>\n",
       "      <th>Vieta</th>\n",
       "      <th>Vakances paplašināts apraksts</th>\n",
       "    </tr>\n",
       "  </thead>\n",
       "  <tbody>\n",
       "    <tr>\n",
       "      <th>0</th>\n",
       "      <td>220419-23</td>\n",
       "      <td>2022-04-29</td>\n",
       "      <td>44103015509</td>\n",
       "      <td>OTRREIZĒJO IZEJVIELU ŠĶIROTĀJS</td>\n",
       "      <td>Pakalpojumi</td>\n",
       "      <td>750.0</td>\n",
       "      <td>1000.0</td>\n",
       "      <td>Viena vesela slodze</td>\n",
       "      <td>NaN</td>\n",
       "      <td>NaN</td>\n",
       "      <td>2022-05-20</td>\n",
       "      <td>NaN</td>\n",
       "      <td>Daibe, Stalbes pag., Cēsu nov.</td>\n",
       "      <td>https://cvvp.nva.gov.lv/#/pub/vakances/319927475</td>\n",
       "    </tr>\n",
       "    <tr>\n",
       "      <th>1</th>\n",
       "      <td>220503-43</td>\n",
       "      <td>2022-05-03</td>\n",
       "      <td>44103015509</td>\n",
       "      <td>GADĪJUMA DARBU STRĀDNIEKS</td>\n",
       "      <td>Pakalpojumi</td>\n",
       "      <td>500.0</td>\n",
       "      <td>500.0</td>\n",
       "      <td>Viena vesela slodze</td>\n",
       "      <td>NaN</td>\n",
       "      <td>NaN</td>\n",
       "      <td>2022-05-20</td>\n",
       "      <td>NaN</td>\n",
       "      <td>Daibe, Stalbes pag., Cēsu nov.</td>\n",
       "      <td>https://cvvp.nva.gov.lv/#/pub/vakances/321151029</td>\n",
       "    </tr>\n",
       "    <tr>\n",
       "      <th>2</th>\n",
       "      <td>220503-61</td>\n",
       "      <td>2022-05-03</td>\n",
       "      <td>44103015509</td>\n",
       "      <td>ATKRITUMU SAVĀCĒJS</td>\n",
       "      <td>Pakalpojumi</td>\n",
       "      <td>700.0</td>\n",
       "      <td>800.0</td>\n",
       "      <td>Viena vesela slodze</td>\n",
       "      <td>NaN</td>\n",
       "      <td>NaN</td>\n",
       "      <td>2022-05-20</td>\n",
       "      <td>NaN</td>\n",
       "      <td>Valmiera, Valmieras nov.</td>\n",
       "      <td>https://cvvp.nva.gov.lv/#/pub/vakances/321154098</td>\n",
       "    </tr>\n",
       "  </tbody>\n",
       "</table>\n",
       "</div>"
      ],
      "text/plain": [
       "  Vakances Nr Aktualizācijas datums  Iestādes reģistrācijas numurs  \\\n",
       "0   220419-23            2022-04-29                    44103015509   \n",
       "1   220503-43            2022-05-03                    44103015509   \n",
       "2   220503-61            2022-05-03                    44103015509   \n",
       "\n",
       "               Vakances nosaukums Vakances kategorija  Alga no  Alga līdz  \\\n",
       "0  OTRREIZĒJO IZEJVIELU ŠĶIROTĀJS         Pakalpojumi    750.0     1000.0   \n",
       "1       GADĪJUMA DARBU STRĀDNIEKS         Pakalpojumi    500.0      500.0   \n",
       "2              ATKRITUMU SAVĀCĒJS         Pakalpojumi    700.0      800.0   \n",
       "\n",
       "          Slodzes tips Darba laika veids  Darba stundas nedēļā  \\\n",
       "0  Viena vesela slodze               NaN                   NaN   \n",
       "1  Viena vesela slodze               NaN                   NaN   \n",
       "2  Viena vesela slodze               NaN                   NaN   \n",
       "\n",
       "  Pieteikšanās termiņš  Attēls                           Vieta  \\\n",
       "0           2022-05-20     NaN  Daibe, Stalbes pag., Cēsu nov.   \n",
       "1           2022-05-20     NaN  Daibe, Stalbes pag., Cēsu nov.   \n",
       "2           2022-05-20     NaN        Valmiera, Valmieras nov.   \n",
       "\n",
       "                      Vakances paplašināts apraksts  \n",
       "0  https://cvvp.nva.gov.lv/#/pub/vakances/319927475  \n",
       "1  https://cvvp.nva.gov.lv/#/pub/vakances/321151029  \n",
       "2  https://cvvp.nva.gov.lv/#/pub/vakances/321154098  "
      ]
     },
     "execution_count": 16,
     "metadata": {},
     "output_type": "execute_result"
    }
   ],
   "source": [
    "df_vakances_raw.head(3)\n",
    "# in R: head(df_vakances_raw)"
   ]
  },
  {
   "cell_type": "markdown",
   "id": "fe9a1628-9afa-48c5-8c18-c26cafa86533",
   "metadata": {},
   "source": [
    "## tail method"
   ]
  },
  {
   "cell_type": "code",
   "execution_count": 17,
   "id": "88015b09-3ef4-44ff-9f4c-bcd1e0b83a72",
   "metadata": {},
   "outputs": [
    {
     "data": {
      "text/html": [
       "<div>\n",
       "<style scoped>\n",
       "    .dataframe tbody tr th:only-of-type {\n",
       "        vertical-align: middle;\n",
       "    }\n",
       "\n",
       "    .dataframe tbody tr th {\n",
       "        vertical-align: top;\n",
       "    }\n",
       "\n",
       "    .dataframe thead th {\n",
       "        text-align: right;\n",
       "    }\n",
       "</style>\n",
       "<table border=\"1\" class=\"dataframe\">\n",
       "  <thead>\n",
       "    <tr style=\"text-align: right;\">\n",
       "      <th></th>\n",
       "      <th>Vakances Nr</th>\n",
       "      <th>Aktualizācijas datums</th>\n",
       "      <th>Iestādes reģistrācijas numurs</th>\n",
       "      <th>Vakances nosaukums</th>\n",
       "      <th>Vakances kategorija</th>\n",
       "      <th>Alga no</th>\n",
       "      <th>Alga līdz</th>\n",
       "      <th>Slodzes tips</th>\n",
       "      <th>Darba laika veids</th>\n",
       "      <th>Darba stundas nedēļā</th>\n",
       "      <th>Pieteikšanās termiņš</th>\n",
       "      <th>Attēls</th>\n",
       "      <th>Vieta</th>\n",
       "      <th>Vakances paplašināts apraksts</th>\n",
       "    </tr>\n",
       "  </thead>\n",
       "  <tbody>\n",
       "    <tr>\n",
       "      <th>1475</th>\n",
       "      <td>220503-46</td>\n",
       "      <td>2022-05-03</td>\n",
       "      <td>90000043403</td>\n",
       "      <td>IEKŠĒJAIS AUDITORS</td>\n",
       "      <td>Valsts pārvalde</td>\n",
       "      <td>1045.0</td>\n",
       "      <td>1135.0</td>\n",
       "      <td>Viena vesela slodze</td>\n",
       "      <td>Normālais darba laiks</td>\n",
       "      <td>NaN</td>\n",
       "      <td>2022-05-13</td>\n",
       "      <td>NaN</td>\n",
       "      <td>Lāčplēša iela 2, Valmiera, Valmieras nov.</td>\n",
       "      <td>https://cvvp.nva.gov.lv/#/pub/vakances/321151300</td>\n",
       "    </tr>\n",
       "    <tr>\n",
       "      <th>1476</th>\n",
       "      <td>220405-125</td>\n",
       "      <td>2022-04-29</td>\n",
       "      <td>90009226858</td>\n",
       "      <td>ZOBĀRSTS</td>\n",
       "      <td>Veselības aprūpe / Sociālā aprūpe</td>\n",
       "      <td>1000.0</td>\n",
       "      <td>1000.0</td>\n",
       "      <td>Nepilna slodze</td>\n",
       "      <td>Nepilnais darba laiks</td>\n",
       "      <td>NaN</td>\n",
       "      <td>2022-06-01</td>\n",
       "      <td>NaN</td>\n",
       "      <td>Brīvības iela 29, Dagda, Krāslavas nov.</td>\n",
       "      <td>https://cvvp.nva.gov.lv/#/pub/vakances/319101963</td>\n",
       "    </tr>\n",
       "    <tr>\n",
       "      <th>1477</th>\n",
       "      <td>220228-169</td>\n",
       "      <td>2022-04-29</td>\n",
       "      <td>90009226858</td>\n",
       "      <td>FIZIOTERAPEITS</td>\n",
       "      <td>Veselības aprūpe / Sociālā aprūpe</td>\n",
       "      <td>1032.0</td>\n",
       "      <td>1032.0</td>\n",
       "      <td>Viena vesela slodze</td>\n",
       "      <td>Normālais darba laiks</td>\n",
       "      <td>NaN</td>\n",
       "      <td>2022-06-01</td>\n",
       "      <td>NaN</td>\n",
       "      <td>Brīvības iela 29, Dagda, Krāslavas nov.</td>\n",
       "      <td>https://cvvp.nva.gov.lv/#/pub/vakances/316797306</td>\n",
       "    </tr>\n",
       "  </tbody>\n",
       "</table>\n",
       "</div>"
      ],
      "text/plain": [
       "     Vakances Nr Aktualizācijas datums  Iestādes reģistrācijas numurs  \\\n",
       "1475   220503-46            2022-05-03                    90000043403   \n",
       "1476  220405-125            2022-04-29                    90009226858   \n",
       "1477  220228-169            2022-04-29                    90009226858   \n",
       "\n",
       "      Vakances nosaukums                Vakances kategorija  Alga no  \\\n",
       "1475  IEKŠĒJAIS AUDITORS                    Valsts pārvalde   1045.0   \n",
       "1476            ZOBĀRSTS  Veselības aprūpe / Sociālā aprūpe   1000.0   \n",
       "1477      FIZIOTERAPEITS  Veselības aprūpe / Sociālā aprūpe   1032.0   \n",
       "\n",
       "      Alga līdz         Slodzes tips      Darba laika veids  \\\n",
       "1475     1135.0  Viena vesela slodze  Normālais darba laiks   \n",
       "1476     1000.0       Nepilna slodze  Nepilnais darba laiks   \n",
       "1477     1032.0  Viena vesela slodze  Normālais darba laiks   \n",
       "\n",
       "      Darba stundas nedēļā Pieteikšanās termiņš  Attēls  \\\n",
       "1475                   NaN           2022-05-13     NaN   \n",
       "1476                   NaN           2022-06-01     NaN   \n",
       "1477                   NaN           2022-06-01     NaN   \n",
       "\n",
       "                                          Vieta  \\\n",
       "1475  Lāčplēša iela 2, Valmiera, Valmieras nov.   \n",
       "1476    Brīvības iela 29, Dagda, Krāslavas nov.   \n",
       "1477    Brīvības iela 29, Dagda, Krāslavas nov.   \n",
       "\n",
       "                         Vakances paplašināts apraksts  \n",
       "1475  https://cvvp.nva.gov.lv/#/pub/vakances/321151300  \n",
       "1476  https://cvvp.nva.gov.lv/#/pub/vakances/319101963  \n",
       "1477  https://cvvp.nva.gov.lv/#/pub/vakances/316797306  "
      ]
     },
     "execution_count": 17,
     "metadata": {},
     "output_type": "execute_result"
    }
   ],
   "source": [
    "df_vakances_raw.tail(3)\n",
    "# in R: tail(df_vakances_raw)"
   ]
  },
  {
   "cell_type": "markdown",
   "id": "6329d9b8-8c62-41e8-9f1d-5318887d9bb1",
   "metadata": {},
   "source": [
    "## sample method"
   ]
  },
  {
   "cell_type": "code",
   "execution_count": 18,
   "id": "5efa1423-5995-4027-bff1-fce59b329b90",
   "metadata": {},
   "outputs": [
    {
     "data": {
      "text/html": [
       "<div>\n",
       "<style scoped>\n",
       "    .dataframe tbody tr th:only-of-type {\n",
       "        vertical-align: middle;\n",
       "    }\n",
       "\n",
       "    .dataframe tbody tr th {\n",
       "        vertical-align: top;\n",
       "    }\n",
       "\n",
       "    .dataframe thead th {\n",
       "        text-align: right;\n",
       "    }\n",
       "</style>\n",
       "<table border=\"1\" class=\"dataframe\">\n",
       "  <thead>\n",
       "    <tr style=\"text-align: right;\">\n",
       "      <th></th>\n",
       "      <th>Vakances Nr</th>\n",
       "      <th>Aktualizācijas datums</th>\n",
       "      <th>Iestādes reģistrācijas numurs</th>\n",
       "      <th>Vakances nosaukums</th>\n",
       "      <th>Vakances kategorija</th>\n",
       "      <th>Alga no</th>\n",
       "      <th>Alga līdz</th>\n",
       "      <th>Slodzes tips</th>\n",
       "      <th>Darba laika veids</th>\n",
       "      <th>Darba stundas nedēļā</th>\n",
       "      <th>Pieteikšanās termiņš</th>\n",
       "      <th>Attēls</th>\n",
       "      <th>Vieta</th>\n",
       "      <th>Vakances paplašināts apraksts</th>\n",
       "    </tr>\n",
       "  </thead>\n",
       "  <tbody>\n",
       "    <tr>\n",
       "      <th>62</th>\n",
       "      <td>220503-412</td>\n",
       "      <td>2022-05-03</td>\n",
       "      <td>90002065000</td>\n",
       "      <td>ĢEODĒZIJAS INŽENIERIS</td>\n",
       "      <td>Valsts pārvalde</td>\n",
       "      <td>930.0</td>\n",
       "      <td>1210.0</td>\n",
       "      <td>Viena vesela slodze</td>\n",
       "      <td>Normālais darba laiks</td>\n",
       "      <td>40.0</td>\n",
       "      <td>2022-05-20</td>\n",
       "      <td>NaN</td>\n",
       "      <td>Ojāra Vācieša iela 43, Rīga</td>\n",
       "      <td>https://cvvp.nva.gov.lv/#/pub/vakances/321220897</td>\n",
       "    </tr>\n",
       "    <tr>\n",
       "      <th>1092</th>\n",
       "      <td>220429-5</td>\n",
       "      <td>2022-04-29</td>\n",
       "      <td>90000014387</td>\n",
       "      <td>FOTO DIZAINA SPECIĀLISTS</td>\n",
       "      <td>Valsts pārvalde</td>\n",
       "      <td>730.0</td>\n",
       "      <td>800.0</td>\n",
       "      <td>Viena vesela slodze</td>\n",
       "      <td>Normālais darba laiks</td>\n",
       "      <td>NaN</td>\n",
       "      <td>2022-05-15</td>\n",
       "      <td>NaN</td>\n",
       "      <td>Zavoloko iela 8, Rēzekne</td>\n",
       "      <td>https://cvvp.nva.gov.lv/#/pub/vakances/320848636</td>\n",
       "    </tr>\n",
       "    <tr>\n",
       "      <th>847</th>\n",
       "      <td>220322-182</td>\n",
       "      <td>2022-04-27</td>\n",
       "      <td>90009756700</td>\n",
       "      <td>SABIEDRĪBAS VESELĪBAS ANALĪTIĶIS</td>\n",
       "      <td>Valsts pārvalde</td>\n",
       "      <td>835.0</td>\n",
       "      <td>1190.0</td>\n",
       "      <td>Viena vesela slodze</td>\n",
       "      <td>Normālais darba laiks</td>\n",
       "      <td>40.0</td>\n",
       "      <td>2022-05-31</td>\n",
       "      <td>NaN</td>\n",
       "      <td>Duntes iela 20 k-3, Rīga</td>\n",
       "      <td>https://cvvp.nva.gov.lv/#/pub/vakances/318171733</td>\n",
       "    </tr>\n",
       "  </tbody>\n",
       "</table>\n",
       "</div>"
      ],
      "text/plain": [
       "     Vakances Nr Aktualizācijas datums  Iestādes reģistrācijas numurs  \\\n",
       "62    220503-412            2022-05-03                    90002065000   \n",
       "1092    220429-5            2022-04-29                    90000014387   \n",
       "847   220322-182            2022-04-27                    90009756700   \n",
       "\n",
       "                    Vakances nosaukums Vakances kategorija  Alga no  \\\n",
       "62               ĢEODĒZIJAS INŽENIERIS     Valsts pārvalde    930.0   \n",
       "1092          FOTO DIZAINA SPECIĀLISTS     Valsts pārvalde    730.0   \n",
       "847   SABIEDRĪBAS VESELĪBAS ANALĪTIĶIS     Valsts pārvalde    835.0   \n",
       "\n",
       "      Alga līdz         Slodzes tips      Darba laika veids  \\\n",
       "62       1210.0  Viena vesela slodze  Normālais darba laiks   \n",
       "1092      800.0  Viena vesela slodze  Normālais darba laiks   \n",
       "847      1190.0  Viena vesela slodze  Normālais darba laiks   \n",
       "\n",
       "      Darba stundas nedēļā Pieteikšanās termiņš  Attēls  \\\n",
       "62                    40.0           2022-05-20     NaN   \n",
       "1092                   NaN           2022-05-15     NaN   \n",
       "847                   40.0           2022-05-31     NaN   \n",
       "\n",
       "                            Vieta  \\\n",
       "62    Ojāra Vācieša iela 43, Rīga   \n",
       "1092     Zavoloko iela 8, Rēzekne   \n",
       "847      Duntes iela 20 k-3, Rīga   \n",
       "\n",
       "                         Vakances paplašināts apraksts  \n",
       "62    https://cvvp.nva.gov.lv/#/pub/vakances/321220897  \n",
       "1092  https://cvvp.nva.gov.lv/#/pub/vakances/320848636  \n",
       "847   https://cvvp.nva.gov.lv/#/pub/vakances/318171733  "
      ]
     },
     "execution_count": 18,
     "metadata": {},
     "output_type": "execute_result"
    }
   ],
   "source": [
    "df_vakances_raw.sample(3)"
   ]
  },
  {
   "cell_type": "markdown",
   "id": "d34b4833-dcf0-4ad9-966b-6ceeb544ccfd",
   "metadata": {},
   "source": [
    "## dtypes attribute"
   ]
  },
  {
   "cell_type": "code",
   "execution_count": 19,
   "id": "478a15d8-6442-4fc3-b896-0875835a32db",
   "metadata": {},
   "outputs": [
    {
     "data": {
      "text/plain": [
       "Vakances Nr                              object\n",
       "Aktualizācijas datums            datetime64[ns]\n",
       "Iestādes reģistrācijas numurs             int64\n",
       "Vakances nosaukums                       object\n",
       "Vakances kategorija                      object\n",
       "Alga no                                 float64\n",
       "Alga līdz                               float64\n",
       "Slodzes tips                             object\n",
       "Darba laika veids                        object\n",
       "Darba stundas nedēļā                    float64\n",
       "Pieteikšanās termiņš                     object\n",
       "Attēls                                  float64\n",
       "Vieta                                    object\n",
       "Vakances paplašināts apraksts            object\n",
       "dtype: object"
      ]
     },
     "execution_count": 19,
     "metadata": {},
     "output_type": "execute_result"
    }
   ],
   "source": [
    "df_xlsx_vakances.dtypes"
   ]
  },
  {
   "cell_type": "markdown",
   "id": "a943794e-4fb9-48d3-a8c7-89cc1ff8311c",
   "metadata": {},
   "source": [
    "Types:\n",
    "* int64 - integer\n",
    "* float64 - float\n",
    "* object - string\n",
    "* datetime64[ns] - datetime\n",
    "* bool - boolean"
   ]
  },
  {
   "cell_type": "markdown",
   "id": "e520411e-68f3-4422-a6bf-b07c1ab4d8a0",
   "metadata": {},
   "source": [
    "## info method"
   ]
  },
  {
   "cell_type": "code",
   "execution_count": 20,
   "id": "5423c513-3cd6-4a6a-8afe-689bea638462",
   "metadata": {},
   "outputs": [
    {
     "name": "stdout",
     "output_type": "stream",
     "text": [
      "<class 'pandas.core.frame.DataFrame'>\n",
      "RangeIndex: 1478 entries, 0 to 1477\n",
      "Data columns (total 14 columns):\n",
      " #   Column                         Non-Null Count  Dtype         \n",
      "---  ------                         --------------  -----         \n",
      " 0   Vakances Nr                    1478 non-null   object        \n",
      " 1   Aktualizācijas datums          1478 non-null   datetime64[ns]\n",
      " 2   Iestādes reģistrācijas numurs  1478 non-null   int64         \n",
      " 3   Vakances nosaukums             1478 non-null   object        \n",
      " 4   Vakances kategorija            1478 non-null   object        \n",
      " 5   Alga no                        1478 non-null   float64       \n",
      " 6   Alga līdz                      1478 non-null   float64       \n",
      " 7   Slodzes tips                   1178 non-null   object        \n",
      " 8   Darba laika veids              798 non-null    object        \n",
      " 9   Darba stundas nedēļā           390 non-null    float64       \n",
      " 10  Pieteikšanās termiņš           1478 non-null   object        \n",
      " 11  Attēls                         0 non-null      float64       \n",
      " 12  Vieta                          1478 non-null   object        \n",
      " 13  Vakances paplašināts apraksts  1478 non-null   object        \n",
      "dtypes: datetime64[ns](1), float64(4), int64(1), object(8)\n",
      "memory usage: 161.8+ KB\n"
     ]
    }
   ],
   "source": [
    "df_xlsx_vakances.info()"
   ]
  },
  {
   "cell_type": "markdown",
   "id": "0c88b755-caa8-461f-a63e-bd5056b28e6c",
   "metadata": {},
   "source": [
    "## shape attribute"
   ]
  },
  {
   "cell_type": "code",
   "execution_count": 21,
   "id": "ef310dd1-9a59-4f44-8607-2d89744485a1",
   "metadata": {},
   "outputs": [
    {
     "name": "stdout",
     "output_type": "stream",
     "text": [
      "(1478, 14)\n",
      "<class 'tuple'>\n"
     ]
    }
   ],
   "source": [
    "print(df_vakances_raw.shape) # (No. of rows, No. of columns) as tuple \n",
    "print(type(df_vakances_raw.shape))\n",
    "# in R: dim(df_vakances_raw)"
   ]
  },
  {
   "cell_type": "markdown",
   "id": "b6f38c37-45e3-4c2b-9902-e7bbd89ccb06",
   "metadata": {},
   "source": [
    "## describe method"
   ]
  },
  {
   "cell_type": "code",
   "execution_count": 22,
   "id": "299879c3-a3dd-4155-a3ac-799024bcf828",
   "metadata": {},
   "outputs": [
    {
     "name": "stdout",
     "output_type": "stream",
     "text": [
      "       Iestādes reģistrācijas numurs       Alga no     Alga līdz  \\\n",
      "count                   1.478000e+03   1478.000000   1478.000000   \n",
      "mean                    7.042215e+10    916.101633   1046.719901   \n",
      "std                     2.502729e+10    548.359565    656.970523   \n",
      "min                     1.119010e+08      2.720000      2.840000   \n",
      "25%                     4.090004e+10    619.610000    700.000000   \n",
      "50%                     9.000003e+10    887.500000   1000.000000   \n",
      "75%                     9.000081e+10   1093.000000   1286.000000   \n",
      "max                     9.001163e+10  10280.000000  12700.000000   \n",
      "\n",
      "       Darba stundas nedēļā  Attēls  \n",
      "count            390.000000     0.0  \n",
      "mean              35.115385     NaN  \n",
      "std               10.731810     NaN  \n",
      "min                0.000000     NaN  \n",
      "25%               40.000000     NaN  \n",
      "50%               40.000000     NaN  \n",
      "75%               40.000000     NaN  \n",
      "max               48.000000     NaN  \n"
     ]
    }
   ],
   "source": [
    "print(df_vakances_raw.describe())\n",
    "# count, mean, std, min, 25%, 50%, 75%, max"
   ]
  },
  {
   "cell_type": "code",
   "execution_count": 23,
   "id": "3b8bdc7c-21bc-4e5f-aaa4-ed084f3c7a73",
   "metadata": {},
   "outputs": [
    {
     "name": "stdout",
     "output_type": "stream",
     "text": [
      "       Vakances Nr Aktualizācijas datums     Vakances nosaukums  \\\n",
      "count         1478                  1478                   1478   \n",
      "unique        1478                    49                    398   \n",
      "top      220419-23            2022-05-02  MĀSA (MEDICĪNAS MĀSA)   \n",
      "freq             1                   181                     42   \n",
      "\n",
      "       Vakances kategorija         Slodzes tips      Darba laika veids  \\\n",
      "count                 1478                 1178                    798   \n",
      "unique                  20                    2                      4   \n",
      "top        Valsts pārvalde  Viena vesela slodze  Normālais darba laiks   \n",
      "freq                   393                 1009                    566   \n",
      "\n",
      "       Pieteikšanās termiņš                          Vieta  \\\n",
      "count                  1478                           1478   \n",
      "unique                   50                            669   \n",
      "top              2022-05-31  Vasarnīcu iela 20, Daugavpils   \n",
      "freq                    198                             27   \n",
      "\n",
      "                           Vakances paplašināts apraksts  \n",
      "count                                               1478  \n",
      "unique                                              1478  \n",
      "top     https://cvvp.nva.gov.lv/#/pub/vakances/319927475  \n",
      "freq                                                   1  \n"
     ]
    }
   ],
   "source": [
    "print(df_vakances_raw.describe(include=['O'])) # statistika non-numeric kolonnām\n",
    "# count, unique, top, freq"
   ]
  },
  {
   "cell_type": "markdown",
   "id": "09596bd4-61a1-4961-a2cd-7f9b233d28da",
   "metadata": {},
   "source": [
    "## columns property"
   ]
  },
  {
   "cell_type": "code",
   "execution_count": 24,
   "id": "2c7c91aa-32cb-4b7a-9bbd-09e72ed65cc5",
   "metadata": {},
   "outputs": [
    {
     "name": "stdout",
     "output_type": "stream",
     "text": [
      "<class 'pandas.core.indexes.base.Index'>\n",
      "Index(['Vakances Nr', 'Aktualizācijas datums', 'Iestādes reģistrācijas numurs',\n",
      "       'Vakances nosaukums', 'Vakances kategorija', 'Alga no', 'Alga līdz',\n",
      "       'Slodzes tips', 'Darba laika veids', 'Darba stundas nedēļā',\n",
      "       'Pieteikšanās termiņš', 'Attēls', 'Vieta',\n",
      "       'Vakances paplašināts apraksts'],\n",
      "      dtype='object')\n",
      "\n",
      "<class 'numpy.ndarray'>\n",
      "['Vakances Nr' 'Aktualizācijas datums' 'Iestādes reģistrācijas numurs'\n",
      " 'Vakances nosaukums' 'Vakances kategorija' 'Alga no' 'Alga līdz'\n",
      " 'Slodzes tips' 'Darba laika veids' 'Darba stundas nedēļā'\n",
      " 'Pieteikšanās termiņš' 'Attēls' 'Vieta' 'Vakances paplašināts apraksts']\n",
      "\n",
      "<class 'list'>\n",
      "['Vakances Nr', 'Aktualizācijas datums', 'Iestādes reģistrācijas numurs', 'Vakances nosaukums', 'Vakances kategorija', 'Alga no', 'Alga līdz', 'Slodzes tips', 'Darba laika veids', 'Darba stundas nedēļā', 'Pieteikšanās termiņš', 'Attēls', 'Vieta', 'Vakances paplašināts apraksts']\n"
     ]
    }
   ],
   "source": [
    "print(f'{type(df_vakances_raw.columns)}') # 'pandas.core.indexes.base.Index'\n",
    "print(df_vakances_raw.columns)\n",
    "\n",
    "print(f'\\n{type(df_vakances_raw.columns.values)}') # 'numpy.ndarray'\n",
    "print(df_vakances_raw.columns.values)\n",
    "\n",
    "print(f'\\n{type(df_vakances_raw.columns.values.tolist())}') # 'list'\n",
    "print(df_vakances_raw.columns.values.tolist())\n",
    "# Same as: df_vakances_raw.columns.tolist()"
   ]
  },
  {
   "cell_type": "markdown",
   "id": "b67e4482-7865-4ba1-a9d1-746d1a4eea9a",
   "metadata": {},
   "source": [
    "# Filtering and selecting data\n",
    "## Select single column"
   ]
  },
  {
   "cell_type": "code",
   "execution_count": 25,
   "id": "2ac219d5-ab70-4632-bb8f-f4d835b09928",
   "metadata": {},
   "outputs": [
    {
     "name": "stdout",
     "output_type": "stream",
     "text": [
      "type(s_place)=<class 'pandas.core.series.Series'>\n",
      "\n",
      "s_place.tail()=1473    Parka iela 2, Zilaiskalns, Zilākalna pag., Val...\n",
      "1474              Rīgas iela 10, Valmiera, Valmieras nov.\n",
      "1475            Lāčplēša iela 2, Valmiera, Valmieras nov.\n",
      "1476              Brīvības iela 29, Dagda, Krāslavas nov.\n",
      "1477              Brīvības iela 29, Dagda, Krāslavas nov.\n",
      "Name: Vieta, dtype: object\n",
      "\n",
      "s_place.shape=(1478,)\n",
      "\n"
     ]
    }
   ],
   "source": [
    "s_place = df_vakances_raw['Vieta']\n",
    "print(f\"{type(s_place)=}\\n\") # 'pandas.core.series.Series'\n",
    "print(f'{s_place.tail()=}\\n') # Last 5 records from s_place Series\n",
    "print(f'{s_place.shape=}\\n') # shape for Series will return tuple with one value - Number of elements (i.e. rows)"
   ]
  },
  {
   "cell_type": "markdown",
   "id": "952fcb1d-f60e-4943-85e4-953f609cf5d5",
   "metadata": {},
   "source": [
    "## Select multiple columns"
   ]
  },
  {
   "cell_type": "code",
   "execution_count": 26,
   "id": "141fac8f-2316-494e-a9f2-ca79fb0c1c9c",
   "metadata": {},
   "outputs": [
    {
     "name": "stdout",
     "output_type": "stream",
     "text": [
      "     Vakances Nr                                       Vieta\n",
      "1192  220419-208  Jumaras iela 195, Valmiera, Valmieras nov.\n",
      "311    220131-15                       Kleistu iela 28, Rīga\n",
      "1389  220422-191    Rīgas iela 10, Salaspils, Salaspils nov.\n",
      "\n",
      "type(df_job_place)=<class 'pandas.core.frame.DataFrame'>\n",
      "\n",
      "df_job_place.shape=(1478, 2)\n",
      "\n"
     ]
    }
   ],
   "source": [
    "# ! Multiple column names must be in the list\n",
    "df_job_place = df_vakances_raw[['Vakances Nr','Vieta']]\n",
    "print(df_job_place.sample(3))\n",
    "print(f\"\\n{type(df_job_place)=}\\n\") # 'pandas.core.frame.DataFrame'\n",
    "print(f'{df_job_place.shape=}\\n') # (No. of rows, No. of columns) as tuple"
   ]
  },
  {
   "cell_type": "markdown",
   "id": "8ca6392d-8e81-43d1-b2ae-80985a1e47aa",
   "metadata": {},
   "source": [
    "## Select all columns but one\n",
    "### drop method"
   ]
  },
  {
   "cell_type": "code",
   "execution_count": 27,
   "id": "ce095200-81a7-4615-a4ab-5c919257322f",
   "metadata": {},
   "outputs": [
    {
     "name": "stdout",
     "output_type": "stream",
     "text": [
      "df_all_cols_but_one.shape=(1478, 13)\n"
     ]
    }
   ],
   "source": [
    "# .drop() by default does not operate inplace\n",
    "# do inplace=True if you want to permanently remove column(s)\n",
    "df_all_cols_but_one = df_xlsx_vakances.drop('Vakances Nr',axis=1)\n",
    "print(f'{df_all_cols_but_one.shape=}')\n",
    "#df_vakances_raw.drop(axis=1) # axis=0 (default) - drop by index, axis=1 - drop by column name"
   ]
  },
  {
   "cell_type": "markdown",
   "id": "0e72c071-067a-4ceb-b333-eee663a17500",
   "metadata": {},
   "source": [
    "### loc property"
   ]
  },
  {
   "cell_type": "code",
   "execution_count": 28,
   "id": "c2f8c047-da92-4d0e-990d-936fc71917e0",
   "metadata": {},
   "outputs": [
    {
     "name": "stdout",
     "output_type": "stream",
     "text": [
      "df_all_cols_but_one.shape=(1478, 13)\n"
     ]
    }
   ],
   "source": [
    "# colon (:) is mandatory\n",
    "# This method don't work if columns are MultiIndex\n",
    "df_all_cols_but_one = df_xlsx_vakances.loc[:, df_xlsx_vakances.columns != 'Vakances Nr']\n",
    "print(f'{df_all_cols_but_one.shape=}')"
   ]
  },
  {
   "cell_type": "markdown",
   "id": "436bdc7b-f34f-4c66-a3b6-f92a453b8d7a",
   "metadata": {},
   "source": [
    "## Filtering DataFrame (single condition)"
   ]
  },
  {
   "cell_type": "code",
   "execution_count": 29,
   "id": "f6de9a23-c89c-4902-a7ca-977b88a01733",
   "metadata": {},
   "outputs": [
    {
     "name": "stdout",
     "output_type": "stream",
     "text": [
      "                                     Vakances nosaukums  Alga no  Alga līdz\n",
      "539                                     VALDES LOCEKLIS  10280.0    12700.0\n",
      "309   INFORMĀCIJAS TEHNOLOĢIJU STRUKTŪRVIENĪBAS VADĪ...   4800.0     5200.0\n",
      "1027                       ANESTEZIOLOGS, REANIMATOLOGS   3600.0     3600.0\n",
      "668                                     VALDES LOCEKLIS   3500.0     3500.0\n",
      "1363                                        OFTALMOLOGS   3500.0     3500.0\n",
      "1187                       ANESTEZIOLOGS, REANIMATOLOGS   3500.0     3500.0\n",
      "1026                             TRAUMATOLOGS, ORTOPĒDS   3500.0     3500.0\n",
      "1323                                    VALDES LOCEKLIS   3486.0     3486.0\n",
      "1322                                    VALDES LOCEKLIS   3486.0     3486.0\n",
      "549                                       PROGRAMMĒTĀJS   3200.0     3400.0\n",
      "df_salary_GT_2000.shape=(32, 14)\n"
     ]
    }
   ],
   "source": [
    "df_salary_GT_2000 = df_vakances_raw[df_vakances_raw['Alga no']>2000]\n",
    "print(df_salary_GT_2000[['Vakances nosaukums','Alga no','Alga līdz']].sort_values('Alga no',ascending=False).head(10))\n",
    "print(f'{df_salary_GT_2000.shape=}')"
   ]
  },
  {
   "cell_type": "markdown",
   "id": "5b73755c-425c-4f71-9e70-62a00e06712d",
   "metadata": {},
   "source": [
    "## notna method"
   ]
  },
  {
   "cell_type": "code",
   "execution_count": 30,
   "id": "4faf7f83-3d8d-4ac9-82f5-8a2af4248b73",
   "metadata": {},
   "outputs": [
    {
     "name": "stdout",
     "output_type": "stream",
     "text": [
      "     Iestādes reģistrācijas numurs      Darba laika veids\n",
      "715                      111900989  Normālais darba laiks\n",
      "55                      2013901280  Normālais darba laiks\n",
      "51                      2013901280  Normālais darba laiks\n",
      "52                      2013901280  Normālais darba laiks\n",
      "53                      2013901280  Normālais darba laiks\n",
      "54                      2013901280  Normālais darba laiks\n",
      "49                      2013901280  Normālais darba laiks\n",
      "56                      2013901280  Normālais darba laiks\n",
      "57                      2013901280  Normālais darba laiks\n",
      "50                      2013901280  Normālais darba laiks\n",
      "df_is_wh_types.shape=(798, 14)\n"
     ]
    }
   ],
   "source": [
    "df_is_wh_types = df_vakances_raw[df_vakances_raw['Darba laika veids'].notna()]\n",
    "print(df_is_wh_types[['Iestādes reģistrācijas numurs','Darba laika veids']].sort_values('Iestādes reģistrācijas numurs').head(10))\n",
    "print(f'{df_is_wh_types.shape=}')"
   ]
  },
  {
   "cell_type": "markdown",
   "id": "6376fbd2-17df-4a4f-8c39-8473c2e9ad1c",
   "metadata": {},
   "source": [
    "## loc property"
   ]
  },
  {
   "cell_type": "code",
   "execution_count": 31,
   "id": "39a01a9e-2123-4e21-8926-7d1ccc52ec41",
   "metadata": {},
   "outputs": [
    {
     "data": {
      "text/plain": [
       "Vakances Nr                                                            220503-345\n",
       "Aktualizācijas datums                                                  2022-05-03\n",
       "Iestādes reģistrācijas numurs                                         90000012723\n",
       "Vakances nosaukums                                               SKOLOTĀJA PALĪGS\n",
       "Vakances kategorija                                           Izglītība / Zinātne\n",
       "Alga no                                                                     700.0\n",
       "Alga līdz                                                                   700.0\n",
       "Slodzes tips                                                                  NaN\n",
       "Darba laika veids                                                             NaN\n",
       "Darba stundas nedēļā                                                          NaN\n",
       "Pieteikšanās termiņš                                                   2022-05-31\n",
       "Attēls                                                                        NaN\n",
       "Vieta                                                          Parka iela 5, Rīga\n",
       "Vakances paplašināts apraksts    https://cvvp.nva.gov.lv/#/pub/vakances/321203775\n",
       "Name: 1000, dtype: object"
      ]
     },
     "execution_count": 31,
     "metadata": {},
     "output_type": "execute_result"
    }
   ],
   "source": [
    "df_vakances_raw.loc[1000]\n",
    "# select row (using loc property) by index.\n",
    "# 1000 - is a name of the index and not the position"
   ]
  },
  {
   "cell_type": "markdown",
   "id": "da1e58b0-8738-4b76-89a9-ce945c5ccd6a",
   "metadata": {},
   "source": [
    "## isin method"
   ]
  },
  {
   "cell_type": "code",
   "execution_count": 32,
   "id": "63c4431f-fd63-46c5-b259-c07c7f3630c2",
   "metadata": {},
   "outputs": [
    {
     "name": "stdout",
     "output_type": "stream",
     "text": [
      "df_is_wh_types.shape=(61, 14)\n"
     ]
    }
   ],
   "source": [
    "df_is_wh_types = df_vakances_raw[df_vakances_raw['Alga no'].isin([1000,2000])]\n",
    "# only list-like objects are allowed to be passed to isin()\n",
    "\n",
    "print(f'{df_is_wh_types.shape=}')"
   ]
  },
  {
   "cell_type": "markdown",
   "id": "41cf338f-67d8-47ef-b168-ce5b60fcca7f",
   "metadata": {},
   "source": [
    "## Filtering DataFrame (multiple conditions)\n",
    "When combining multiple conditional statements,\n",
    "each condition must be surrounded by parentheses ().\n",
    "Moreover, you can not use or/and but need to use the or operator | and the and operator &."
   ]
  },
  {
   "cell_type": "code",
   "execution_count": 33,
   "id": "2fe8b5db-75f5-40d3-a0e8-9995a0fcc60a",
   "metadata": {
    "tags": []
   },
   "outputs": [
    {
     "name": "stdout",
     "output_type": "stream",
     "text": [
      "                                  Vakances nosaukums  Alga no  Alga līdz\n",
      "333                                 ĀRSTS (EKSPERTS)   1530.0     1700.0\n",
      "1044      PAŠVALDĪBAS IESTĀDES VADĪTĀJS /PRIEKŠNIEKS   1534.0     1917.0\n",
      "943   Neatliekamās medicīnas ĀRSTA PALĪGS/ FELDŠERIS   1550.0     1783.0\n"
     ]
    }
   ],
   "source": [
    "df_salary_GT_1500 = df_vakances_raw[(df_vakances_raw['Alga no']>1500) &\n",
    "(df_vakances_raw['Alga no']!=df_vakances_raw['Alga līdz'])]\n",
    "print(df_salary_GT_1500[['Vakances nosaukums','Alga no','Alga līdz']].sort_values('Alga no').head(3))"
   ]
  },
  {
   "cell_type": "code",
   "execution_count": 34,
   "id": "41c4096d-4d88-4368-8664-e58eb8fa76e7",
   "metadata": {},
   "outputs": [
    {
     "name": "stdout",
     "output_type": "stream",
     "text": [
      "<class 'pandas.core.series.Series'>\n"
     ]
    },
    {
     "data": {
      "text/html": [
       "<div>\n",
       "<style scoped>\n",
       "    .dataframe tbody tr th:only-of-type {\n",
       "        vertical-align: middle;\n",
       "    }\n",
       "\n",
       "    .dataframe tbody tr th {\n",
       "        vertical-align: top;\n",
       "    }\n",
       "\n",
       "    .dataframe thead th {\n",
       "        text-align: right;\n",
       "    }\n",
       "</style>\n",
       "<table border=\"1\" class=\"dataframe\">\n",
       "  <thead>\n",
       "    <tr style=\"text-align: right;\">\n",
       "      <th></th>\n",
       "      <th>Vakances nosaukums</th>\n",
       "      <th>Alga no</th>\n",
       "      <th>Alga līdz</th>\n",
       "    </tr>\n",
       "  </thead>\n",
       "  <tbody>\n",
       "    <tr>\n",
       "      <th>333</th>\n",
       "      <td>ĀRSTS (EKSPERTS)</td>\n",
       "      <td>1530.0</td>\n",
       "      <td>1700.0</td>\n",
       "    </tr>\n",
       "    <tr>\n",
       "      <th>1044</th>\n",
       "      <td>PAŠVALDĪBAS IESTĀDES VADĪTĀJS /PRIEKŠNIEKS</td>\n",
       "      <td>1534.0</td>\n",
       "      <td>1917.0</td>\n",
       "    </tr>\n",
       "    <tr>\n",
       "      <th>943</th>\n",
       "      <td>Neatliekamās medicīnas ĀRSTA PALĪGS/ FELDŠERIS</td>\n",
       "      <td>1550.0</td>\n",
       "      <td>1783.0</td>\n",
       "    </tr>\n",
       "  </tbody>\n",
       "</table>\n",
       "</div>"
      ],
      "text/plain": [
       "                                  Vakances nosaukums  Alga no  Alga līdz\n",
       "333                                 ĀRSTS (EKSPERTS)   1530.0     1700.0\n",
       "1044      PAŠVALDĪBAS IESTĀDES VADĪTĀJS /PRIEKŠNIEKS   1534.0     1917.0\n",
       "943   Neatliekamās medicīnas ĀRSTA PALĪGS/ FELDŠERIS   1550.0     1783.0"
      ]
     },
     "execution_count": 34,
     "metadata": {},
     "output_type": "execute_result"
    }
   ],
   "source": [
    "# You can save filter result separately and use it later\n",
    "filter_cond = (df_vakances_raw['Alga no']>1500) & (df_vakances_raw['Alga no']!=df_vakances_raw['Alga līdz'])\n",
    "print(type(filter_cond))\n",
    "\n",
    "df_vakances_raw.loc[filter_cond,['Vakances nosaukums','Alga no','Alga līdz']].sort_values('Alga no').head(3)"
   ]
  },
  {
   "cell_type": "markdown",
   "id": "9e1fb8ae-eb86-4585-a8a1-ffe2dee8794e",
   "metadata": {},
   "source": [
    "## Selecting AND filtering DataFrame\n",
    "The loc/iloc operators are required in front of the selection brackets\n",
    "When using loc/iloc, the part BEFORE the comma is the rows you want, and the part AFTER the comma is the columns you want to select.<br/><br/>\n",
    "When using the column names, row labels or a condition expression, use the loc operator in front of the selection brackets [].\n",
    "For both the part before and after the comma, you can use:\n",
    "- a single label,\n",
    "- a list of labels,\n",
    "- a slice of labels,\n",
    "- a conditional expression or a colon.\n",
    "Using a colon specifies you want to select all rows or columns."
   ]
  },
  {
   "cell_type": "code",
   "execution_count": 35,
   "id": "a23180e9-f306-4d49-9f54-cd067fb79405",
   "metadata": {},
   "outputs": [
    {
     "data": {
      "text/html": [
       "<div>\n",
       "<style scoped>\n",
       "    .dataframe tbody tr th:only-of-type {\n",
       "        vertical-align: middle;\n",
       "    }\n",
       "\n",
       "    .dataframe tbody tr th {\n",
       "        vertical-align: top;\n",
       "    }\n",
       "\n",
       "    .dataframe thead th {\n",
       "        text-align: right;\n",
       "    }\n",
       "</style>\n",
       "<table border=\"1\" class=\"dataframe\">\n",
       "  <thead>\n",
       "    <tr style=\"text-align: right;\">\n",
       "      <th></th>\n",
       "      <th>Alga no</th>\n",
       "      <th>Vakances paplašināts apraksts</th>\n",
       "    </tr>\n",
       "  </thead>\n",
       "  <tbody>\n",
       "    <tr>\n",
       "      <th>85</th>\n",
       "      <td>1524.0</td>\n",
       "      <td>https://cvvp.nva.gov.lv/#/pub/vakances/320704917</td>\n",
       "    </tr>\n",
       "    <tr>\n",
       "      <th>333</th>\n",
       "      <td>1530.0</td>\n",
       "      <td>https://cvvp.nva.gov.lv/#/pub/vakances/319674246</td>\n",
       "    </tr>\n",
       "    <tr>\n",
       "      <th>1044</th>\n",
       "      <td>1534.0</td>\n",
       "      <td>https://cvvp.nva.gov.lv/#/pub/vakances/320872167</td>\n",
       "    </tr>\n",
       "    <tr>\n",
       "      <th>1414</th>\n",
       "      <td>1550.0</td>\n",
       "      <td>https://cvvp.nva.gov.lv/#/pub/vakances/319216202</td>\n",
       "    </tr>\n",
       "    <tr>\n",
       "      <th>291</th>\n",
       "      <td>1550.0</td>\n",
       "      <td>https://cvvp.nva.gov.lv/#/pub/vakances/320775594</td>\n",
       "    </tr>\n",
       "  </tbody>\n",
       "</table>\n",
       "</div>"
      ],
      "text/plain": [
       "      Alga no                     Vakances paplašināts apraksts\n",
       "85     1524.0  https://cvvp.nva.gov.lv/#/pub/vakances/320704917\n",
       "333    1530.0  https://cvvp.nva.gov.lv/#/pub/vakances/319674246\n",
       "1044   1534.0  https://cvvp.nva.gov.lv/#/pub/vakances/320872167\n",
       "1414   1550.0  https://cvvp.nva.gov.lv/#/pub/vakances/319216202\n",
       "291    1550.0  https://cvvp.nva.gov.lv/#/pub/vakances/320775594"
      ]
     },
     "execution_count": 35,
     "metadata": {},
     "output_type": "execute_result"
    }
   ],
   "source": [
    "salary_filter = df_vakances_raw['Alga no']>1500\n",
    "column_filter = ['Alga no','Vakances paplašināts apraksts']\n",
    "df_salary_GT_1500_links = df_vakances_raw.loc[salary_filter,column_filter]\n",
    "df_salary_GT_1500_links.sort_values('Alga no').head(5)"
   ]
  },
  {
   "cell_type": "markdown",
   "id": "3890e0d4-56ae-4d31-89f4-68efb0bde9b8",
   "metadata": {},
   "source": [
    "# Grouping data\n",
    "## groupby property"
   ]
  },
  {
   "cell_type": "code",
   "execution_count": 36,
   "id": "19a57bb0-3e71-475e-9fce-24a5c2ba2b80",
   "metadata": {},
   "outputs": [
    {
     "name": "stdout",
     "output_type": "stream",
     "text": [
      "Alga no\n",
      "835.0     80\n",
      "500.0     66\n",
      "940.0     40\n",
      "1000.0    39\n",
      "1500.0    37\n",
      "Name: Alga līdz, dtype: int64\n",
      "<class 'pandas.core.series.Series'>\n"
     ]
    }
   ],
   "source": [
    "# Save result as a Series (grouping by one column)\n",
    "grouped_res = df_xlsx_vakances.groupby([\"Alga no\"])[\"Alga līdz\"].count() # Nerādīs kolonnu \"Alga līdz\"\n",
    "print(grouped_res.sort_values(ascending=False).head(5)) # nevajag norādīt kolonnu pie sort_values (jo tādas nav)\n",
    "print(type(grouped_res))"
   ]
  },
  {
   "cell_type": "code",
   "execution_count": 37,
   "id": "340460c3-59c8-40d1-9095-87878ced6bd9",
   "metadata": {},
   "outputs": [
    {
     "name": "stdout",
     "output_type": "stream",
     "text": [
      "         Alga līdz\n",
      "Alga no           \n",
      "835.0           80\n",
      "500.0           66\n",
      "940.0           40\n",
      "1000.0          39\n",
      "1500.0          37\n",
      "<class 'pandas.core.frame.DataFrame'>\n"
     ]
    }
   ],
   "source": [
    "# Save result as a DataFrame (grouping by one column)\n",
    "# \"Alga līdz\" ir dubultajās kvadrātiekavās\n",
    "grouped_res2 = df_xlsx_vakances.groupby([\"Alga no\"])[[\"Alga līdz\"]].count() # single column dataframe\n",
    "print(grouped_res2.sort_values(\"Alga līdz\", ascending=False).head(5)) # jānorāda kolonna pie sort_values, savādāk nestrādās\n",
    "print(type(grouped_res2))"
   ]
  },
  {
   "cell_type": "markdown",
   "id": "17e10eac-2a5d-4250-85bf-2a879ec7cd50",
   "metadata": {},
   "source": [
    "# Save DataFrame\n",
    "## Save DataFrame as Excel\n",
    "https://pandas.pydata.org/docs/reference/api/pandas.DataFrame.to_excel.html <br/>\n",
    "!!! need to install <strong>openpyxl</strong> package or <strong>xlsxwriter</strong> package (depending which engine is used).\n",
    "### to_excel method"
   ]
  },
  {
   "cell_type": "code",
   "execution_count": 38,
   "id": "bf3314a2-385f-4d2e-9d7d-a3bb67286708",
   "metadata": {},
   "outputs": [],
   "source": [
    "df_vakances_raw.to_excel(excel_writer='vakances-2022-05-04_modif.xlsx',\n",
    "sheet_name='vakances',\n",
    "index=False, # False - do not show index ID's in the first column. Index ID = row ID (starting from 0)\n",
    "engine = 'openpyxl') # Default. Support also: xlsxwriter"
   ]
  },
  {
   "cell_type": "markdown",
   "id": "d028cf1a-dd11-48c2-a19d-1a504bbe7bec",
   "metadata": {},
   "source": [
    "## Save multiple DataFrames in Excel"
   ]
  },
  {
   "cell_type": "code",
   "execution_count": 39,
   "id": "b2782498-936f-4c3e-ad23-744fe29c7cab",
   "metadata": {},
   "outputs": [],
   "source": [
    "# If executed again - will overwrite result\n",
    "with pd.ExcelWriter(path='vakances-2022-05-04_multiple_sheets.xlsx') as df:\n",
    "        df_vakances_raw.to_excel(excel_writer=df, sheet_name='first_sheet', index=False)\n",
    "        df_vakances_raw.to_excel(excel_writer=df, sheet_name='second_sheet', index=False)"
   ]
  },
  {
   "cell_type": "code",
   "execution_count": null,
   "id": "2c28f278-ec4c-4db2-9a19-130271e048a3",
   "metadata": {},
   "outputs": [],
   "source": []
  }
 ],
 "metadata": {
  "kernelspec": {
   "display_name": "Python 3 (ipykernel)",
   "language": "python",
   "name": "python3"
  },
  "language_info": {
   "codemirror_mode": {
    "name": "ipython",
    "version": 3
   },
   "file_extension": ".py",
   "mimetype": "text/x-python",
   "name": "python",
   "nbconvert_exporter": "python",
   "pygments_lexer": "ipython3",
   "version": "3.10.2"
  }
 },
 "nbformat": 4,
 "nbformat_minor": 5
}

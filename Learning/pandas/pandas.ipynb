{
 "cells": [
  {
   "cell_type": "markdown",
   "id": "b0f6a580-9ffa-4fbc-a9aa-46a3b04e0940",
   "metadata": {},
   "source": [
    "# Pandas training"
   ]
  },
  {
   "cell_type": "markdown",
   "id": "b4c0d335-266d-4a79-97f5-c65d0795f5db",
   "metadata": {},
   "source": [
    "Before you start working with pandas library, you need to install following Python packages - <strong>pandas</strong>, <strong>openpyxl</strong> (to export data to Excel), <strong>sqlalchemy</strong> and <strong>cx_Oracle</strong> (to create the engine to connect to the Oracle database), <strong>bs4</strong>, <strong>lxml</strong>, <strong>html5lib</strong> (loading data from web)"
   ]
  },
  {
   "cell_type": "code",
   "execution_count": 1,
   "id": "75a9889e-10a3-483b-8b2a-c1d5c98f5307",
   "metadata": {},
   "outputs": [],
   "source": [
    "import pandas as pd\n",
    "from sqlalchemy import create_engine # to connect to the Oracle DB\n",
    "import getpass # Python's standard library\n",
    "import matplotlib.pyplot as plt # for plotting"
   ]
  },
  {
   "cell_type": "markdown",
   "id": "6be73761-9c57-4aa8-a52a-336284bd4316",
   "metadata": {},
   "source": [
    "pandas have two main object types:\n",
    "* DataFrame\n",
    "* Series\n",
    "\n",
    "# 1. Create DataFrame"
   ]
  },
  {
   "cell_type": "code",
   "execution_count": 2,
   "id": "aeb2bb14-5d22-4771-97bb-a31a9b2a7909",
   "metadata": {},
   "outputs": [
    {
     "data": {
      "text/html": [
       "<div>\n",
       "<style scoped>\n",
       "    .dataframe tbody tr th:only-of-type {\n",
       "        vertical-align: middle;\n",
       "    }\n",
       "\n",
       "    .dataframe tbody tr th {\n",
       "        vertical-align: top;\n",
       "    }\n",
       "\n",
       "    .dataframe thead th {\n",
       "        text-align: right;\n",
       "    }\n",
       "</style>\n",
       "<table border=\"1\" class=\"dataframe\">\n",
       "  <thead>\n",
       "    <tr style=\"text-align: right;\">\n",
       "      <th></th>\n",
       "      <th>col1</th>\n",
       "      <th>col2</th>\n",
       "      <th>col3</th>\n",
       "    </tr>\n",
       "  </thead>\n",
       "  <tbody>\n",
       "    <tr>\n",
       "      <th>0</th>\n",
       "      <td>0</td>\n",
       "      <td>0</td>\n",
       "      <td>0</td>\n",
       "    </tr>\n",
       "    <tr>\n",
       "      <th>1</th>\n",
       "      <td>1</td>\n",
       "      <td>1</td>\n",
       "      <td>1</td>\n",
       "    </tr>\n",
       "    <tr>\n",
       "      <th>2</th>\n",
       "      <td>4</td>\n",
       "      <td>8</td>\n",
       "      <td>16</td>\n",
       "    </tr>\n",
       "    <tr>\n",
       "      <th>3</th>\n",
       "      <td>9</td>\n",
       "      <td>27</td>\n",
       "      <td>81</td>\n",
       "    </tr>\n",
       "    <tr>\n",
       "      <th>4</th>\n",
       "      <td>16</td>\n",
       "      <td>64</td>\n",
       "      <td>256</td>\n",
       "    </tr>\n",
       "  </tbody>\n",
       "</table>\n",
       "</div>"
      ],
      "text/plain": [
       "   col1  col2  col3\n",
       "0     0     0     0\n",
       "1     1     1     1\n",
       "2     4     8    16\n",
       "3     9    27    81\n",
       "4    16    64   256"
      ]
     },
     "execution_count": 2,
     "metadata": {},
     "output_type": "execute_result"
    }
   ],
   "source": [
    "# Construct DataFrame from a dictionary including Series\n",
    "sample_dict = {\"col1\": [i**2 for i in range(5)],\n",
    "               \"col2\": [i**3 for i in range(5)],\n",
    "               \"col3\": pd.Series([i**4 for i in range(5)])}\n",
    "pd.DataFrame(data = sample_dict)"
   ]
  },
  {
   "cell_type": "code",
   "execution_count": 3,
   "id": "5941ef12-e0f0-4609-9c39-c96f3d8e5773",
   "metadata": {},
   "outputs": [
    {
     "data": {
      "text/html": [
       "<div>\n",
       "<style scoped>\n",
       "    .dataframe tbody tr th:only-of-type {\n",
       "        vertical-align: middle;\n",
       "    }\n",
       "\n",
       "    .dataframe tbody tr th {\n",
       "        vertical-align: top;\n",
       "    }\n",
       "\n",
       "    .dataframe thead th {\n",
       "        text-align: right;\n",
       "    }\n",
       "</style>\n",
       "<table border=\"1\" class=\"dataframe\">\n",
       "  <thead>\n",
       "    <tr style=\"text-align: right;\">\n",
       "      <th></th>\n",
       "      <th>col1</th>\n",
       "      <th>col2</th>\n",
       "      <th>col3</th>\n",
       "      <th>col4</th>\n",
       "    </tr>\n",
       "  </thead>\n",
       "  <tbody>\n",
       "    <tr>\n",
       "      <th>0</th>\n",
       "      <td>0</td>\n",
       "      <td>0.0</td>\n",
       "      <td>NaN</td>\n",
       "      <td>0.0</td>\n",
       "    </tr>\n",
       "    <tr>\n",
       "      <th>1</th>\n",
       "      <td>1</td>\n",
       "      <td>1.0</td>\n",
       "      <td>NaN</td>\n",
       "      <td>NaN</td>\n",
       "    </tr>\n",
       "    <tr>\n",
       "      <th>2</th>\n",
       "      <td>4</td>\n",
       "      <td>8.0</td>\n",
       "      <td>NaN</td>\n",
       "      <td>1.0</td>\n",
       "    </tr>\n",
       "    <tr>\n",
       "      <th>3</th>\n",
       "      <td>9</td>\n",
       "      <td>27.0</td>\n",
       "      <td>NaN</td>\n",
       "      <td>NaN</td>\n",
       "    </tr>\n",
       "    <tr>\n",
       "      <th>4</th>\n",
       "      <td>16</td>\n",
       "      <td>64.0</td>\n",
       "      <td>0.0</td>\n",
       "      <td>32.0</td>\n",
       "    </tr>\n",
       "    <tr>\n",
       "      <th>5</th>\n",
       "      <td>25</td>\n",
       "      <td>125.0</td>\n",
       "      <td>1.0</td>\n",
       "      <td>NaN</td>\n",
       "    </tr>\n",
       "    <tr>\n",
       "      <th>6</th>\n",
       "      <td>36</td>\n",
       "      <td>NaN</td>\n",
       "      <td>16.0</td>\n",
       "      <td>243.0</td>\n",
       "    </tr>\n",
       "    <tr>\n",
       "      <th>7</th>\n",
       "      <td>49</td>\n",
       "      <td>NaN</td>\n",
       "      <td>81.0</td>\n",
       "      <td>NaN</td>\n",
       "    </tr>\n",
       "    <tr>\n",
       "      <th>8</th>\n",
       "      <td>64</td>\n",
       "      <td>NaN</td>\n",
       "      <td>256.0</td>\n",
       "      <td>1024.0</td>\n",
       "    </tr>\n",
       "    <tr>\n",
       "      <th>9</th>\n",
       "      <td>81</td>\n",
       "      <td>NaN</td>\n",
       "      <td>625.0</td>\n",
       "      <td>NaN</td>\n",
       "    </tr>\n",
       "  </tbody>\n",
       "</table>\n",
       "</div>"
      ],
      "text/plain": [
       "   col1   col2   col3    col4\n",
       "0     0    0.0    NaN     0.0\n",
       "1     1    1.0    NaN     NaN\n",
       "2     4    8.0    NaN     1.0\n",
       "3     9   27.0    NaN     NaN\n",
       "4    16   64.0    0.0    32.0\n",
       "5    25  125.0    1.0     NaN\n",
       "6    36    NaN   16.0   243.0\n",
       "7    49    NaN   81.0     NaN\n",
       "8    64    NaN  256.0  1024.0\n",
       "9    81    NaN  625.0     NaN"
      ]
     },
     "execution_count": 3,
     "metadata": {},
     "output_type": "execute_result"
    }
   ],
   "source": [
    "# Construct DataFrame from a dictionary including Series (with some missing data)\n",
    "sample_dict = {\"col1\": [i**2 for i in range(10)],\n",
    "               \"col2\": pd.Series([i**3 for i in range(6)]),\n",
    "               \"col3\": pd.Series([i**4 for i in range(6)], index = range(4, 10)),\n",
    "               \"col4\": pd.Series([i**5 for i in range(5)], index = range(0, 10, 2))}\n",
    "df_manual = pd.DataFrame(data = sample_dict)#, index = range(10))\n",
    "df_manual"
   ]
  },
  {
   "cell_type": "markdown",
   "id": "df1f3b6e-42c1-484c-a718-267b5195b491",
   "metadata": {},
   "source": [
    "# 2. Read files\n",
    "Additional source: https://pandas.pydata.org/docs/getting_started/intro_tutorials/02_read_write.html.<br/>"
   ]
  },
  {
   "cell_type": "markdown",
   "id": "88cdb235-aae3-4bb5-99bd-1b3200fd2750",
   "metadata": {},
   "source": [
    "## read_csv function\n",
    "https://pandas.pydata.org/docs/reference/api/pandas.read_csv.html"
   ]
  },
  {
   "cell_type": "code",
   "execution_count": 2,
   "id": "45d8be18-6c6d-404e-b8c4-7333bc65e102",
   "metadata": {},
   "outputs": [
    {
     "name": "stdout",
     "output_type": "stream",
     "text": [
      "type(df_vakances_raw)=<class 'pandas.core.frame.DataFrame'>\n",
      "Vakances Nr                       object\n",
      "Aktualizācijas datums             object\n",
      "Iestādes reģistrācijas numurs      int64\n",
      "Vakances nosaukums                object\n",
      "Vakances kategorija               object\n",
      "Alga no                          float64\n",
      "Alga līdz                        float64\n",
      "Slodzes tips                      object\n",
      "Darba laika veids                 object\n",
      "Darba stundas nedēļā             float64\n",
      "Pieteikšanās termiņš              object\n",
      "Attēls                           float64\n",
      "Vieta                             object\n",
      "Vakances paplašināts apraksts     object\n",
      "dtype: object\n"
     ]
    }
   ],
   "source": [
    "df_vakances_raw = pd.read_csv(filepath_or_buffer='vakances-2022-05-04.csv')\n",
    "print(f\"{type(df_vakances_raw)=}\")\n",
    "print(df_vakances_raw.dtypes)"
   ]
  },
  {
   "cell_type": "code",
   "execution_count": 3,
   "id": "b14bc540-525c-4184-a8ae-4a0b9b6da604",
   "metadata": {},
   "outputs": [
    {
     "data": {
      "text/html": [
       "<div>\n",
       "<style scoped>\n",
       "    .dataframe tbody tr th:only-of-type {\n",
       "        vertical-align: middle;\n",
       "    }\n",
       "\n",
       "    .dataframe tbody tr th {\n",
       "        vertical-align: top;\n",
       "    }\n",
       "\n",
       "    .dataframe thead th {\n",
       "        text-align: right;\n",
       "    }\n",
       "</style>\n",
       "<table border=\"1\" class=\"dataframe\">\n",
       "  <thead>\n",
       "    <tr style=\"text-align: right;\">\n",
       "      <th></th>\n",
       "      <th>Vakances Nr</th>\n",
       "      <th>Aktualizācijas datums</th>\n",
       "      <th>Iestādes reģistrācijas numurs</th>\n",
       "      <th>Vakances nosaukums</th>\n",
       "      <th>Vakances kategorija</th>\n",
       "      <th>Alga no</th>\n",
       "      <th>Alga līdz</th>\n",
       "      <th>Slodzes tips</th>\n",
       "      <th>Darba laika veids</th>\n",
       "      <th>Darba stundas nedēļā</th>\n",
       "      <th>Pieteikšanās termiņš</th>\n",
       "      <th>Attēls</th>\n",
       "      <th>Vieta</th>\n",
       "      <th>Vakances paplašināts apraksts</th>\n",
       "    </tr>\n",
       "  </thead>\n",
       "  <tbody>\n",
       "    <tr>\n",
       "      <th>811</th>\n",
       "      <td>220426-215</td>\n",
       "      <td>2022-04-26</td>\n",
       "      <td>90009225180</td>\n",
       "      <td>VECĀKAIS GRĀMATVEDIS</td>\n",
       "      <td>Valsts pārvalde</td>\n",
       "      <td>835.0</td>\n",
       "      <td>1190.0</td>\n",
       "      <td>Viena vesela slodze</td>\n",
       "      <td>NaN</td>\n",
       "      <td>NaN</td>\n",
       "      <td>2022-05-15</td>\n",
       "      <td>NaN</td>\n",
       "      <td>Ernestīnes iela 34, Rīga</td>\n",
       "      <td>https://cvvp.nva.gov.lv/#/pub/vakances/320581718</td>\n",
       "    </tr>\n",
       "    <tr>\n",
       "      <th>849</th>\n",
       "      <td>220328-4</td>\n",
       "      <td>2022-04-27</td>\n",
       "      <td>90009756700</td>\n",
       "      <td>SABIEDRĪBAS VESELĪBAS ORGANIZATORS</td>\n",
       "      <td>Valsts pārvalde</td>\n",
       "      <td>675.0</td>\n",
       "      <td>996.0</td>\n",
       "      <td>Viena vesela slodze</td>\n",
       "      <td>Normālais darba laiks</td>\n",
       "      <td>40.0</td>\n",
       "      <td>2022-05-31</td>\n",
       "      <td>NaN</td>\n",
       "      <td>Brīvības iela 258A, Jēkabpils, Jēkabpils nov.</td>\n",
       "      <td>https://cvvp.nva.gov.lv/#/pub/vakances/318449725</td>\n",
       "    </tr>\n",
       "    <tr>\n",
       "      <th>104</th>\n",
       "      <td>220316-162</td>\n",
       "      <td>2022-04-29</td>\n",
       "      <td>41503032140</td>\n",
       "      <td>MĀSA (MEDICĪNAS MĀSA)</td>\n",
       "      <td>Veselības aprūpe / Sociālā aprūpe</td>\n",
       "      <td>1032.0</td>\n",
       "      <td>1032.0</td>\n",
       "      <td>Viena vesela slodze</td>\n",
       "      <td>Summētais darba laiks</td>\n",
       "      <td>NaN</td>\n",
       "      <td>2022-05-30</td>\n",
       "      <td>NaN</td>\n",
       "      <td>Rīgas iela 159, Krāslava, Krāslavas nov.</td>\n",
       "      <td>https://cvvp.nva.gov.lv/#/pub/vakances/317816402</td>\n",
       "    </tr>\n",
       "  </tbody>\n",
       "</table>\n",
       "</div>"
      ],
      "text/plain": [
       "    Vakances Nr Aktualizācijas datums  Iestādes reģistrācijas numurs  \\\n",
       "811  220426-215            2022-04-26                    90009225180   \n",
       "849    220328-4            2022-04-27                    90009756700   \n",
       "104  220316-162            2022-04-29                    41503032140   \n",
       "\n",
       "                     Vakances nosaukums                Vakances kategorija  \\\n",
       "811                VECĀKAIS GRĀMATVEDIS                    Valsts pārvalde   \n",
       "849  SABIEDRĪBAS VESELĪBAS ORGANIZATORS                    Valsts pārvalde   \n",
       "104               MĀSA (MEDICĪNAS MĀSA)  Veselības aprūpe / Sociālā aprūpe   \n",
       "\n",
       "     Alga no  Alga līdz         Slodzes tips      Darba laika veids  \\\n",
       "811    835.0     1190.0  Viena vesela slodze                    NaN   \n",
       "849    675.0      996.0  Viena vesela slodze  Normālais darba laiks   \n",
       "104   1032.0     1032.0  Viena vesela slodze  Summētais darba laiks   \n",
       "\n",
       "     Darba stundas nedēļā Pieteikšanās termiņš Attēls  \\\n",
       "811                   NaN           2022-05-15    NaN   \n",
       "849                  40.0           2022-05-31    NaN   \n",
       "104                   NaN           2022-05-30    NaN   \n",
       "\n",
       "                                             Vieta  \\\n",
       "811                       Ernestīnes iela 34, Rīga   \n",
       "849  Brīvības iela 258A, Jēkabpils, Jēkabpils nov.   \n",
       "104       Rīgas iela 159, Krāslava, Krāslavas nov.   \n",
       "\n",
       "                        Vakances paplašināts apraksts  \n",
       "811  https://cvvp.nva.gov.lv/#/pub/vakances/320581718  \n",
       "849  https://cvvp.nva.gov.lv/#/pub/vakances/318449725  \n",
       "104  https://cvvp.nva.gov.lv/#/pub/vakances/317816402  "
      ]
     },
     "execution_count": 3,
     "metadata": {},
     "output_type": "execute_result"
    }
   ],
   "source": [
    "# Read *.csv file and define data type\n",
    "df_vakances_raw2 = pd.read_csv(filepath_or_buffer='vakances-2022-05-04.csv',\n",
    "                               dtype = {#\"Darba stundas nedēļā\": \"int64\", # int64 will not work. Will show error: Integer column has NA values\n",
    "                                        \"Attēls\": \"object\"},\n",
    "                              parse_dates = [\"Aktualizācijas datums\", \"Pieteikšanās termiņš\"])\n",
    "#print(df_vakances_raw2.dtypes)\n",
    "df_vakances_raw2.sample(3)"
   ]
  },
  {
   "cell_type": "markdown",
   "id": "bba0c42b-041b-4321-b969-deaf2e8a917d",
   "metadata": {},
   "source": [
    "## read_excel function\n",
    "https://pandas.pydata.org/docs/reference/api/pandas.read_excel.html"
   ]
  },
  {
   "cell_type": "code",
   "execution_count": 4,
   "id": "716d147c-5bb6-4bfa-8403-21c782f50bfb",
   "metadata": {},
   "outputs": [
    {
     "name": "stdout",
     "output_type": "stream",
     "text": [
      "df_xlsx_vakances.shape=(1478, 14)\n"
     ]
    }
   ],
   "source": [
    "df_xlsx_vakances = pd.read_excel(io='vakances-2022-05-04.xlsx')\n",
    "print(f\"{df_xlsx_vakances.shape=}\")\n",
    "# Use parameter sheet_name to read data from specific sheet"
   ]
  },
  {
   "cell_type": "code",
   "execution_count": 8,
   "id": "52206f19-4a5f-4127-987b-786e6f2b5980",
   "metadata": {},
   "outputs": [
    {
     "name": "stdout",
     "output_type": "stream",
     "text": [
      "2428775413216 2428775413216 True\n"
     ]
    }
   ],
   "source": [
    "df_other_xlsx = df_xlsx_vakances\n",
    "print(id(df_xlsx_vakances), id(df_other_xlsx), id(df_xlsx_vakances) == id(df_other_xlsx))\n",
    "# Same ID's, so they are same objects. Changes in one object will affect other object as well"
   ]
  },
  {
   "cell_type": "code",
   "execution_count": 9,
   "id": "0ea8e74d-3d5d-47e7-b47b-a1423ce1e923",
   "metadata": {},
   "outputs": [
    {
     "name": "stdout",
     "output_type": "stream",
     "text": [
      "2428775413216 2428471993792 False\n"
     ]
    }
   ],
   "source": [
    "df_other_xlsx = df_xlsx_vakances.copy()\n",
    "print(id(df_xlsx_vakances), id(df_other_xlsx), id(df_xlsx_vakances) == id(df_other_xlsx))\n",
    "# Different ID's, so they are different objects. Changes in one object will not affect other object"
   ]
  },
  {
   "cell_type": "markdown",
   "id": "9774df43-8f53-4b14-8967-6603c8f865a4",
   "metadata": {},
   "source": [
    "## read_sql function\n",
    "https://pandas.pydata.org/docs/reference/api/pandas.read_sql.html <br/>\n",
    "Engines: https://docs.sqlalchemy.org/en/14/core/engines.html"
   ]
  },
  {
   "cell_type": "code",
   "execution_count": 7,
   "id": "62717b36-5203-45e6-8df9-320848252431",
   "metadata": {},
   "outputs": [
    {
     "name": "stdin",
     "output_type": "stream",
     "text": [
      "Enter password to connect to the db_name database:  ····\n"
     ]
    }
   ],
   "source": [
    "ci = {\"user\":\"user_name\", \"host\":\"hostname\", \"port\":1521, \"database\":\"db_name\"}\n",
    "psw = getpass.getpass(f'Enter password to connect to the {ci[\"database\"]} database: ')  \n",
    "o_engine = create_engine(f'oracle://{ci[\"user\"]}:{psw}@{ci[\"host\"]}:{ci[\"port\"]}/{ci[\"database\"]}') # need also cx_Oracle package"
   ]
  },
  {
   "cell_type": "code",
   "execution_count": 6,
   "id": "0cb4a19b-662c-471b-a657-a43d3f00bbff",
   "metadata": {},
   "outputs": [
    {
     "name": "stdout",
     "output_type": "stream",
     "text": [
      "<class 'pandas.core.frame.DataFrame'>\n",
      "RangeIndex: 1272 entries, 0 to 1271\n",
      "Columns: 126 entries, d_date to dt_created\n",
      "dtypes: datetime64[ns](3), float64(28), int64(43), object(52)\n",
      "memory usage: 1.2+ MB\n",
      "None\n"
     ]
    }
   ],
   "source": [
    "df_db_sample = pd.read_sql(sql=\"\"\"\n",
    "    SELECT *\n",
    "    FROM SCHEMA.TABLE_NAME\n",
    "    WHERE DATE_COLUMN >= SYSDATE - 7\n",
    "    ORDER BY DATE_COLUMN, COL1, COL2 \n",
    "    \"\"\",\n",
    "    con=o_engine)\n",
    "\n",
    "print(df_db_sample.info()) # Liela saraksta gadījumā nerāda katras kolonnas info."
   ]
  },
  {
   "cell_type": "markdown",
   "id": "f4f46d43-7ef8-46bb-a3ab-96a2ef748083",
   "metadata": {},
   "source": [
    "## read_json function\n",
    "https://pandas.pydata.org/docs/reference/api/pandas.read_json.html <br/>\n",
    "Alternatively you can use Python's standard library <strong>json</strong> https://docs.python.org/3/library/json.html or <strong>requests</strong> (https://requests.readthedocs.io/en/latest/) if JSON file need to read from the web."
   ]
  },
  {
   "cell_type": "code",
   "execution_count": 8,
   "id": "41195a54-a168-4287-bb96-8a9feb022b57",
   "metadata": {},
   "outputs": [
    {
     "data": {
      "text/html": [
       "<div>\n",
       "<style scoped>\n",
       "    .dataframe tbody tr th:only-of-type {\n",
       "        vertical-align: middle;\n",
       "    }\n",
       "\n",
       "    .dataframe tbody tr th {\n",
       "        vertical-align: top;\n",
       "    }\n",
       "\n",
       "    .dataframe thead th {\n",
       "        text-align: right;\n",
       "    }\n",
       "</style>\n",
       "<table border=\"1\" class=\"dataframe\">\n",
       "  <thead>\n",
       "    <tr style=\"text-align: right;\">\n",
       "      <th></th>\n",
       "      <th>userId</th>\n",
       "      <th>id</th>\n",
       "      <th>title</th>\n",
       "      <th>completed</th>\n",
       "    </tr>\n",
       "  </thead>\n",
       "  <tbody>\n",
       "    <tr>\n",
       "      <th>0</th>\n",
       "      <td>1</td>\n",
       "      <td>1</td>\n",
       "      <td>delectus aut autem</td>\n",
       "      <td>False</td>\n",
       "    </tr>\n",
       "    <tr>\n",
       "      <th>1</th>\n",
       "      <td>1</td>\n",
       "      <td>2</td>\n",
       "      <td>quis ut nam facilis et officia qui</td>\n",
       "      <td>False</td>\n",
       "    </tr>\n",
       "    <tr>\n",
       "      <th>2</th>\n",
       "      <td>1</td>\n",
       "      <td>3</td>\n",
       "      <td>fugiat veniam minus</td>\n",
       "      <td>False</td>\n",
       "    </tr>\n",
       "    <tr>\n",
       "      <th>3</th>\n",
       "      <td>1</td>\n",
       "      <td>4</td>\n",
       "      <td>et porro tempora</td>\n",
       "      <td>True</td>\n",
       "    </tr>\n",
       "    <tr>\n",
       "      <th>4</th>\n",
       "      <td>1</td>\n",
       "      <td>5</td>\n",
       "      <td>laboriosam mollitia et enim quasi adipisci qui...</td>\n",
       "      <td>False</td>\n",
       "    </tr>\n",
       "    <tr>\n",
       "      <th>...</th>\n",
       "      <td>...</td>\n",
       "      <td>...</td>\n",
       "      <td>...</td>\n",
       "      <td>...</td>\n",
       "    </tr>\n",
       "    <tr>\n",
       "      <th>195</th>\n",
       "      <td>10</td>\n",
       "      <td>196</td>\n",
       "      <td>consequuntur aut ut fugit similique</td>\n",
       "      <td>True</td>\n",
       "    </tr>\n",
       "    <tr>\n",
       "      <th>196</th>\n",
       "      <td>10</td>\n",
       "      <td>197</td>\n",
       "      <td>dignissimos quo nobis earum saepe</td>\n",
       "      <td>True</td>\n",
       "    </tr>\n",
       "    <tr>\n",
       "      <th>197</th>\n",
       "      <td>10</td>\n",
       "      <td>198</td>\n",
       "      <td>quis eius est sint explicabo</td>\n",
       "      <td>True</td>\n",
       "    </tr>\n",
       "    <tr>\n",
       "      <th>198</th>\n",
       "      <td>10</td>\n",
       "      <td>199</td>\n",
       "      <td>numquam repellendus a magnam</td>\n",
       "      <td>True</td>\n",
       "    </tr>\n",
       "    <tr>\n",
       "      <th>199</th>\n",
       "      <td>10</td>\n",
       "      <td>200</td>\n",
       "      <td>ipsam aperiam voluptates qui</td>\n",
       "      <td>False</td>\n",
       "    </tr>\n",
       "  </tbody>\n",
       "</table>\n",
       "<p>200 rows × 4 columns</p>\n",
       "</div>"
      ],
      "text/plain": [
       "     userId   id                                              title  completed\n",
       "0         1    1                                 delectus aut autem      False\n",
       "1         1    2                 quis ut nam facilis et officia qui      False\n",
       "2         1    3                                fugiat veniam minus      False\n",
       "3         1    4                                   et porro tempora       True\n",
       "4         1    5  laboriosam mollitia et enim quasi adipisci qui...      False\n",
       "..      ...  ...                                                ...        ...\n",
       "195      10  196                consequuntur aut ut fugit similique       True\n",
       "196      10  197                  dignissimos quo nobis earum saepe       True\n",
       "197      10  198                       quis eius est sint explicabo       True\n",
       "198      10  199                       numquam repellendus a magnam       True\n",
       "199      10  200                       ipsam aperiam voluptates qui      False\n",
       "\n",
       "[200 rows x 4 columns]"
      ]
     },
     "execution_count": 8,
     "metadata": {},
     "output_type": "execute_result"
    }
   ],
   "source": [
    "dfjson = pd.read_json(\"https://jsonplaceholder.typicode.com/todos\")\n",
    "dfjson"
   ]
  },
  {
   "cell_type": "markdown",
   "id": "a4e29c5b-daa6-46f5-af87-3aba9970036e",
   "metadata": {},
   "source": [
    "## read_html function\n",
    "https://pandas.pydata.org/docs/reference/api/pandas.read_html.html"
   ]
  },
  {
   "cell_type": "code",
   "execution_count": 68,
   "id": "682192a5-2a68-4679-82da-002656b97eb1",
   "metadata": {},
   "outputs": [
    {
     "data": {
      "text/html": [
       "<div>\n",
       "<style scoped>\n",
       "    .dataframe tbody tr th:only-of-type {\n",
       "        vertical-align: middle;\n",
       "    }\n",
       "\n",
       "    .dataframe tbody tr th {\n",
       "        vertical-align: top;\n",
       "    }\n",
       "\n",
       "    .dataframe thead th {\n",
       "        text-align: right;\n",
       "    }\n",
       "</style>\n",
       "<table border=\"1\" class=\"dataframe\">\n",
       "  <thead>\n",
       "    <tr style=\"text-align: right;\">\n",
       "      <th></th>\n",
       "      <th>Name</th>\n",
       "      <th>Population density(/km2)</th>\n",
       "      <th>Area(km2)</th>\n",
       "      <th>Population</th>\n",
       "    </tr>\n",
       "  </thead>\n",
       "  <tbody>\n",
       "    <tr>\n",
       "      <th>0</th>\n",
       "      <td>Monaco</td>\n",
       "      <td>18960.0</td>\n",
       "      <td>2.02</td>\n",
       "      <td>38300</td>\n",
       "    </tr>\n",
       "    <tr>\n",
       "      <th>1</th>\n",
       "      <td>Gibraltar (UK)</td>\n",
       "      <td>5011.0</td>\n",
       "      <td>6.7</td>\n",
       "      <td>33573</td>\n",
       "    </tr>\n",
       "    <tr>\n",
       "      <th>2</th>\n",
       "      <td>Vatican City</td>\n",
       "      <td>1684.0</td>\n",
       "      <td>0.49[a]</td>\n",
       "      <td>825</td>\n",
       "    </tr>\n",
       "    <tr>\n",
       "      <th>3</th>\n",
       "      <td>Malta</td>\n",
       "      <td>1505.0</td>\n",
       "      <td>316</td>\n",
       "      <td>475701</td>\n",
       "    </tr>\n",
       "    <tr>\n",
       "      <th>4</th>\n",
       "      <td>Guernsey (UK)</td>\n",
       "      <td>955.0</td>\n",
       "      <td>65</td>\n",
       "      <td>62063</td>\n",
       "    </tr>\n",
       "    <tr>\n",
       "      <th>...</th>\n",
       "      <td>...</td>\n",
       "      <td>...</td>\n",
       "      <td>...</td>\n",
       "      <td>...</td>\n",
       "    </tr>\n",
       "    <tr>\n",
       "      <th>56</th>\n",
       "      <td>Finland</td>\n",
       "      <td>16.0</td>\n",
       "      <td>338424</td>\n",
       "      <td>5521533</td>\n",
       "    </tr>\n",
       "    <tr>\n",
       "      <th>57</th>\n",
       "      <td>Norway</td>\n",
       "      <td>14.0</td>\n",
       "      <td>385203</td>\n",
       "      <td>5323933</td>\n",
       "    </tr>\n",
       "    <tr>\n",
       "      <th>58</th>\n",
       "      <td>Kazakhstan (European part)</td>\n",
       "      <td>5.5</td>\n",
       "      <td>148000</td>\n",
       "      <td>813621</td>\n",
       "    </tr>\n",
       "    <tr>\n",
       "      <th>59</th>\n",
       "      <td>Iceland</td>\n",
       "      <td>3.5</td>\n",
       "      <td>102775</td>\n",
       "      <td>355620</td>\n",
       "    </tr>\n",
       "    <tr>\n",
       "      <th>60</th>\n",
       "      <td>Total</td>\n",
       "      <td>73.0</td>\n",
       "      <td>10160000</td>\n",
       "      <td>740000000</td>\n",
       "    </tr>\n",
       "  </tbody>\n",
       "</table>\n",
       "<p>61 rows × 4 columns</p>\n",
       "</div>"
      ],
      "text/plain": [
       "                          Name  Population density(/km2) Area(km2)  Population\n",
       "0                       Monaco                   18960.0      2.02       38300\n",
       "1               Gibraltar (UK)                    5011.0       6.7       33573\n",
       "2                 Vatican City                    1684.0   0.49[a]         825\n",
       "3                        Malta                    1505.0       316      475701\n",
       "4                Guernsey (UK)                     955.0        65       62063\n",
       "..                         ...                       ...       ...         ...\n",
       "56                     Finland                      16.0    338424     5521533\n",
       "57                      Norway                      14.0    385203     5323933\n",
       "58  Kazakhstan (European part)                       5.5    148000      813621\n",
       "59                     Iceland                       3.5    102775      355620\n",
       "60                       Total                      73.0  10160000   740000000\n",
       "\n",
       "[61 rows x 4 columns]"
      ]
     },
     "execution_count": 68,
     "metadata": {},
     "output_type": "execute_result"
    }
   ],
   "source": [
    "# Population density, area and population of countries and dependencies in Europe\n",
    "dfhtml = pd.read_html('https://en.wikipedia.org/wiki/Area_and_population_of_European_countries')[1]\n",
    "dfhtml"
   ]
  },
  {
   "cell_type": "code",
   "execution_count": 70,
   "id": "fc1171f7-9eb3-4330-8fc1-6c2670111a68",
   "metadata": {},
   "outputs": [
    {
     "data": {
      "text/html": [
       "<div>\n",
       "<style scoped>\n",
       "    .dataframe tbody tr th:only-of-type {\n",
       "        vertical-align: middle;\n",
       "    }\n",
       "\n",
       "    .dataframe tbody tr th {\n",
       "        vertical-align: top;\n",
       "    }\n",
       "\n",
       "    .dataframe thead th {\n",
       "        text-align: right;\n",
       "    }\n",
       "</style>\n",
       "<table border=\"1\" class=\"dataframe\">\n",
       "  <thead>\n",
       "    <tr style=\"text-align: right;\">\n",
       "      <th></th>\n",
       "      <th>Name</th>\n",
       "      <th>Population density(/km2)</th>\n",
       "      <th>Area(km2)</th>\n",
       "      <th>Population</th>\n",
       "    </tr>\n",
       "  </thead>\n",
       "  <tbody>\n",
       "    <tr>\n",
       "      <th>0</th>\n",
       "      <td>Monaco</td>\n",
       "      <td>18960.0</td>\n",
       "      <td>2.02</td>\n",
       "      <td>38300</td>\n",
       "    </tr>\n",
       "    <tr>\n",
       "      <th>1</th>\n",
       "      <td>Gibraltar (UK)</td>\n",
       "      <td>5011.0</td>\n",
       "      <td>6.7</td>\n",
       "      <td>33573</td>\n",
       "    </tr>\n",
       "    <tr>\n",
       "      <th>2</th>\n",
       "      <td>Vatican City</td>\n",
       "      <td>1684.0</td>\n",
       "      <td>0.49[a]</td>\n",
       "      <td>825</td>\n",
       "    </tr>\n",
       "    <tr>\n",
       "      <th>3</th>\n",
       "      <td>Malta</td>\n",
       "      <td>1505.0</td>\n",
       "      <td>316</td>\n",
       "      <td>475701</td>\n",
       "    </tr>\n",
       "    <tr>\n",
       "      <th>4</th>\n",
       "      <td>Guernsey (UK)</td>\n",
       "      <td>955.0</td>\n",
       "      <td>65</td>\n",
       "      <td>62063</td>\n",
       "    </tr>\n",
       "    <tr>\n",
       "      <th>...</th>\n",
       "      <td>...</td>\n",
       "      <td>...</td>\n",
       "      <td>...</td>\n",
       "      <td>...</td>\n",
       "    </tr>\n",
       "    <tr>\n",
       "      <th>56</th>\n",
       "      <td>Finland</td>\n",
       "      <td>16.0</td>\n",
       "      <td>338424</td>\n",
       "      <td>5521533</td>\n",
       "    </tr>\n",
       "    <tr>\n",
       "      <th>57</th>\n",
       "      <td>Norway</td>\n",
       "      <td>14.0</td>\n",
       "      <td>385203</td>\n",
       "      <td>5323933</td>\n",
       "    </tr>\n",
       "    <tr>\n",
       "      <th>58</th>\n",
       "      <td>Kazakhstan (European part)</td>\n",
       "      <td>5.5</td>\n",
       "      <td>148000</td>\n",
       "      <td>813621</td>\n",
       "    </tr>\n",
       "    <tr>\n",
       "      <th>59</th>\n",
       "      <td>Iceland</td>\n",
       "      <td>3.5</td>\n",
       "      <td>102775</td>\n",
       "      <td>355620</td>\n",
       "    </tr>\n",
       "    <tr>\n",
       "      <th>60</th>\n",
       "      <td>Total</td>\n",
       "      <td>73.0</td>\n",
       "      <td>10160000</td>\n",
       "      <td>740000000</td>\n",
       "    </tr>\n",
       "  </tbody>\n",
       "</table>\n",
       "<p>61 rows × 4 columns</p>\n",
       "</div>"
      ],
      "text/plain": [
       "                          Name  Population density(/km2) Area(km2)  Population\n",
       "0                       Monaco                   18960.0      2.02       38300\n",
       "1               Gibraltar (UK)                    5011.0       6.7       33573\n",
       "2                 Vatican City                    1684.0   0.49[a]         825\n",
       "3                        Malta                    1505.0       316      475701\n",
       "4                Guernsey (UK)                     955.0        65       62063\n",
       "..                         ...                       ...       ...         ...\n",
       "56                     Finland                      16.0    338424     5521533\n",
       "57                      Norway                      14.0    385203     5323933\n",
       "58  Kazakhstan (European part)                       5.5    148000      813621\n",
       "59                     Iceland                       3.5    102775      355620\n",
       "60                       Total                      73.0  10160000   740000000\n",
       "\n",
       "[61 rows x 4 columns]"
      ]
     },
     "execution_count": 70,
     "metadata": {},
     "output_type": "execute_result"
    }
   ],
   "source": [
    "# Get all results from webpage where class name is \"wikitable\"\n",
    "dfhtml2 = pd.read_html('https://en.wikipedia.org/wiki/Area_and_population_of_European_countries',\n",
    "                      attrs = {\"class\": \"wikitable\"})[0]\n",
    "dfhtml2"
   ]
  },
  {
   "cell_type": "markdown",
   "id": "ae0a8891-6a92-4c3e-b725-94986b4ba4fb",
   "metadata": {},
   "source": [
    "# 3. Get basic information from DataFrames/Series"
   ]
  },
  {
   "cell_type": "markdown",
   "id": "bdbea496-3979-4dec-aee6-e1e4a30e7e93",
   "metadata": {},
   "source": [
    "## head method\n",
    "https://pandas.pydata.org/docs/reference/api/pandas.DataFrame.head.html"
   ]
  },
  {
   "cell_type": "code",
   "execution_count": 10,
   "id": "d3301fe7-9416-48a7-b241-649cb341126e",
   "metadata": {},
   "outputs": [
    {
     "data": {
      "text/html": [
       "<div>\n",
       "<style scoped>\n",
       "    .dataframe tbody tr th:only-of-type {\n",
       "        vertical-align: middle;\n",
       "    }\n",
       "\n",
       "    .dataframe tbody tr th {\n",
       "        vertical-align: top;\n",
       "    }\n",
       "\n",
       "    .dataframe thead th {\n",
       "        text-align: right;\n",
       "    }\n",
       "</style>\n",
       "<table border=\"1\" class=\"dataframe\">\n",
       "  <thead>\n",
       "    <tr style=\"text-align: right;\">\n",
       "      <th></th>\n",
       "      <th>Vakances Nr</th>\n",
       "      <th>Aktualizācijas datums</th>\n",
       "      <th>Iestādes reģistrācijas numurs</th>\n",
       "      <th>Vakances nosaukums</th>\n",
       "      <th>Vakances kategorija</th>\n",
       "      <th>Alga no</th>\n",
       "      <th>Alga līdz</th>\n",
       "      <th>Slodzes tips</th>\n",
       "      <th>Darba laika veids</th>\n",
       "      <th>Darba stundas nedēļā</th>\n",
       "      <th>Pieteikšanās termiņš</th>\n",
       "      <th>Attēls</th>\n",
       "      <th>Vieta</th>\n",
       "      <th>Vakances paplašināts apraksts</th>\n",
       "    </tr>\n",
       "  </thead>\n",
       "  <tbody>\n",
       "    <tr>\n",
       "      <th>0</th>\n",
       "      <td>220419-23</td>\n",
       "      <td>2022-04-29</td>\n",
       "      <td>44103015509</td>\n",
       "      <td>OTRREIZĒJO IZEJVIELU ŠĶIROTĀJS</td>\n",
       "      <td>Pakalpojumi</td>\n",
       "      <td>750.0</td>\n",
       "      <td>1000.0</td>\n",
       "      <td>Viena vesela slodze</td>\n",
       "      <td>NaN</td>\n",
       "      <td>NaN</td>\n",
       "      <td>2022-05-20</td>\n",
       "      <td>NaN</td>\n",
       "      <td>Daibe, Stalbes pag., Cēsu nov.</td>\n",
       "      <td>https://cvvp.nva.gov.lv/#/pub/vakances/319927475</td>\n",
       "    </tr>\n",
       "    <tr>\n",
       "      <th>1</th>\n",
       "      <td>220503-43</td>\n",
       "      <td>2022-05-03</td>\n",
       "      <td>44103015509</td>\n",
       "      <td>GADĪJUMA DARBU STRĀDNIEKS</td>\n",
       "      <td>Pakalpojumi</td>\n",
       "      <td>500.0</td>\n",
       "      <td>500.0</td>\n",
       "      <td>Viena vesela slodze</td>\n",
       "      <td>NaN</td>\n",
       "      <td>NaN</td>\n",
       "      <td>2022-05-20</td>\n",
       "      <td>NaN</td>\n",
       "      <td>Daibe, Stalbes pag., Cēsu nov.</td>\n",
       "      <td>https://cvvp.nva.gov.lv/#/pub/vakances/321151029</td>\n",
       "    </tr>\n",
       "    <tr>\n",
       "      <th>2</th>\n",
       "      <td>220503-61</td>\n",
       "      <td>2022-05-03</td>\n",
       "      <td>44103015509</td>\n",
       "      <td>ATKRITUMU SAVĀCĒJS</td>\n",
       "      <td>Pakalpojumi</td>\n",
       "      <td>700.0</td>\n",
       "      <td>800.0</td>\n",
       "      <td>Viena vesela slodze</td>\n",
       "      <td>NaN</td>\n",
       "      <td>NaN</td>\n",
       "      <td>2022-05-20</td>\n",
       "      <td>NaN</td>\n",
       "      <td>Valmiera, Valmieras nov.</td>\n",
       "      <td>https://cvvp.nva.gov.lv/#/pub/vakances/321154098</td>\n",
       "    </tr>\n",
       "  </tbody>\n",
       "</table>\n",
       "</div>"
      ],
      "text/plain": [
       "  Vakances Nr Aktualizācijas datums  Iestādes reģistrācijas numurs  \\\n",
       "0   220419-23            2022-04-29                    44103015509   \n",
       "1   220503-43            2022-05-03                    44103015509   \n",
       "2   220503-61            2022-05-03                    44103015509   \n",
       "\n",
       "               Vakances nosaukums Vakances kategorija  Alga no  Alga līdz  \\\n",
       "0  OTRREIZĒJO IZEJVIELU ŠĶIROTĀJS         Pakalpojumi    750.0     1000.0   \n",
       "1       GADĪJUMA DARBU STRĀDNIEKS         Pakalpojumi    500.0      500.0   \n",
       "2              ATKRITUMU SAVĀCĒJS         Pakalpojumi    700.0      800.0   \n",
       "\n",
       "          Slodzes tips Darba laika veids  Darba stundas nedēļā  \\\n",
       "0  Viena vesela slodze               NaN                   NaN   \n",
       "1  Viena vesela slodze               NaN                   NaN   \n",
       "2  Viena vesela slodze               NaN                   NaN   \n",
       "\n",
       "  Pieteikšanās termiņš  Attēls                           Vieta  \\\n",
       "0           2022-05-20     NaN  Daibe, Stalbes pag., Cēsu nov.   \n",
       "1           2022-05-20     NaN  Daibe, Stalbes pag., Cēsu nov.   \n",
       "2           2022-05-20     NaN        Valmiera, Valmieras nov.   \n",
       "\n",
       "                      Vakances paplašināts apraksts  \n",
       "0  https://cvvp.nva.gov.lv/#/pub/vakances/319927475  \n",
       "1  https://cvvp.nva.gov.lv/#/pub/vakances/321151029  \n",
       "2  https://cvvp.nva.gov.lv/#/pub/vakances/321154098  "
      ]
     },
     "execution_count": 10,
     "metadata": {},
     "output_type": "execute_result"
    }
   ],
   "source": [
    "df_vakances_raw.head(3) # by default it shows first 5 rows.\n",
    "# Negative number (f.e. .head(-10)) will show all rows except last 10.\n",
    "# in R: head(df_vakances_raw)"
   ]
  },
  {
   "cell_type": "markdown",
   "id": "fe9a1628-9afa-48c5-8c18-c26cafa86533",
   "metadata": {},
   "source": [
    "## tail method\n",
    "https://pandas.pydata.org/docs/reference/api/pandas.DataFrame.tail.html"
   ]
  },
  {
   "cell_type": "code",
   "execution_count": 11,
   "id": "88015b09-3ef4-44ff-9f4c-bcd1e0b83a72",
   "metadata": {},
   "outputs": [
    {
     "data": {
      "text/html": [
       "<div>\n",
       "<style scoped>\n",
       "    .dataframe tbody tr th:only-of-type {\n",
       "        vertical-align: middle;\n",
       "    }\n",
       "\n",
       "    .dataframe tbody tr th {\n",
       "        vertical-align: top;\n",
       "    }\n",
       "\n",
       "    .dataframe thead th {\n",
       "        text-align: right;\n",
       "    }\n",
       "</style>\n",
       "<table border=\"1\" class=\"dataframe\">\n",
       "  <thead>\n",
       "    <tr style=\"text-align: right;\">\n",
       "      <th></th>\n",
       "      <th>Vakances Nr</th>\n",
       "      <th>Aktualizācijas datums</th>\n",
       "      <th>Iestādes reģistrācijas numurs</th>\n",
       "      <th>Vakances nosaukums</th>\n",
       "      <th>Vakances kategorija</th>\n",
       "      <th>Alga no</th>\n",
       "      <th>Alga līdz</th>\n",
       "      <th>Slodzes tips</th>\n",
       "      <th>Darba laika veids</th>\n",
       "      <th>Darba stundas nedēļā</th>\n",
       "      <th>Pieteikšanās termiņš</th>\n",
       "      <th>Attēls</th>\n",
       "      <th>Vieta</th>\n",
       "      <th>Vakances paplašināts apraksts</th>\n",
       "    </tr>\n",
       "  </thead>\n",
       "  <tbody>\n",
       "    <tr>\n",
       "      <th>1475</th>\n",
       "      <td>220503-46</td>\n",
       "      <td>2022-05-03</td>\n",
       "      <td>90000043403</td>\n",
       "      <td>IEKŠĒJAIS AUDITORS</td>\n",
       "      <td>Valsts pārvalde</td>\n",
       "      <td>1045.0</td>\n",
       "      <td>1135.0</td>\n",
       "      <td>Viena vesela slodze</td>\n",
       "      <td>Normālais darba laiks</td>\n",
       "      <td>NaN</td>\n",
       "      <td>2022-05-13</td>\n",
       "      <td>NaN</td>\n",
       "      <td>Lāčplēša iela 2, Valmiera, Valmieras nov.</td>\n",
       "      <td>https://cvvp.nva.gov.lv/#/pub/vakances/321151300</td>\n",
       "    </tr>\n",
       "    <tr>\n",
       "      <th>1476</th>\n",
       "      <td>220405-125</td>\n",
       "      <td>2022-04-29</td>\n",
       "      <td>90009226858</td>\n",
       "      <td>ZOBĀRSTS</td>\n",
       "      <td>Veselības aprūpe / Sociālā aprūpe</td>\n",
       "      <td>1000.0</td>\n",
       "      <td>1000.0</td>\n",
       "      <td>Nepilna slodze</td>\n",
       "      <td>Nepilnais darba laiks</td>\n",
       "      <td>NaN</td>\n",
       "      <td>2022-06-01</td>\n",
       "      <td>NaN</td>\n",
       "      <td>Brīvības iela 29, Dagda, Krāslavas nov.</td>\n",
       "      <td>https://cvvp.nva.gov.lv/#/pub/vakances/319101963</td>\n",
       "    </tr>\n",
       "    <tr>\n",
       "      <th>1477</th>\n",
       "      <td>220228-169</td>\n",
       "      <td>2022-04-29</td>\n",
       "      <td>90009226858</td>\n",
       "      <td>FIZIOTERAPEITS</td>\n",
       "      <td>Veselības aprūpe / Sociālā aprūpe</td>\n",
       "      <td>1032.0</td>\n",
       "      <td>1032.0</td>\n",
       "      <td>Viena vesela slodze</td>\n",
       "      <td>Normālais darba laiks</td>\n",
       "      <td>NaN</td>\n",
       "      <td>2022-06-01</td>\n",
       "      <td>NaN</td>\n",
       "      <td>Brīvības iela 29, Dagda, Krāslavas nov.</td>\n",
       "      <td>https://cvvp.nva.gov.lv/#/pub/vakances/316797306</td>\n",
       "    </tr>\n",
       "  </tbody>\n",
       "</table>\n",
       "</div>"
      ],
      "text/plain": [
       "     Vakances Nr Aktualizācijas datums  Iestādes reģistrācijas numurs  \\\n",
       "1475   220503-46            2022-05-03                    90000043403   \n",
       "1476  220405-125            2022-04-29                    90009226858   \n",
       "1477  220228-169            2022-04-29                    90009226858   \n",
       "\n",
       "      Vakances nosaukums                Vakances kategorija  Alga no  \\\n",
       "1475  IEKŠĒJAIS AUDITORS                    Valsts pārvalde   1045.0   \n",
       "1476            ZOBĀRSTS  Veselības aprūpe / Sociālā aprūpe   1000.0   \n",
       "1477      FIZIOTERAPEITS  Veselības aprūpe / Sociālā aprūpe   1032.0   \n",
       "\n",
       "      Alga līdz         Slodzes tips      Darba laika veids  \\\n",
       "1475     1135.0  Viena vesela slodze  Normālais darba laiks   \n",
       "1476     1000.0       Nepilna slodze  Nepilnais darba laiks   \n",
       "1477     1032.0  Viena vesela slodze  Normālais darba laiks   \n",
       "\n",
       "      Darba stundas nedēļā Pieteikšanās termiņš  Attēls  \\\n",
       "1475                   NaN           2022-05-13     NaN   \n",
       "1476                   NaN           2022-06-01     NaN   \n",
       "1477                   NaN           2022-06-01     NaN   \n",
       "\n",
       "                                          Vieta  \\\n",
       "1475  Lāčplēša iela 2, Valmiera, Valmieras nov.   \n",
       "1476    Brīvības iela 29, Dagda, Krāslavas nov.   \n",
       "1477    Brīvības iela 29, Dagda, Krāslavas nov.   \n",
       "\n",
       "                         Vakances paplašināts apraksts  \n",
       "1475  https://cvvp.nva.gov.lv/#/pub/vakances/321151300  \n",
       "1476  https://cvvp.nva.gov.lv/#/pub/vakances/319101963  \n",
       "1477  https://cvvp.nva.gov.lv/#/pub/vakances/316797306  "
      ]
     },
     "execution_count": 11,
     "metadata": {},
     "output_type": "execute_result"
    }
   ],
   "source": [
    "df_vakances_raw.tail(3) # by default it shows last 5 rows\n",
    "# Negative number (f.e. .tail(-10)) will show all rows except first 10.\n",
    "# in R: tail(df_vakances_raw)"
   ]
  },
  {
   "cell_type": "markdown",
   "id": "6329d9b8-8c62-41e8-9f1d-5318887d9bb1",
   "metadata": {},
   "source": [
    "## sample method\n",
    "https://pandas.pydata.org/docs/reference/api/pandas.DataFrame.sample.html"
   ]
  },
  {
   "cell_type": "code",
   "execution_count": 12,
   "id": "5efa1423-5995-4027-bff1-fce59b329b90",
   "metadata": {},
   "outputs": [
    {
     "data": {
      "text/html": [
       "<div>\n",
       "<style scoped>\n",
       "    .dataframe tbody tr th:only-of-type {\n",
       "        vertical-align: middle;\n",
       "    }\n",
       "\n",
       "    .dataframe tbody tr th {\n",
       "        vertical-align: top;\n",
       "    }\n",
       "\n",
       "    .dataframe thead th {\n",
       "        text-align: right;\n",
       "    }\n",
       "</style>\n",
       "<table border=\"1\" class=\"dataframe\">\n",
       "  <thead>\n",
       "    <tr style=\"text-align: right;\">\n",
       "      <th></th>\n",
       "      <th>Vakances Nr</th>\n",
       "      <th>Aktualizācijas datums</th>\n",
       "      <th>Iestādes reģistrācijas numurs</th>\n",
       "      <th>Vakances nosaukums</th>\n",
       "      <th>Vakances kategorija</th>\n",
       "      <th>Alga no</th>\n",
       "      <th>Alga līdz</th>\n",
       "      <th>Slodzes tips</th>\n",
       "      <th>Darba laika veids</th>\n",
       "      <th>Darba stundas nedēļā</th>\n",
       "      <th>Pieteikšanās termiņš</th>\n",
       "      <th>Attēls</th>\n",
       "      <th>Vieta</th>\n",
       "      <th>Vakances paplašināts apraksts</th>\n",
       "    </tr>\n",
       "  </thead>\n",
       "  <tbody>\n",
       "    <tr>\n",
       "      <th>1434</th>\n",
       "      <td>220421-54</td>\n",
       "      <td>2022-04-21</td>\n",
       "      <td>90001259598</td>\n",
       "      <td>IZGLĪTĪBAS METODIĶIS</td>\n",
       "      <td>Izglītība / Zinātne</td>\n",
       "      <td>930.0</td>\n",
       "      <td>930.0</td>\n",
       "      <td>Nepilna slodze</td>\n",
       "      <td>NaN</td>\n",
       "      <td>NaN</td>\n",
       "      <td>2022-08-31</td>\n",
       "      <td>NaN</td>\n",
       "      <td>Tomsona iela 3/5, Rīga</td>\n",
       "      <td>https://cvvp.nva.gov.lv/#/pub/vakances/320161703</td>\n",
       "    </tr>\n",
       "    <tr>\n",
       "      <th>1170</th>\n",
       "      <td>220422-50</td>\n",
       "      <td>2022-04-22</td>\n",
       "      <td>90000017078</td>\n",
       "      <td>VECĀKAIS EKSPERTS</td>\n",
       "      <td>Lauksaimniecība / Vide</td>\n",
       "      <td>835.0</td>\n",
       "      <td>1190.0</td>\n",
       "      <td>Viena vesela slodze</td>\n",
       "      <td>Normālais darba laiks</td>\n",
       "      <td>NaN</td>\n",
       "      <td>2022-05-09</td>\n",
       "      <td>NaN</td>\n",
       "      <td>Leona Paegles iela 13, Valmiera, Valmieras nov.</td>\n",
       "      <td>https://cvvp.nva.gov.lv/#/pub/vakances/320282141</td>\n",
       "    </tr>\n",
       "    <tr>\n",
       "      <th>260</th>\n",
       "      <td>220429-147</td>\n",
       "      <td>2022-04-29</td>\n",
       "      <td>90000054163</td>\n",
       "      <td>VECĀKAIS REFERENTS</td>\n",
       "      <td>Valsts pārvalde</td>\n",
       "      <td>835.0</td>\n",
       "      <td>1015.0</td>\n",
       "      <td>NaN</td>\n",
       "      <td>NaN</td>\n",
       "      <td>NaN</td>\n",
       "      <td>2022-05-12</td>\n",
       "      <td>NaN</td>\n",
       "      <td>Čiekurkalna 1. līnija 1, Rīga</td>\n",
       "      <td>https://cvvp.nva.gov.lv/#/pub/vakances/320917995</td>\n",
       "    </tr>\n",
       "  </tbody>\n",
       "</table>\n",
       "</div>"
      ],
      "text/plain": [
       "     Vakances Nr Aktualizācijas datums  Iestādes reģistrācijas numurs  \\\n",
       "1434   220421-54            2022-04-21                    90001259598   \n",
       "1170   220422-50            2022-04-22                    90000017078   \n",
       "260   220429-147            2022-04-29                    90000054163   \n",
       "\n",
       "        Vakances nosaukums     Vakances kategorija  Alga no  Alga līdz  \\\n",
       "1434  IZGLĪTĪBAS METODIĶIS     Izglītība / Zinātne    930.0      930.0   \n",
       "1170     VECĀKAIS EKSPERTS  Lauksaimniecība / Vide    835.0     1190.0   \n",
       "260     VECĀKAIS REFERENTS         Valsts pārvalde    835.0     1015.0   \n",
       "\n",
       "             Slodzes tips      Darba laika veids  Darba stundas nedēļā  \\\n",
       "1434       Nepilna slodze                    NaN                   NaN   \n",
       "1170  Viena vesela slodze  Normālais darba laiks                   NaN   \n",
       "260                   NaN                    NaN                   NaN   \n",
       "\n",
       "     Pieteikšanās termiņš  Attēls  \\\n",
       "1434           2022-08-31     NaN   \n",
       "1170           2022-05-09     NaN   \n",
       "260            2022-05-12     NaN   \n",
       "\n",
       "                                                Vieta  \\\n",
       "1434                           Tomsona iela 3/5, Rīga   \n",
       "1170  Leona Paegles iela 13, Valmiera, Valmieras nov.   \n",
       "260                     Čiekurkalna 1. līnija 1, Rīga   \n",
       "\n",
       "                         Vakances paplašināts apraksts  \n",
       "1434  https://cvvp.nva.gov.lv/#/pub/vakances/320161703  \n",
       "1170  https://cvvp.nva.gov.lv/#/pub/vakances/320282141  \n",
       "260   https://cvvp.nva.gov.lv/#/pub/vakances/320917995  "
      ]
     },
     "execution_count": 12,
     "metadata": {},
     "output_type": "execute_result"
    }
   ],
   "source": [
    "df_vakances_raw.sample(3, random_state = 221)\n",
    "# Use random_state parameter to get same random record (i.e. it works like random seed)."
   ]
  },
  {
   "cell_type": "markdown",
   "id": "d34b4833-dcf0-4ad9-966b-6ceeb544ccfd",
   "metadata": {},
   "source": [
    "## dtypes attribute\n",
    "https://pandas.pydata.org/docs/reference/api/pandas.DataFrame.dtypes.html <br/>\n",
    "More about dtypes - https://pandas.pydata.org/docs/user_guide/basics.html#dtypes"
   ]
  },
  {
   "cell_type": "code",
   "execution_count": 13,
   "id": "478a15d8-6442-4fc3-b896-0875835a32db",
   "metadata": {},
   "outputs": [
    {
     "data": {
      "text/plain": [
       "Vakances Nr                              object\n",
       "Aktualizācijas datums            datetime64[ns]\n",
       "Iestādes reģistrācijas numurs             int64\n",
       "Vakances nosaukums                       object\n",
       "Vakances kategorija                      object\n",
       "Alga no                                 float64\n",
       "Alga līdz                               float64\n",
       "Slodzes tips                             object\n",
       "Darba laika veids                        object\n",
       "Darba stundas nedēļā                    float64\n",
       "Pieteikšanās termiņš                     object\n",
       "Attēls                                  float64\n",
       "Vieta                                    object\n",
       "Vakances paplašināts apraksts            object\n",
       "dtype: object"
      ]
     },
     "execution_count": 13,
     "metadata": {},
     "output_type": "execute_result"
    }
   ],
   "source": [
    "df_xlsx_vakances.dtypes"
   ]
  },
  {
   "cell_type": "markdown",
   "id": "a943794e-4fb9-48d3-a8c7-89cc1ff8311c",
   "metadata": {},
   "source": [
    "Types:\n",
    "* int64 - integer\n",
    "* float64 - float\n",
    "* object - string\n",
    "* datetime64[ns] - datetime\n",
    "* bool - boolean\n",
    "\n",
    "Numbers in type name indicate the bitsize of the type (i.e. how many bits are needed to represent a single value in memory)."
   ]
  },
  {
   "cell_type": "markdown",
   "id": "e520411e-68f3-4422-a6bf-b07c1ab4d8a0",
   "metadata": {},
   "source": [
    "## info method\n",
    "https://pandas.pydata.org/docs/reference/api/pandas.DataFrame.info.html"
   ]
  },
  {
   "cell_type": "code",
   "execution_count": 14,
   "id": "5423c513-3cd6-4a6a-8afe-689bea638462",
   "metadata": {},
   "outputs": [
    {
     "name": "stdout",
     "output_type": "stream",
     "text": [
      "<class 'pandas.core.frame.DataFrame'>\n",
      "RangeIndex: 1478 entries, 0 to 1477\n",
      "Data columns (total 14 columns):\n",
      " #   Column                         Non-Null Count  Dtype         \n",
      "---  ------                         --------------  -----         \n",
      " 0   Vakances Nr                    1478 non-null   object        \n",
      " 1   Aktualizācijas datums          1478 non-null   datetime64[ns]\n",
      " 2   Iestādes reģistrācijas numurs  1478 non-null   int64         \n",
      " 3   Vakances nosaukums             1478 non-null   object        \n",
      " 4   Vakances kategorija            1478 non-null   object        \n",
      " 5   Alga no                        1478 non-null   float64       \n",
      " 6   Alga līdz                      1478 non-null   float64       \n",
      " 7   Slodzes tips                   1178 non-null   object        \n",
      " 8   Darba laika veids              798 non-null    object        \n",
      " 9   Darba stundas nedēļā           390 non-null    float64       \n",
      " 10  Pieteikšanās termiņš           1478 non-null   object        \n",
      " 11  Attēls                         0 non-null      float64       \n",
      " 12  Vieta                          1478 non-null   object        \n",
      " 13  Vakances paplašināts apraksts  1478 non-null   object        \n",
      "dtypes: datetime64[ns](1), float64(4), int64(1), object(8)\n",
      "memory usage: 161.8+ KB\n"
     ]
    }
   ],
   "source": [
    "df_xlsx_vakances.info()"
   ]
  },
  {
   "cell_type": "markdown",
   "id": "0c88b755-caa8-461f-a63e-bd5056b28e6c",
   "metadata": {},
   "source": [
    "## shape attribute\n",
    "https://pandas.pydata.org/docs/reference/api/pandas.DataFrame.shape.html"
   ]
  },
  {
   "cell_type": "code",
   "execution_count": 15,
   "id": "ef310dd1-9a59-4f44-8607-2d89744485a1",
   "metadata": {},
   "outputs": [
    {
     "name": "stdout",
     "output_type": "stream",
     "text": [
      "<class 'pandas.core.frame.DataFrame'>\n",
      "(1478, 14)\n",
      "<class 'tuple'>\n"
     ]
    }
   ],
   "source": [
    "# shape result for DataFrame\n",
    "print(type(df_vakances_raw))\n",
    "print(df_vakances_raw.shape) # (No. of rows, No. of columns) as tuple \n",
    "print(type(df_vakances_raw.shape))\n",
    "# in R: dim(df_vakances_raw)"
   ]
  },
  {
   "cell_type": "code",
   "execution_count": 16,
   "id": "1f1fe37e-7b87-4dcc-a1b1-741dd6d21bfd",
   "metadata": {},
   "outputs": [
    {
     "name": "stdout",
     "output_type": "stream",
     "text": [
      "<class 'pandas.core.series.Series'>\n",
      "(1478,)\n",
      "<class 'tuple'>\n"
     ]
    }
   ],
   "source": [
    "# shape result for Series\n",
    "print(type(df_vakances_raw[\"Vakances Nr\"]))\n",
    "print(df_vakances_raw[\"Vakances Nr\"].shape) # (No. of rows, ) as tuple \n",
    "print(type(df_vakances_raw[\"Vakances Nr\"].shape))"
   ]
  },
  {
   "cell_type": "markdown",
   "id": "b6f38c37-45e3-4c2b-9902-e7bbd89ccb06",
   "metadata": {},
   "source": [
    "## describe method\n",
    "https://pandas.pydata.org/docs/reference/api/pandas.DataFrame.describe.html"
   ]
  },
  {
   "cell_type": "code",
   "execution_count": 17,
   "id": "299879c3-a3dd-4155-a3ac-799024bcf828",
   "metadata": {},
   "outputs": [
    {
     "name": "stdout",
     "output_type": "stream",
     "text": [
      "       Iestādes reģistrācijas numurs       Alga no     Alga līdz  \\\n",
      "count                   1.478000e+03   1478.000000   1478.000000   \n",
      "mean                    7.042215e+10    916.101633   1046.719901   \n",
      "std                     2.502729e+10    548.359565    656.970523   \n",
      "min                     1.119010e+08      2.720000      2.840000   \n",
      "25%                     4.090004e+10    619.610000    700.000000   \n",
      "50%                     9.000003e+10    887.500000   1000.000000   \n",
      "75%                     9.000081e+10   1093.000000   1286.000000   \n",
      "max                     9.001163e+10  10280.000000  12700.000000   \n",
      "\n",
      "       Darba stundas nedēļā  Attēls  \n",
      "count            390.000000     0.0  \n",
      "mean              35.115385     NaN  \n",
      "std               10.731810     NaN  \n",
      "min                0.000000     NaN  \n",
      "25%               40.000000     NaN  \n",
      "50%               40.000000     NaN  \n",
      "75%               40.000000     NaN  \n",
      "max               48.000000     NaN  \n"
     ]
    }
   ],
   "source": [
    "print(df_vakances_raw.describe())\n",
    "# count, mean, std, min, 25%, 50%, 75%, max"
   ]
  },
  {
   "cell_type": "code",
   "execution_count": 8,
   "id": "5889fb0a-30f5-463b-97e7-4e6bff1b5dc6",
   "metadata": {},
   "outputs": [
    {
     "name": "stdout",
     "output_type": "stream",
     "text": [
      "           Alga no    Alga līdz  Darba stundas nedēļā\n",
      "count  1478.000000  1478.000000            390.000000\n",
      "mean    916.101633  1046.719901             35.115385\n"
     ]
    }
   ],
   "source": [
    "# Use .loc, to include some of statistics\n",
    "print(df_vakances_raw.describe().loc[[\"count\", \"mean\"],[\"Alga no\", \"Alga līdz\", \"Darba stundas nedēļā\"]])\n",
    "# Same as:\n",
    "# df_vakances_raw[[\"Alga no\", \"Alga līdz\", \"Darba stundas nedēļā\"]].describe().loc[[\"count\", \"mean\"]]"
   ]
  },
  {
   "cell_type": "code",
   "execution_count": 9,
   "id": "3b8bdc7c-21bc-4e5f-aaa4-ed084f3c7a73",
   "metadata": {},
   "outputs": [
    {
     "name": "stdout",
     "output_type": "stream",
     "text": [
      "       Vakances Nr Aktualizācijas datums     Vakances nosaukums  \\\n",
      "count         1478                  1478                   1478   \n",
      "unique        1478                    49                    398   \n",
      "top      220419-23            2022-05-02  MĀSA (MEDICĪNAS MĀSA)   \n",
      "freq             1                   181                     42   \n",
      "\n",
      "       Vakances kategorija         Slodzes tips      Darba laika veids  \\\n",
      "count                 1478                 1178                    798   \n",
      "unique                  20                    2                      4   \n",
      "top        Valsts pārvalde  Viena vesela slodze  Normālais darba laiks   \n",
      "freq                   393                 1009                    566   \n",
      "\n",
      "       Pieteikšanās termiņš                          Vieta  \\\n",
      "count                  1478                           1478   \n",
      "unique                   50                            669   \n",
      "top              2022-05-31  Vasarnīcu iela 20, Daugavpils   \n",
      "freq                    198                             27   \n",
      "\n",
      "                           Vakances paplašināts apraksts  \n",
      "count                                               1478  \n",
      "unique                                              1478  \n",
      "top     https://cvvp.nva.gov.lv/#/pub/vakances/319927475  \n",
      "freq                                                   1  \n"
     ]
    }
   ],
   "source": [
    "# include=['O'] or include=['object']\n",
    "print(df_vakances_raw.describe(include=['O'])) # statistics for non-numeric Series\n",
    "# count, unique, top, freq"
   ]
  },
  {
   "cell_type": "markdown",
   "id": "09596bd4-61a1-4961-a2cd-7f9b233d28da",
   "metadata": {},
   "source": [
    "## columns property\n",
    "https://pandas.pydata.org/docs/reference/api/pandas.DataFrame.columns.html"
   ]
  },
  {
   "cell_type": "code",
   "execution_count": 20,
   "id": "2c7c91aa-32cb-4b7a-9bbd-09e72ed65cc5",
   "metadata": {},
   "outputs": [
    {
     "name": "stdout",
     "output_type": "stream",
     "text": [
      "<class 'pandas.core.indexes.base.Index'>\n",
      "Index(['Vakances Nr', 'Aktualizācijas datums', 'Iestādes reģistrācijas numurs',\n",
      "       'Vakances nosaukums', 'Vakances kategorija', 'Alga no', 'Alga līdz',\n",
      "       'Slodzes tips', 'Darba laika veids', 'Darba stundas nedēļā',\n",
      "       'Pieteikšanās termiņš', 'Attēls', 'Vieta',\n",
      "       'Vakances paplašināts apraksts'],\n",
      "      dtype='object')\n",
      "\n",
      "<class 'numpy.ndarray'>\n",
      "['Vakances Nr' 'Aktualizācijas datums' 'Iestādes reģistrācijas numurs'\n",
      " 'Vakances nosaukums' 'Vakances kategorija' 'Alga no' 'Alga līdz'\n",
      " 'Slodzes tips' 'Darba laika veids' 'Darba stundas nedēļā'\n",
      " 'Pieteikšanās termiņš' 'Attēls' 'Vieta' 'Vakances paplašināts apraksts']\n",
      "\n",
      "<class 'list'>\n",
      "['Vakances Nr', 'Aktualizācijas datums', 'Iestādes reģistrācijas numurs', 'Vakances nosaukums', 'Vakances kategorija', 'Alga no', 'Alga līdz', 'Slodzes tips', 'Darba laika veids', 'Darba stundas nedēļā', 'Pieteikšanās termiņš', 'Attēls', 'Vieta', 'Vakances paplašināts apraksts']\n"
     ]
    }
   ],
   "source": [
    "print(f'{type(df_vakances_raw.columns)}') # 'pandas.core.indexes.base.Index'\n",
    "print(df_vakances_raw.columns)\n",
    "\n",
    "print(f'\\n{type(df_vakances_raw.columns.values)}') # 'numpy.ndarray'\n",
    "print(df_vakances_raw.columns.values)\n",
    "\n",
    "print(f'\\n{type(df_vakances_raw.columns.values.tolist())}') # 'list'\n",
    "print(df_vakances_raw.columns.values.tolist())\n",
    "# Same as: df_vakances_raw.columns.tolist()"
   ]
  },
  {
   "cell_type": "markdown",
   "id": "b67e4482-7865-4ba1-a9d1-746d1a4eea9a",
   "metadata": {},
   "source": [
    "# 4. Filtering and selecting data\n",
    "## 4.1. Select single column"
   ]
  },
  {
   "cell_type": "code",
   "execution_count": 10,
   "id": "2ac219d5-ab70-4632-bb8f-f4d835b09928",
   "metadata": {},
   "outputs": [
    {
     "name": "stdout",
     "output_type": "stream",
     "text": [
      "type(s_place)=<class 'pandas.core.series.Series'>\n",
      "\n",
      "s_place.shape=(1478,)\n",
      "\n"
     ]
    },
    {
     "data": {
      "text/plain": [
       "1473    Parka iela 2, Zilaiskalns, Zilākalna pag., Val...\n",
       "1474              Rīgas iela 10, Valmiera, Valmieras nov.\n",
       "1475            Lāčplēša iela 2, Valmiera, Valmieras nov.\n",
       "1476              Brīvības iela 29, Dagda, Krāslavas nov.\n",
       "1477              Brīvības iela 29, Dagda, Krāslavas nov.\n",
       "Name: Vieta, dtype: object"
      ]
     },
     "execution_count": 10,
     "metadata": {},
     "output_type": "execute_result"
    }
   ],
   "source": [
    "s_place = df_vakances_raw['Vieta'] # will be Series\n",
    "print(f\"{type(s_place)=}\\n\") # 'pandas.core.series.Series'\n",
    "print(f'{s_place.shape=}\\n') # shape for Series will return tuple with one value - Number of elements (i.e. rows)\n",
    "s_place.tail() # Last 5 records from s_place Series"
   ]
  },
  {
   "cell_type": "code",
   "execution_count": 11,
   "id": "b3e97bf3-e0e0-430b-8dde-19112bf62eb5",
   "metadata": {},
   "outputs": [
    {
     "name": "stdout",
     "output_type": "stream",
     "text": [
      "type(df_place)=<class 'pandas.core.frame.DataFrame'>\n",
      "\n",
      "df_place.shape=(1478, 1)\n",
      "\n"
     ]
    },
    {
     "data": {
      "text/html": [
       "<div>\n",
       "<style scoped>\n",
       "    .dataframe tbody tr th:only-of-type {\n",
       "        vertical-align: middle;\n",
       "    }\n",
       "\n",
       "    .dataframe tbody tr th {\n",
       "        vertical-align: top;\n",
       "    }\n",
       "\n",
       "    .dataframe thead th {\n",
       "        text-align: right;\n",
       "    }\n",
       "</style>\n",
       "<table border=\"1\" class=\"dataframe\">\n",
       "  <thead>\n",
       "    <tr style=\"text-align: right;\">\n",
       "      <th></th>\n",
       "      <th>Vieta</th>\n",
       "    </tr>\n",
       "  </thead>\n",
       "  <tbody>\n",
       "    <tr>\n",
       "      <th>1473</th>\n",
       "      <td>Parka iela 2, Zilaiskalns, Zilākalna pag., Val...</td>\n",
       "    </tr>\n",
       "    <tr>\n",
       "      <th>1474</th>\n",
       "      <td>Rīgas iela 10, Valmiera, Valmieras nov.</td>\n",
       "    </tr>\n",
       "    <tr>\n",
       "      <th>1475</th>\n",
       "      <td>Lāčplēša iela 2, Valmiera, Valmieras nov.</td>\n",
       "    </tr>\n",
       "    <tr>\n",
       "      <th>1476</th>\n",
       "      <td>Brīvības iela 29, Dagda, Krāslavas nov.</td>\n",
       "    </tr>\n",
       "    <tr>\n",
       "      <th>1477</th>\n",
       "      <td>Brīvības iela 29, Dagda, Krāslavas nov.</td>\n",
       "    </tr>\n",
       "  </tbody>\n",
       "</table>\n",
       "</div>"
      ],
      "text/plain": [
       "                                                  Vieta\n",
       "1473  Parka iela 2, Zilaiskalns, Zilākalna pag., Val...\n",
       "1474            Rīgas iela 10, Valmiera, Valmieras nov.\n",
       "1475          Lāčplēša iela 2, Valmiera, Valmieras nov.\n",
       "1476            Brīvības iela 29, Dagda, Krāslavas nov.\n",
       "1477            Brīvības iela 29, Dagda, Krāslavas nov."
      ]
     },
     "execution_count": 11,
     "metadata": {},
     "output_type": "execute_result"
    }
   ],
   "source": [
    "df_place = df_vakances_raw[['Vieta']] # will be DataFrame\n",
    "print(f\"{type(df_place)=}\\n\") # 'pandas.core.frame.DataFrame'\n",
    "print(f'{df_place.shape=}\\n') # shape for DataFrame - number of elements (i.e. rows) and number of columns\n",
    "df_place.tail() # Last 5 records from df_place DataFrame"
   ]
  },
  {
   "cell_type": "markdown",
   "id": "2a706afe-682a-4ff6-b48b-af81ece55afb",
   "metadata": {},
   "source": [
    "## 4.2. Get values from datetime column\n",
    "More about .dt accessor - https://pandas.pydata.org/docs/user_guide/basics.html#dt-accessor"
   ]
  },
  {
   "cell_type": "code",
   "execution_count": 12,
   "id": "b78ecb28-cd8c-460d-bd57-b36408ffd7dd",
   "metadata": {},
   "outputs": [
    {
     "data": {
      "text/plain": [
       "0       2022\n",
       "1       2022\n",
       "2       2022\n",
       "3       2022\n",
       "4       2022\n",
       "        ... \n",
       "1473    2022\n",
       "1474    2022\n",
       "1475    2022\n",
       "1476    2022\n",
       "1477    2022\n",
       "Name: Aktualizācijas datums, Length: 1478, dtype: int64"
      ]
     },
     "execution_count": 12,
     "metadata": {},
     "output_type": "execute_result"
    }
   ],
   "source": [
    "# Using .dt accessor\n",
    "    # .dt.year, .dt.month, .dt.day, .dt.day_name(), .dt.hour, .dt.minute, .dt.second\n",
    "    # .dt.isocalendar(), .dt.isocalendar().year, .dt.isocalendar().week, .dt.isocalendar().day\n",
    "type(df_xlsx_vakances[\"Aktualizācijas datums\"].dt.year) # pandas.core.series.Series\n",
    "#type(df_xlsx_vakances[[\"Aktualizācijas datums\"]].dt.year) # Will not work: 'DataFrame' object has no attribute 'dt'\n",
    "df_xlsx_vakances[\"Aktualizācijas datums\"].dt.year"
   ]
  },
  {
   "cell_type": "markdown",
   "id": "952fcb1d-f60e-4943-85e4-953f609cf5d5",
   "metadata": {},
   "source": [
    "## 4.3. Select multiple columns"
   ]
  },
  {
   "cell_type": "code",
   "execution_count": 13,
   "id": "141fac8f-2316-494e-a9f2-ca79fb0c1c9c",
   "metadata": {},
   "outputs": [
    {
     "name": "stdout",
     "output_type": "stream",
     "text": [
      "\n",
      "type(df_job_place)=<class 'pandas.core.frame.DataFrame'>\n",
      "\n",
      "df_job_place.shape=(1478, 2)\n",
      "\n"
     ]
    },
    {
     "data": {
      "text/html": [
       "<div>\n",
       "<style scoped>\n",
       "    .dataframe tbody tr th:only-of-type {\n",
       "        vertical-align: middle;\n",
       "    }\n",
       "\n",
       "    .dataframe tbody tr th {\n",
       "        vertical-align: top;\n",
       "    }\n",
       "\n",
       "    .dataframe thead th {\n",
       "        text-align: right;\n",
       "    }\n",
       "</style>\n",
       "<table border=\"1\" class=\"dataframe\">\n",
       "  <thead>\n",
       "    <tr style=\"text-align: right;\">\n",
       "      <th></th>\n",
       "      <th>Vakances Nr</th>\n",
       "      <th>Vieta</th>\n",
       "    </tr>\n",
       "  </thead>\n",
       "  <tbody>\n",
       "    <tr>\n",
       "      <th>445</th>\n",
       "      <td>210824-76</td>\n",
       "      <td>Kaņiera iela 13, Rīga</td>\n",
       "    </tr>\n",
       "    <tr>\n",
       "      <th>727</th>\n",
       "      <td>220429-143</td>\n",
       "      <td>Dubultu prospekts 2, Jūrmala</td>\n",
       "    </tr>\n",
       "    <tr>\n",
       "      <th>1469</th>\n",
       "      <td>220425-181</td>\n",
       "      <td>Leona Paegles iela 40A, Valmiera, Valmieras nov.</td>\n",
       "    </tr>\n",
       "  </tbody>\n",
       "</table>\n",
       "</div>"
      ],
      "text/plain": [
       "     Vakances Nr                                             Vieta\n",
       "445    210824-76                             Kaņiera iela 13, Rīga\n",
       "727   220429-143                      Dubultu prospekts 2, Jūrmala\n",
       "1469  220425-181  Leona Paegles iela 40A, Valmiera, Valmieras nov."
      ]
     },
     "execution_count": 13,
     "metadata": {},
     "output_type": "execute_result"
    }
   ],
   "source": [
    "# ! Multiple column names must be in the list\n",
    "df_job_place = df_vakances_raw[['Vakances Nr','Vieta']]\n",
    "print(f\"\\n{type(df_job_place)=}\\n\") # 'pandas.core.frame.DataFrame'\n",
    "print(f'{df_job_place.shape=}\\n') # (No. of rows, No. of columns) as tuple\n",
    "df_job_place.sample(3)"
   ]
  },
  {
   "cell_type": "markdown",
   "id": "7859b7bc-ca47-4b5d-9ec9-20e990614af4",
   "metadata": {},
   "source": [
    "## 4.4. Select columns based on dtype"
   ]
  },
  {
   "cell_type": "code",
   "execution_count": 25,
   "id": "2002885b-11b2-4fa7-ab34-8b49d4a90991",
   "metadata": {},
   "outputs": [
    {
     "data": {
      "text/html": [
       "<div>\n",
       "<style scoped>\n",
       "    .dataframe tbody tr th:only-of-type {\n",
       "        vertical-align: middle;\n",
       "    }\n",
       "\n",
       "    .dataframe tbody tr th {\n",
       "        vertical-align: top;\n",
       "    }\n",
       "\n",
       "    .dataframe thead th {\n",
       "        text-align: right;\n",
       "    }\n",
       "</style>\n",
       "<table border=\"1\" class=\"dataframe\">\n",
       "  <thead>\n",
       "    <tr style=\"text-align: right;\">\n",
       "      <th></th>\n",
       "      <th>Alga no</th>\n",
       "      <th>Alga līdz</th>\n",
       "      <th>Darba stundas nedēļā</th>\n",
       "      <th>Attēls</th>\n",
       "    </tr>\n",
       "  </thead>\n",
       "  <tbody>\n",
       "    <tr>\n",
       "      <th>161</th>\n",
       "      <td>1900.0</td>\n",
       "      <td>1900.0</td>\n",
       "      <td>NaN</td>\n",
       "      <td>NaN</td>\n",
       "    </tr>\n",
       "    <tr>\n",
       "      <th>45</th>\n",
       "      <td>2400.0</td>\n",
       "      <td>2650.0</td>\n",
       "      <td>NaN</td>\n",
       "      <td>NaN</td>\n",
       "    </tr>\n",
       "    <tr>\n",
       "      <th>114</th>\n",
       "      <td>675.0</td>\n",
       "      <td>996.0</td>\n",
       "      <td>NaN</td>\n",
       "      <td>NaN</td>\n",
       "    </tr>\n",
       "  </tbody>\n",
       "</table>\n",
       "</div>"
      ],
      "text/plain": [
       "     Alga no  Alga līdz  Darba stundas nedēļā  Attēls\n",
       "161   1900.0     1900.0                   NaN     NaN\n",
       "45    2400.0     2650.0                   NaN     NaN\n",
       "114    675.0      996.0                   NaN     NaN"
      ]
     },
     "execution_count": 25,
     "metadata": {},
     "output_type": "execute_result"
    }
   ],
   "source": [
    "# \"number\", \"int\", \"float\", \"bool\", \"datetime\", \"timedelta\", \"object\" etc.\n",
    "df_xlsx_vakances.select_dtypes(include=[\"number\"], exclude=[\"int\"]).sample(3)\n",
    "# include= includes dtypes, exclude= excludes dtypes"
   ]
  },
  {
   "cell_type": "markdown",
   "id": "8ca6392d-8e81-43d1-b2ae-80985a1e47aa",
   "metadata": {},
   "source": [
    "## 4.5. Select all columns but one\n",
    "### drop method\n",
    "https://pandas.pydata.org/docs/reference/api/pandas.DataFrame.drop.html"
   ]
  },
  {
   "cell_type": "code",
   "execution_count": 14,
   "id": "ce095200-81a7-4615-a4ab-5c919257322f",
   "metadata": {},
   "outputs": [
    {
     "name": "stdout",
     "output_type": "stream",
     "text": [
      "df_all_cols_but_one.shape=(1478, 13)\n"
     ]
    }
   ],
   "source": [
    "# .drop() by default does not operate inplace\n",
    "# do inplace=True if you want to permanently remove column(s)\n",
    "df_all_cols_but_one = df_xlsx_vakances.drop('Vakances Nr', axis = 1)\n",
    "print(f'{df_all_cols_but_one.shape=}')\n",
    "#df_vakances_raw.drop(axis=1) # axis=0 (default) - drop rows (by index), axis=1 - drop by column name"
   ]
  },
  {
   "cell_type": "code",
   "execution_count": 73,
   "id": "398c4041-cff3-4c48-be7a-55bea11b004f",
   "metadata": {},
   "outputs": [
    {
     "name": "stdout",
     "output_type": "stream",
     "text": [
      "2428776335536 2428775413216\n"
     ]
    }
   ],
   "source": [
    "print(id(df_all_cols_but_one), id(df_xlsx_vakances))"
   ]
  },
  {
   "cell_type": "code",
   "execution_count": 15,
   "id": "470c087f-3866-4d03-89e1-47ad88fcddb0",
   "metadata": {},
   "outputs": [
    {
     "name": "stdout",
     "output_type": "stream",
     "text": [
      "df_xlsx_vakances.drop([1,2,3,4], axis = 0).shape=(1474, 14)\n"
     ]
    }
   ],
   "source": [
    "# axis=0 drops rows\n",
    "df_xlsx_vakances.drop([1,2,3,4], axis = 0)\n",
    "print(f'{df_xlsx_vakances.drop([1,2,3,4], axis = 0).shape=}')"
   ]
  },
  {
   "cell_type": "markdown",
   "id": "0e72c071-067a-4ceb-b333-eee663a17500",
   "metadata": {},
   "source": [
    "### loc property\n",
    "https://pandas.pydata.org/docs/reference/api/pandas.DataFrame.loc.html"
   ]
  },
  {
   "cell_type": "code",
   "execution_count": 16,
   "id": "c2f8c047-da92-4d0e-990d-936fc71917e0",
   "metadata": {},
   "outputs": [
    {
     "name": "stdout",
     "output_type": "stream",
     "text": [
      "df_all_cols_but_one.shape=(1478, 13)\n"
     ]
    }
   ],
   "source": [
    "# colon (:) is mandatory (it means that you want to select all rows)\n",
    "# This method don't work if columns are MultiIndex\n",
    "df_all_cols_but_one = df_xlsx_vakances.loc[:, df_xlsx_vakances.columns != 'Vakances Nr']\n",
    "print(f'{df_all_cols_but_one.shape=}')\n",
    "# df_xlsx_vakances.columns != 'Vakances Nr' # will return numpy.ndarray with True or False values"
   ]
  },
  {
   "cell_type": "markdown",
   "id": "436bdc7b-f34f-4c66-a3b6-f92a453b8d7a",
   "metadata": {},
   "source": [
    "## 4.6. Filtering DataFrame (single condition)"
   ]
  },
  {
   "cell_type": "code",
   "execution_count": 17,
   "id": "f6de9a23-c89c-4902-a7ca-977b88a01733",
   "metadata": {},
   "outputs": [
    {
     "name": "stdout",
     "output_type": "stream",
     "text": [
      "df_salary_GT_2000.shape=(32, 14)\n"
     ]
    },
    {
     "data": {
      "text/html": [
       "<div>\n",
       "<style scoped>\n",
       "    .dataframe tbody tr th:only-of-type {\n",
       "        vertical-align: middle;\n",
       "    }\n",
       "\n",
       "    .dataframe tbody tr th {\n",
       "        vertical-align: top;\n",
       "    }\n",
       "\n",
       "    .dataframe thead th {\n",
       "        text-align: right;\n",
       "    }\n",
       "</style>\n",
       "<table border=\"1\" class=\"dataframe\">\n",
       "  <thead>\n",
       "    <tr style=\"text-align: right;\">\n",
       "      <th></th>\n",
       "      <th>Vakances nosaukums</th>\n",
       "      <th>Alga no</th>\n",
       "      <th>Alga līdz</th>\n",
       "    </tr>\n",
       "  </thead>\n",
       "  <tbody>\n",
       "    <tr>\n",
       "      <th>539</th>\n",
       "      <td>VALDES LOCEKLIS</td>\n",
       "      <td>10280.0</td>\n",
       "      <td>12700.0</td>\n",
       "    </tr>\n",
       "    <tr>\n",
       "      <th>309</th>\n",
       "      <td>INFORMĀCIJAS TEHNOLOĢIJU STRUKTŪRVIENĪBAS VADĪ...</td>\n",
       "      <td>4800.0</td>\n",
       "      <td>5200.0</td>\n",
       "    </tr>\n",
       "    <tr>\n",
       "      <th>1027</th>\n",
       "      <td>ANESTEZIOLOGS, REANIMATOLOGS</td>\n",
       "      <td>3600.0</td>\n",
       "      <td>3600.0</td>\n",
       "    </tr>\n",
       "    <tr>\n",
       "      <th>668</th>\n",
       "      <td>VALDES LOCEKLIS</td>\n",
       "      <td>3500.0</td>\n",
       "      <td>3500.0</td>\n",
       "    </tr>\n",
       "    <tr>\n",
       "      <th>1363</th>\n",
       "      <td>OFTALMOLOGS</td>\n",
       "      <td>3500.0</td>\n",
       "      <td>3500.0</td>\n",
       "    </tr>\n",
       "  </tbody>\n",
       "</table>\n",
       "</div>"
      ],
      "text/plain": [
       "                                     Vakances nosaukums  Alga no  Alga līdz\n",
       "539                                     VALDES LOCEKLIS  10280.0    12700.0\n",
       "309   INFORMĀCIJAS TEHNOLOĢIJU STRUKTŪRVIENĪBAS VADĪ...   4800.0     5200.0\n",
       "1027                       ANESTEZIOLOGS, REANIMATOLOGS   3600.0     3600.0\n",
       "668                                     VALDES LOCEKLIS   3500.0     3500.0\n",
       "1363                                        OFTALMOLOGS   3500.0     3500.0"
      ]
     },
     "execution_count": 17,
     "metadata": {},
     "output_type": "execute_result"
    }
   ],
   "source": [
    "df_salary_GT_2000 = df_vakances_raw[df_vakances_raw['Alga no']>2000]\n",
    "print(f'{df_salary_GT_2000.shape=}')\n",
    "df_salary_GT_2000[['Vakances nosaukums','Alga no','Alga līdz']].sort_values('Alga no',ascending=False).head(5)"
   ]
  },
  {
   "cell_type": "markdown",
   "id": "5b73755c-425c-4f71-9e70-62a00e06712d",
   "metadata": {},
   "source": [
    "## notna method"
   ]
  },
  {
   "cell_type": "code",
   "execution_count": 18,
   "id": "4faf7f83-3d8d-4ac9-82f5-8a2af4248b73",
   "metadata": {},
   "outputs": [
    {
     "name": "stdout",
     "output_type": "stream",
     "text": [
      "df_is_wh_types.shape=(798, 14)\n"
     ]
    },
    {
     "data": {
      "text/html": [
       "<div>\n",
       "<style scoped>\n",
       "    .dataframe tbody tr th:only-of-type {\n",
       "        vertical-align: middle;\n",
       "    }\n",
       "\n",
       "    .dataframe tbody tr th {\n",
       "        vertical-align: top;\n",
       "    }\n",
       "\n",
       "    .dataframe thead th {\n",
       "        text-align: right;\n",
       "    }\n",
       "</style>\n",
       "<table border=\"1\" class=\"dataframe\">\n",
       "  <thead>\n",
       "    <tr style=\"text-align: right;\">\n",
       "      <th></th>\n",
       "      <th>Iestādes reģistrācijas numurs</th>\n",
       "      <th>Darba laika veids</th>\n",
       "    </tr>\n",
       "  </thead>\n",
       "  <tbody>\n",
       "    <tr>\n",
       "      <th>715</th>\n",
       "      <td>111900989</td>\n",
       "      <td>Normālais darba laiks</td>\n",
       "    </tr>\n",
       "    <tr>\n",
       "      <th>55</th>\n",
       "      <td>2013901280</td>\n",
       "      <td>Normālais darba laiks</td>\n",
       "    </tr>\n",
       "    <tr>\n",
       "      <th>51</th>\n",
       "      <td>2013901280</td>\n",
       "      <td>Normālais darba laiks</td>\n",
       "    </tr>\n",
       "    <tr>\n",
       "      <th>52</th>\n",
       "      <td>2013901280</td>\n",
       "      <td>Normālais darba laiks</td>\n",
       "    </tr>\n",
       "    <tr>\n",
       "      <th>53</th>\n",
       "      <td>2013901280</td>\n",
       "      <td>Normālais darba laiks</td>\n",
       "    </tr>\n",
       "  </tbody>\n",
       "</table>\n",
       "</div>"
      ],
      "text/plain": [
       "     Iestādes reģistrācijas numurs      Darba laika veids\n",
       "715                      111900989  Normālais darba laiks\n",
       "55                      2013901280  Normālais darba laiks\n",
       "51                      2013901280  Normālais darba laiks\n",
       "52                      2013901280  Normālais darba laiks\n",
       "53                      2013901280  Normālais darba laiks"
      ]
     },
     "execution_count": 18,
     "metadata": {},
     "output_type": "execute_result"
    }
   ],
   "source": [
    "df_is_wh_types = df_vakances_raw[df_vakances_raw['Darba laika veids'].notna()]\n",
    "print(f'{df_is_wh_types.shape=}')\n",
    "df_is_wh_types[['Iestādes reģistrācijas numurs','Darba laika veids']].sort_values('Iestādes reģistrācijas numurs').head(5)"
   ]
  },
  {
   "cell_type": "markdown",
   "id": "6376fbd2-17df-4a4f-8c39-8473c2e9ad1c",
   "metadata": {},
   "source": [
    "## loc property"
   ]
  },
  {
   "cell_type": "code",
   "execution_count": 19,
   "id": "39a01a9e-2123-4e21-8926-7d1ccc52ec41",
   "metadata": {},
   "outputs": [
    {
     "data": {
      "text/html": [
       "<div>\n",
       "<style scoped>\n",
       "    .dataframe tbody tr th:only-of-type {\n",
       "        vertical-align: middle;\n",
       "    }\n",
       "\n",
       "    .dataframe tbody tr th {\n",
       "        vertical-align: top;\n",
       "    }\n",
       "\n",
       "    .dataframe thead th {\n",
       "        text-align: right;\n",
       "    }\n",
       "</style>\n",
       "<table border=\"1\" class=\"dataframe\">\n",
       "  <thead>\n",
       "    <tr style=\"text-align: right;\">\n",
       "      <th></th>\n",
       "      <th>Vakances Nr</th>\n",
       "      <th>Aktualizācijas datums</th>\n",
       "      <th>Iestādes reģistrācijas numurs</th>\n",
       "      <th>Vakances nosaukums</th>\n",
       "      <th>Vakances kategorija</th>\n",
       "      <th>Alga no</th>\n",
       "      <th>Alga līdz</th>\n",
       "      <th>Slodzes tips</th>\n",
       "      <th>Darba laika veids</th>\n",
       "      <th>Darba stundas nedēļā</th>\n",
       "      <th>Pieteikšanās termiņš</th>\n",
       "      <th>Attēls</th>\n",
       "      <th>Vieta</th>\n",
       "      <th>Vakances paplašināts apraksts</th>\n",
       "    </tr>\n",
       "  </thead>\n",
       "  <tbody>\n",
       "    <tr>\n",
       "      <th>1000</th>\n",
       "      <td>220503-345</td>\n",
       "      <td>2022-05-03</td>\n",
       "      <td>90000012723</td>\n",
       "      <td>SKOLOTĀJA PALĪGS</td>\n",
       "      <td>Izglītība / Zinātne</td>\n",
       "      <td>700.0</td>\n",
       "      <td>700.0</td>\n",
       "      <td>NaN</td>\n",
       "      <td>NaN</td>\n",
       "      <td>NaN</td>\n",
       "      <td>2022-05-31</td>\n",
       "      <td>NaN</td>\n",
       "      <td>Parka iela 5, Rīga</td>\n",
       "      <td>https://cvvp.nva.gov.lv/#/pub/vakances/321203775</td>\n",
       "    </tr>\n",
       "    <tr>\n",
       "      <th>1100</th>\n",
       "      <td>220503-629</td>\n",
       "      <td>2022-05-03</td>\n",
       "      <td>90000052497</td>\n",
       "      <td>TEHNISKAIS STRĀDNIEKS</td>\n",
       "      <td>Cita</td>\n",
       "      <td>265.0</td>\n",
       "      <td>265.0</td>\n",
       "      <td>NaN</td>\n",
       "      <td>NaN</td>\n",
       "      <td>NaN</td>\n",
       "      <td>2022-05-31</td>\n",
       "      <td>NaN</td>\n",
       "      <td>Bērzu iela 54, Ventspils</td>\n",
       "      <td>https://cvvp.nva.gov.lv/#/pub/vakances/321250711</td>\n",
       "    </tr>\n",
       "  </tbody>\n",
       "</table>\n",
       "</div>"
      ],
      "text/plain": [
       "     Vakances Nr Aktualizācijas datums  Iestādes reģistrācijas numurs  \\\n",
       "1000  220503-345            2022-05-03                    90000012723   \n",
       "1100  220503-629            2022-05-03                    90000052497   \n",
       "\n",
       "         Vakances nosaukums  Vakances kategorija  Alga no  Alga līdz  \\\n",
       "1000       SKOLOTĀJA PALĪGS  Izglītība / Zinātne    700.0      700.0   \n",
       "1100  TEHNISKAIS STRĀDNIEKS                 Cita    265.0      265.0   \n",
       "\n",
       "     Slodzes tips Darba laika veids  Darba stundas nedēļā  \\\n",
       "1000          NaN               NaN                   NaN   \n",
       "1100          NaN               NaN                   NaN   \n",
       "\n",
       "     Pieteikšanās termiņš  Attēls                     Vieta  \\\n",
       "1000           2022-05-31     NaN        Parka iela 5, Rīga   \n",
       "1100           2022-05-31     NaN  Bērzu iela 54, Ventspils   \n",
       "\n",
       "                         Vakances paplašināts apraksts  \n",
       "1000  https://cvvp.nva.gov.lv/#/pub/vakances/321203775  \n",
       "1100  https://cvvp.nva.gov.lv/#/pub/vakances/321250711  "
      ]
     },
     "execution_count": 19,
     "metadata": {},
     "output_type": "execute_result"
    }
   ],
   "source": [
    "# select row (using loc property) by index\n",
    "df_vakances_raw.loc[[1000,1100]]\n",
    "# df_vakances_raw.loc[1000] # filtering one row\n",
    "\n",
    "# 1000 & 1100 - is a name of the index and not the position"
   ]
  },
  {
   "cell_type": "markdown",
   "id": "da1e58b0-8738-4b76-89a9-ce945c5ccd6a",
   "metadata": {},
   "source": [
    "## isin method"
   ]
  },
  {
   "cell_type": "code",
   "execution_count": 20,
   "id": "63c4431f-fd63-46c5-b259-c07c7f3630c2",
   "metadata": {},
   "outputs": [
    {
     "name": "stdout",
     "output_type": "stream",
     "text": [
      "df_is_wh_types.shape=(61, 14)\n"
     ]
    }
   ],
   "source": [
    "df_is_wh_types = df_vakances_raw[df_vakances_raw['Alga no'].isin([1000,2000])]\n",
    "# only list-like objects are allowed to be passed to isin(), i.e., isin(1000) is not allowed, but isin([1000]) is.\n",
    "\n",
    "print(f'{df_is_wh_types.shape=}')"
   ]
  },
  {
   "cell_type": "markdown",
   "id": "41cf338f-67d8-47ef-b168-ce5b60fcca7f",
   "metadata": {},
   "source": [
    "## 4.7. Filtering DataFrame (multiple conditions)\n",
    "When combining multiple conditional statements,\n",
    "each condition must be surrounded by parentheses ().\n",
    "Moreover, you can not use or/and but need to use the or operator | and the and operator &."
   ]
  },
  {
   "cell_type": "code",
   "execution_count": 21,
   "id": "2fe8b5db-75f5-40d3-a0e8-9995a0fcc60a",
   "metadata": {
    "tags": []
   },
   "outputs": [
    {
     "data": {
      "text/html": [
       "<div>\n",
       "<style scoped>\n",
       "    .dataframe tbody tr th:only-of-type {\n",
       "        vertical-align: middle;\n",
       "    }\n",
       "\n",
       "    .dataframe tbody tr th {\n",
       "        vertical-align: top;\n",
       "    }\n",
       "\n",
       "    .dataframe thead th {\n",
       "        text-align: right;\n",
       "    }\n",
       "</style>\n",
       "<table border=\"1\" class=\"dataframe\">\n",
       "  <thead>\n",
       "    <tr style=\"text-align: right;\">\n",
       "      <th></th>\n",
       "      <th>Vakances nosaukums</th>\n",
       "      <th>Alga no</th>\n",
       "      <th>Alga līdz</th>\n",
       "    </tr>\n",
       "  </thead>\n",
       "  <tbody>\n",
       "    <tr>\n",
       "      <th>333</th>\n",
       "      <td>ĀRSTS (EKSPERTS)</td>\n",
       "      <td>1530.0</td>\n",
       "      <td>1700.0</td>\n",
       "    </tr>\n",
       "    <tr>\n",
       "      <th>1044</th>\n",
       "      <td>PAŠVALDĪBAS IESTĀDES VADĪTĀJS /PRIEKŠNIEKS</td>\n",
       "      <td>1534.0</td>\n",
       "      <td>1917.0</td>\n",
       "    </tr>\n",
       "    <tr>\n",
       "      <th>943</th>\n",
       "      <td>Neatliekamās medicīnas ĀRSTA PALĪGS/ FELDŠERIS</td>\n",
       "      <td>1550.0</td>\n",
       "      <td>1783.0</td>\n",
       "    </tr>\n",
       "  </tbody>\n",
       "</table>\n",
       "</div>"
      ],
      "text/plain": [
       "                                  Vakances nosaukums  Alga no  Alga līdz\n",
       "333                                 ĀRSTS (EKSPERTS)   1530.0     1700.0\n",
       "1044      PAŠVALDĪBAS IESTĀDES VADĪTĀJS /PRIEKŠNIEKS   1534.0     1917.0\n",
       "943   Neatliekamās medicīnas ĀRSTA PALĪGS/ FELDŠERIS   1550.0     1783.0"
      ]
     },
     "execution_count": 21,
     "metadata": {},
     "output_type": "execute_result"
    }
   ],
   "source": [
    "df_salary_GT_1500 = df_vakances_raw[(df_vakances_raw['Alga no']>1500) &\n",
    "(df_vakances_raw['Alga no']!=df_vakances_raw['Alga līdz'])]\n",
    "df_salary_GT_1500[['Vakances nosaukums','Alga no','Alga līdz']].sort_values('Alga no').head(3)"
   ]
  },
  {
   "cell_type": "code",
   "execution_count": 22,
   "id": "41c4096d-4d88-4368-8664-e58eb8fa76e7",
   "metadata": {},
   "outputs": [
    {
     "name": "stdout",
     "output_type": "stream",
     "text": [
      "<class 'pandas.core.series.Series'>\n"
     ]
    },
    {
     "data": {
      "text/html": [
       "<div>\n",
       "<style scoped>\n",
       "    .dataframe tbody tr th:only-of-type {\n",
       "        vertical-align: middle;\n",
       "    }\n",
       "\n",
       "    .dataframe tbody tr th {\n",
       "        vertical-align: top;\n",
       "    }\n",
       "\n",
       "    .dataframe thead th {\n",
       "        text-align: right;\n",
       "    }\n",
       "</style>\n",
       "<table border=\"1\" class=\"dataframe\">\n",
       "  <thead>\n",
       "    <tr style=\"text-align: right;\">\n",
       "      <th></th>\n",
       "      <th>Vakances nosaukums</th>\n",
       "      <th>Alga no</th>\n",
       "      <th>Alga līdz</th>\n",
       "    </tr>\n",
       "  </thead>\n",
       "  <tbody>\n",
       "    <tr>\n",
       "      <th>333</th>\n",
       "      <td>ĀRSTS (EKSPERTS)</td>\n",
       "      <td>1530.0</td>\n",
       "      <td>1700.0</td>\n",
       "    </tr>\n",
       "    <tr>\n",
       "      <th>1044</th>\n",
       "      <td>PAŠVALDĪBAS IESTĀDES VADĪTĀJS /PRIEKŠNIEKS</td>\n",
       "      <td>1534.0</td>\n",
       "      <td>1917.0</td>\n",
       "    </tr>\n",
       "    <tr>\n",
       "      <th>943</th>\n",
       "      <td>Neatliekamās medicīnas ĀRSTA PALĪGS/ FELDŠERIS</td>\n",
       "      <td>1550.0</td>\n",
       "      <td>1783.0</td>\n",
       "    </tr>\n",
       "  </tbody>\n",
       "</table>\n",
       "</div>"
      ],
      "text/plain": [
       "                                  Vakances nosaukums  Alga no  Alga līdz\n",
       "333                                 ĀRSTS (EKSPERTS)   1530.0     1700.0\n",
       "1044      PAŠVALDĪBAS IESTĀDES VADĪTĀJS /PRIEKŠNIEKS   1534.0     1917.0\n",
       "943   Neatliekamās medicīnas ĀRSTA PALĪGS/ FELDŠERIS   1550.0     1783.0"
      ]
     },
     "execution_count": 22,
     "metadata": {},
     "output_type": "execute_result"
    }
   ],
   "source": [
    "# You can define filter result separately and use it later\n",
    "filter_cond = (df_vakances_raw['Alga no']>1500) & (df_vakances_raw['Alga no']!=df_vakances_raw['Alga līdz'])\n",
    "print(type(filter_cond)) # <class 'pandas.core.series.Series'>\n",
    "\n",
    "df_vakances_raw.loc[filter_cond,['Vakances nosaukums','Alga no','Alga līdz']].sort_values('Alga no').head(3)"
   ]
  },
  {
   "cell_type": "markdown",
   "id": "9e1fb8ae-eb86-4585-a8a1-ffe2dee8794e",
   "metadata": {},
   "source": [
    "## 4.8. Selecting AND filtering DataFrame\n",
    "The loc/iloc operators are required in front of the selection brackets\n",
    "When using loc/iloc, the part BEFORE the comma is the rows you want, and the part AFTER the comma is the columns you want to select.<br/><br/>\n",
    "When using the <u>column names</u>, <u>row labels</u> or <u>a condition expression</u>, use the <strong>loc</strong> operator in front of the selection brackets [].\n",
    "For both the part before and after the comma, you can use:\n",
    "- a single label,\n",
    "- a list of labels,\n",
    "- a slice of labels,\n",
    "- a conditional expression or a colon.\n",
    "Using a colon specifies you want to select all rows or columns.\n",
    "\n",
    "When specifically interested in certain rows and/or columns <u>based on their position</u> in the table, use the <strong>iloc</strong> operator in front of the selection brackets [].\n",
    "More about indexing and selecting data: https://pandas.pydata.org/docs/user_guide/indexing.html#indexing-choice."
   ]
  },
  {
   "cell_type": "code",
   "execution_count": 23,
   "id": "a23180e9-f306-4d49-9f54-cd067fb79405",
   "metadata": {},
   "outputs": [
    {
     "data": {
      "text/html": [
       "<div>\n",
       "<style scoped>\n",
       "    .dataframe tbody tr th:only-of-type {\n",
       "        vertical-align: middle;\n",
       "    }\n",
       "\n",
       "    .dataframe tbody tr th {\n",
       "        vertical-align: top;\n",
       "    }\n",
       "\n",
       "    .dataframe thead th {\n",
       "        text-align: right;\n",
       "    }\n",
       "</style>\n",
       "<table border=\"1\" class=\"dataframe\">\n",
       "  <thead>\n",
       "    <tr style=\"text-align: right;\">\n",
       "      <th></th>\n",
       "      <th>Alga no</th>\n",
       "      <th>Vakances paplašināts apraksts</th>\n",
       "    </tr>\n",
       "  </thead>\n",
       "  <tbody>\n",
       "    <tr>\n",
       "      <th>85</th>\n",
       "      <td>1524.0</td>\n",
       "      <td>https://cvvp.nva.gov.lv/#/pub/vakances/320704917</td>\n",
       "    </tr>\n",
       "    <tr>\n",
       "      <th>333</th>\n",
       "      <td>1530.0</td>\n",
       "      <td>https://cvvp.nva.gov.lv/#/pub/vakances/319674246</td>\n",
       "    </tr>\n",
       "    <tr>\n",
       "      <th>1044</th>\n",
       "      <td>1534.0</td>\n",
       "      <td>https://cvvp.nva.gov.lv/#/pub/vakances/320872167</td>\n",
       "    </tr>\n",
       "    <tr>\n",
       "      <th>1414</th>\n",
       "      <td>1550.0</td>\n",
       "      <td>https://cvvp.nva.gov.lv/#/pub/vakances/319216202</td>\n",
       "    </tr>\n",
       "    <tr>\n",
       "      <th>291</th>\n",
       "      <td>1550.0</td>\n",
       "      <td>https://cvvp.nva.gov.lv/#/pub/vakances/320775594</td>\n",
       "    </tr>\n",
       "  </tbody>\n",
       "</table>\n",
       "</div>"
      ],
      "text/plain": [
       "      Alga no                     Vakances paplašināts apraksts\n",
       "85     1524.0  https://cvvp.nva.gov.lv/#/pub/vakances/320704917\n",
       "333    1530.0  https://cvvp.nva.gov.lv/#/pub/vakances/319674246\n",
       "1044   1534.0  https://cvvp.nva.gov.lv/#/pub/vakances/320872167\n",
       "1414   1550.0  https://cvvp.nva.gov.lv/#/pub/vakances/319216202\n",
       "291    1550.0  https://cvvp.nva.gov.lv/#/pub/vakances/320775594"
      ]
     },
     "execution_count": 23,
     "metadata": {},
     "output_type": "execute_result"
    }
   ],
   "source": [
    "salary_filter = df_vakances_raw['Alga no']>1500 # condition expression\n",
    "column_filter = ['Alga no','Vakances paplašināts apraksts'] # using column names\n",
    "df_salary_GT_1500_links = df_vakances_raw.loc[salary_filter,column_filter]\n",
    "df_salary_GT_1500_links.sort_values('Alga no').head(5)"
   ]
  },
  {
   "cell_type": "markdown",
   "id": "3890e0d4-56ae-4d31-89f4-68efb0bde9b8",
   "metadata": {},
   "source": [
    "# 5. Grouping data\n",
    "## 5.1. groupby property"
   ]
  },
  {
   "cell_type": "code",
   "execution_count": 24,
   "id": "19a57bb0-3e71-475e-9fce-24a5c2ba2b80",
   "metadata": {},
   "outputs": [
    {
     "name": "stdout",
     "output_type": "stream",
     "text": [
      "Alga no\n",
      "835.0     80\n",
      "500.0     66\n",
      "940.0     40\n",
      "1000.0    39\n",
      "1500.0    37\n",
      "Name: Alga līdz, dtype: int64\n",
      "<class 'pandas.core.series.Series'>\n"
     ]
    }
   ],
   "source": [
    "# Save result as a Series (grouping by one column)\n",
    "grouped_res = df_xlsx_vakances.groupby([\"Alga no\"])[\"Alga līdz\"].count() # will not show column \"Alga līdz\"\n",
    "print(grouped_res.sort_values(ascending=False).head(5)) # do not need to define column inside sort_values (because there's no columns)\n",
    "print(type(grouped_res)) # <class 'pandas.core.series.Series'>\n",
    "#grouped_res"
   ]
  },
  {
   "cell_type": "code",
   "execution_count": 25,
   "id": "340460c3-59c8-40d1-9095-87878ced6bd9",
   "metadata": {},
   "outputs": [
    {
     "name": "stdout",
     "output_type": "stream",
     "text": [
      "<class 'pandas.core.frame.DataFrame'>\n"
     ]
    },
    {
     "data": {
      "text/html": [
       "<div>\n",
       "<style scoped>\n",
       "    .dataframe tbody tr th:only-of-type {\n",
       "        vertical-align: middle;\n",
       "    }\n",
       "\n",
       "    .dataframe tbody tr th {\n",
       "        vertical-align: top;\n",
       "    }\n",
       "\n",
       "    .dataframe thead th {\n",
       "        text-align: right;\n",
       "    }\n",
       "</style>\n",
       "<table border=\"1\" class=\"dataframe\">\n",
       "  <thead>\n",
       "    <tr style=\"text-align: right;\">\n",
       "      <th></th>\n",
       "      <th>Alga līdz</th>\n",
       "    </tr>\n",
       "    <tr>\n",
       "      <th>Alga no</th>\n",
       "      <th></th>\n",
       "    </tr>\n",
       "  </thead>\n",
       "  <tbody>\n",
       "    <tr>\n",
       "      <th>835.0</th>\n",
       "      <td>80</td>\n",
       "    </tr>\n",
       "    <tr>\n",
       "      <th>500.0</th>\n",
       "      <td>66</td>\n",
       "    </tr>\n",
       "    <tr>\n",
       "      <th>940.0</th>\n",
       "      <td>40</td>\n",
       "    </tr>\n",
       "    <tr>\n",
       "      <th>1000.0</th>\n",
       "      <td>39</td>\n",
       "    </tr>\n",
       "    <tr>\n",
       "      <th>1500.0</th>\n",
       "      <td>37</td>\n",
       "    </tr>\n",
       "  </tbody>\n",
       "</table>\n",
       "</div>"
      ],
      "text/plain": [
       "         Alga līdz\n",
       "Alga no           \n",
       "835.0           80\n",
       "500.0           66\n",
       "940.0           40\n",
       "1000.0          39\n",
       "1500.0          37"
      ]
     },
     "execution_count": 25,
     "metadata": {},
     "output_type": "execute_result"
    }
   ],
   "source": [
    "# Save result as a DataFrame (grouping by one column)\n",
    "# \"Alga līdz\" is in double square brackets\n",
    "grouped_res2 = df_xlsx_vakances.groupby([\"Alga no\"])[[\"Alga līdz\"]].count() # single column dataframe\n",
    "print(type(grouped_res2)) # <class 'pandas.core.frame.DataFrame'>\n",
    "grouped_res2.sort_values(\"Alga līdz\", ascending=False).head(5) # must define column name inside sort_values, otherwise will not work"
   ]
  },
  {
   "cell_type": "code",
   "execution_count": 31,
   "id": "37f3464e-16c2-46c2-acc4-b580c8c923ed",
   "metadata": {},
   "outputs": [
    {
     "name": "stdout",
     "output_type": "stream",
     "text": [
      "<class 'pandas.core.frame.DataFrame'>\n"
     ]
    },
    {
     "data": {
      "text/html": [
       "<div>\n",
       "<style scoped>\n",
       "    .dataframe tbody tr th:only-of-type {\n",
       "        vertical-align: middle;\n",
       "    }\n",
       "\n",
       "    .dataframe tbody tr th {\n",
       "        vertical-align: top;\n",
       "    }\n",
       "\n",
       "    .dataframe thead th {\n",
       "        text-align: right;\n",
       "    }\n",
       "</style>\n",
       "<table border=\"1\" class=\"dataframe\">\n",
       "  <thead>\n",
       "    <tr style=\"text-align: right;\">\n",
       "      <th></th>\n",
       "      <th></th>\n",
       "      <th>Alga līdz</th>\n",
       "    </tr>\n",
       "    <tr>\n",
       "      <th>Slodzes tips</th>\n",
       "      <th>Darba laika veids</th>\n",
       "      <th></th>\n",
       "    </tr>\n",
       "  </thead>\n",
       "  <tbody>\n",
       "    <tr>\n",
       "      <th rowspan=\"3\" valign=\"top\">Nepilna slodze</th>\n",
       "      <th>Nepilnais darba laiks</th>\n",
       "      <td>33</td>\n",
       "    </tr>\n",
       "    <tr>\n",
       "      <th>Normālais darba laiks</th>\n",
       "      <td>32</td>\n",
       "    </tr>\n",
       "    <tr>\n",
       "      <th>Summētais darba laiks</th>\n",
       "      <td>19</td>\n",
       "    </tr>\n",
       "    <tr>\n",
       "      <th rowspan=\"4\" valign=\"top\">Viena vesela slodze</th>\n",
       "      <th>Maiņu darbs</th>\n",
       "      <td>20</td>\n",
       "    </tr>\n",
       "    <tr>\n",
       "      <th>Nepilnais darba laiks</th>\n",
       "      <td>1</td>\n",
       "    </tr>\n",
       "    <tr>\n",
       "      <th>Normālais darba laiks</th>\n",
       "      <td>527</td>\n",
       "    </tr>\n",
       "    <tr>\n",
       "      <th>Summētais darba laiks</th>\n",
       "      <td>142</td>\n",
       "    </tr>\n",
       "  </tbody>\n",
       "</table>\n",
       "</div>"
      ],
      "text/plain": [
       "                                           Alga līdz\n",
       "Slodzes tips        Darba laika veids               \n",
       "Nepilna slodze      Nepilnais darba laiks         33\n",
       "                    Normālais darba laiks         32\n",
       "                    Summētais darba laiks         19\n",
       "Viena vesela slodze Maiņu darbs                   20\n",
       "                    Nepilnais darba laiks          1\n",
       "                    Normālais darba laiks        527\n",
       "                    Summētais darba laiks        142"
      ]
     },
     "execution_count": 31,
     "metadata": {},
     "output_type": "execute_result"
    }
   ],
   "source": [
    "# Grouping by multiple columns\n",
    "grouped_res3 = df_xlsx_vakances.groupby([\"Slodzes tips\", \"Darba laika veids\"])[[\"Alga līdz\"]].count()\n",
    "print(type(grouped_res3))\n",
    "grouped_res3.sort_values([\"Slodzes tips\", \"Darba laika veids\"])\n",
    "#grouped_res3"
   ]
  },
  {
   "cell_type": "markdown",
   "id": "92bd5105-c390-40dc-a488-b8483a37b65c",
   "metadata": {},
   "source": [
    "## 5.2. Filter rows by groupby result"
   ]
  },
  {
   "cell_type": "code",
   "execution_count": 29,
   "id": "58154301-c3c6-485e-9101-795ff34e9d83",
   "metadata": {},
   "outputs": [
    {
     "name": "stdout",
     "output_type": "stream",
     "text": [
      "<class 'pandas.core.frame.DataFrame'>\n",
      "                                           Alga līdz\n",
      "Slodzes tips        Darba laika veids               \n",
      "Nepilna slodze      Nepilnais darba laiks        821\n",
      "                    Normālais darba laiks       1021\n",
      "                    Summētais darba laiks       1426\n",
      "Viena vesela slodze Maiņu darbs                 1371\n",
      "                    Nepilnais darba laiks        521\n",
      "                    Normālais darba laiks        309\n",
      "                    Summētais darba laiks       1194\n"
     ]
    },
    {
     "data": {
      "text/html": [
       "<div>\n",
       "<style scoped>\n",
       "    .dataframe tbody tr th:only-of-type {\n",
       "        vertical-align: middle;\n",
       "    }\n",
       "\n",
       "    .dataframe tbody tr th {\n",
       "        vertical-align: top;\n",
       "    }\n",
       "\n",
       "    .dataframe thead th {\n",
       "        text-align: right;\n",
       "    }\n",
       "</style>\n",
       "<table border=\"1\" class=\"dataframe\">\n",
       "  <thead>\n",
       "    <tr style=\"text-align: right;\">\n",
       "      <th></th>\n",
       "      <th>Vakances Nr</th>\n",
       "      <th>Aktualizācijas datums</th>\n",
       "      <th>Iestādes reģistrācijas numurs</th>\n",
       "      <th>Vakances nosaukums</th>\n",
       "      <th>Vakances kategorija</th>\n",
       "      <th>Alga no</th>\n",
       "      <th>Alga līdz</th>\n",
       "      <th>Slodzes tips</th>\n",
       "      <th>Darba laika veids</th>\n",
       "      <th>Darba stundas nedēļā</th>\n",
       "      <th>Pieteikšanās termiņš</th>\n",
       "      <th>Attēls</th>\n",
       "      <th>Vieta</th>\n",
       "      <th>Vakances paplašināts apraksts</th>\n",
       "    </tr>\n",
       "  </thead>\n",
       "  <tbody>\n",
       "    <tr>\n",
       "      <th>821</th>\n",
       "      <td>220427-112</td>\n",
       "      <td>2022-04-27</td>\n",
       "      <td>90000025357</td>\n",
       "      <td>VISPĀRĒJĀS VIDĒJĀS IZGLĪTĪBAS SKOLOTĀJS</td>\n",
       "      <td>Izglītība / Zinātne</td>\n",
       "      <td>830.0</td>\n",
       "      <td>1200.0</td>\n",
       "      <td>Nepilna slodze</td>\n",
       "      <td>Nepilnais darba laiks</td>\n",
       "      <td>NaN</td>\n",
       "      <td>2022-05-31</td>\n",
       "      <td>NaN</td>\n",
       "      <td>Gaiziņa iela 3, Rīga</td>\n",
       "      <td>https://cvvp.nva.gov.lv/#/pub/vakances/320654335</td>\n",
       "    </tr>\n",
       "    <tr>\n",
       "      <th>1021</th>\n",
       "      <td>220411-213</td>\n",
       "      <td>2022-04-25</td>\n",
       "      <td>41503014677</td>\n",
       "      <td>MĀKSLAS TERAPEITS</td>\n",
       "      <td>Veselības aprūpe / Sociālā aprūpe</td>\n",
       "      <td>1369.0</td>\n",
       "      <td>1369.0</td>\n",
       "      <td>Nepilna slodze</td>\n",
       "      <td>Normālais darba laiks</td>\n",
       "      <td>NaN</td>\n",
       "      <td>2022-05-30</td>\n",
       "      <td>NaN</td>\n",
       "      <td>Daugavpils, ar darba vietu Raiņa iela 35, Ilūkste</td>\n",
       "      <td>https://cvvp.nva.gov.lv/#/pub/vakances/319579166</td>\n",
       "    </tr>\n",
       "    <tr>\n",
       "      <th>1426</th>\n",
       "      <td>220422-69</td>\n",
       "      <td>2022-04-22</td>\n",
       "      <td>90000032113</td>\n",
       "      <td>FIZIOTERAPEITS</td>\n",
       "      <td>Veselības aprūpe / Sociālā aprūpe</td>\n",
       "      <td>952.0</td>\n",
       "      <td>1237.0</td>\n",
       "      <td>Nepilna slodze</td>\n",
       "      <td>Summētais darba laiks</td>\n",
       "      <td>20.0</td>\n",
       "      <td>2022-06-20</td>\n",
       "      <td>NaN</td>\n",
       "      <td>Aprūpes Centrs, Rauda, Smārdes pag., Tukuma nov.</td>\n",
       "      <td>https://cvvp.nva.gov.lv/#/pub/vakances/320289699</td>\n",
       "    </tr>\n",
       "    <tr>\n",
       "      <th>1371</th>\n",
       "      <td>220428-35</td>\n",
       "      <td>2022-04-28</td>\n",
       "      <td>40003439279</td>\n",
       "      <td>FIZIKĀLĀS UN REHABILITĀCIJAS MEDICĪNAS ĀRSTS</td>\n",
       "      <td>Veselības aprūpe / Sociālā aprūpe</td>\n",
       "      <td>1555.0</td>\n",
       "      <td>1555.0</td>\n",
       "      <td>Viena vesela slodze</td>\n",
       "      <td>Maiņu darbs</td>\n",
       "      <td>NaN</td>\n",
       "      <td>2022-05-20</td>\n",
       "      <td>NaN</td>\n",
       "      <td>Bruņinieku iela 5, Rīga</td>\n",
       "      <td>https://cvvp.nva.gov.lv/#/pub/vakances/320740323</td>\n",
       "    </tr>\n",
       "    <tr>\n",
       "      <th>521</th>\n",
       "      <td>220331-261</td>\n",
       "      <td>2022-04-25</td>\n",
       "      <td>40003052790</td>\n",
       "      <td>AUTOMOBIĻA VADĪTĀJS</td>\n",
       "      <td>Pakalpojumi</td>\n",
       "      <td>600.0</td>\n",
       "      <td>650.0</td>\n",
       "      <td>Viena vesela slodze</td>\n",
       "      <td>Nepilnais darba laiks</td>\n",
       "      <td>NaN</td>\n",
       "      <td>2022-05-31</td>\n",
       "      <td>NaN</td>\n",
       "      <td>Pils iela 2, Sigulda, Siguldas nov.</td>\n",
       "      <td>https://cvvp.nva.gov.lv/#/pub/vakances/318834616</td>\n",
       "    </tr>\n",
       "    <tr>\n",
       "      <th>309</th>\n",
       "      <td>220427-56</td>\n",
       "      <td>2022-04-27</td>\n",
       "      <td>40003619950</td>\n",
       "      <td>INFORMĀCIJAS TEHNOLOĢIJU STRUKTŪRVIENĪBAS VADĪ...</td>\n",
       "      <td>Transports / Loģistika</td>\n",
       "      <td>4800.0</td>\n",
       "      <td>5200.0</td>\n",
       "      <td>Viena vesela slodze</td>\n",
       "      <td>Normālais darba laiks</td>\n",
       "      <td>NaN</td>\n",
       "      <td>2022-05-17</td>\n",
       "      <td>NaN</td>\n",
       "      <td>Vestienas iela 35, Rīga</td>\n",
       "      <td>https://cvvp.nva.gov.lv/#/pub/vakances/320638505</td>\n",
       "    </tr>\n",
       "    <tr>\n",
       "      <th>1194</th>\n",
       "      <td>220107-57</td>\n",
       "      <td>2022-05-03</td>\n",
       "      <td>40003258333</td>\n",
       "      <td>NEATLIEKAMĀS MEDICĪNAS ĀRSTS</td>\n",
       "      <td>Veselības aprūpe / Sociālā aprūpe</td>\n",
       "      <td>2200.0</td>\n",
       "      <td>2500.0</td>\n",
       "      <td>Viena vesela slodze</td>\n",
       "      <td>Summētais darba laiks</td>\n",
       "      <td>NaN</td>\n",
       "      <td>2022-06-03</td>\n",
       "      <td>NaN</td>\n",
       "      <td>Jumaras iela 195, Valmiera, Valmieras nov.</td>\n",
       "      <td>https://cvvp.nva.gov.lv/#/pub/vakances/313514368</td>\n",
       "    </tr>\n",
       "  </tbody>\n",
       "</table>\n",
       "</div>"
      ],
      "text/plain": [
       "     Vakances Nr Aktualizācijas datums  Iestādes reģistrācijas numurs  \\\n",
       "821   220427-112            2022-04-27                    90000025357   \n",
       "1021  220411-213            2022-04-25                    41503014677   \n",
       "1426   220422-69            2022-04-22                    90000032113   \n",
       "1371   220428-35            2022-04-28                    40003439279   \n",
       "521   220331-261            2022-04-25                    40003052790   \n",
       "309    220427-56            2022-04-27                    40003619950   \n",
       "1194   220107-57            2022-05-03                    40003258333   \n",
       "\n",
       "                                     Vakances nosaukums  \\\n",
       "821             VISPĀRĒJĀS VIDĒJĀS IZGLĪTĪBAS SKOLOTĀJS   \n",
       "1021                                  MĀKSLAS TERAPEITS   \n",
       "1426                                     FIZIOTERAPEITS   \n",
       "1371       FIZIKĀLĀS UN REHABILITĀCIJAS MEDICĪNAS ĀRSTS   \n",
       "521                                 AUTOMOBIĻA VADĪTĀJS   \n",
       "309   INFORMĀCIJAS TEHNOLOĢIJU STRUKTŪRVIENĪBAS VADĪ...   \n",
       "1194                       NEATLIEKAMĀS MEDICĪNAS ĀRSTS   \n",
       "\n",
       "                    Vakances kategorija  Alga no  Alga līdz  \\\n",
       "821                 Izglītība / Zinātne    830.0     1200.0   \n",
       "1021  Veselības aprūpe / Sociālā aprūpe   1369.0     1369.0   \n",
       "1426  Veselības aprūpe / Sociālā aprūpe    952.0     1237.0   \n",
       "1371  Veselības aprūpe / Sociālā aprūpe   1555.0     1555.0   \n",
       "521                         Pakalpojumi    600.0      650.0   \n",
       "309              Transports / Loģistika   4800.0     5200.0   \n",
       "1194  Veselības aprūpe / Sociālā aprūpe   2200.0     2500.0   \n",
       "\n",
       "             Slodzes tips      Darba laika veids  Darba stundas nedēļā  \\\n",
       "821        Nepilna slodze  Nepilnais darba laiks                   NaN   \n",
       "1021       Nepilna slodze  Normālais darba laiks                   NaN   \n",
       "1426       Nepilna slodze  Summētais darba laiks                  20.0   \n",
       "1371  Viena vesela slodze            Maiņu darbs                   NaN   \n",
       "521   Viena vesela slodze  Nepilnais darba laiks                   NaN   \n",
       "309   Viena vesela slodze  Normālais darba laiks                   NaN   \n",
       "1194  Viena vesela slodze  Summētais darba laiks                   NaN   \n",
       "\n",
       "     Pieteikšanās termiņš  Attēls  \\\n",
       "821            2022-05-31     NaN   \n",
       "1021           2022-05-30     NaN   \n",
       "1426           2022-06-20     NaN   \n",
       "1371           2022-05-20     NaN   \n",
       "521            2022-05-31     NaN   \n",
       "309            2022-05-17     NaN   \n",
       "1194           2022-06-03     NaN   \n",
       "\n",
       "                                                  Vieta  \\\n",
       "821                                Gaiziņa iela 3, Rīga   \n",
       "1021  Daugavpils, ar darba vietu Raiņa iela 35, Ilūkste   \n",
       "1426   Aprūpes Centrs, Rauda, Smārdes pag., Tukuma nov.   \n",
       "1371                            Bruņinieku iela 5, Rīga   \n",
       "521                 Pils iela 2, Sigulda, Siguldas nov.   \n",
       "309                             Vestienas iela 35, Rīga   \n",
       "1194         Jumaras iela 195, Valmiera, Valmieras nov.   \n",
       "\n",
       "                         Vakances paplašināts apraksts  \n",
       "821   https://cvvp.nva.gov.lv/#/pub/vakances/320654335  \n",
       "1021  https://cvvp.nva.gov.lv/#/pub/vakances/319579166  \n",
       "1426  https://cvvp.nva.gov.lv/#/pub/vakances/320289699  \n",
       "1371  https://cvvp.nva.gov.lv/#/pub/vakances/320740323  \n",
       "521   https://cvvp.nva.gov.lv/#/pub/vakances/318834616  \n",
       "309   https://cvvp.nva.gov.lv/#/pub/vakances/320638505  \n",
       "1194  https://cvvp.nva.gov.lv/#/pub/vakances/313514368  "
      ]
     },
     "execution_count": 29,
     "metadata": {},
     "output_type": "execute_result"
    }
   ],
   "source": [
    "# How to get Max values (from particular column) grouping by some columns\n",
    "\n",
    "# Group by multiple columns and get row ID's\n",
    "    # .idxmax(), .idxmin()\n",
    "gr_res4_ids = df_xlsx_vakances.groupby([\"Slodzes tips\", \"Darba laika veids\"])[[\"Alga līdz\"]].idxmax() # index of first occurrence of maximum over requested axis\n",
    "print(type(gr_res4_ids)) # 'pandas.core.frame.DataFrame' (because grouped by 2 columns)\n",
    "print(gr_res4_ids)\n",
    "# gr_res4_ids is a DataFrame therefore need to select column (to get Series) which have row IDs -> gr_res4_ids[\"Alga līdz\"]\n",
    "df_xlsx_vakances.loc[gr_res4_ids[\"Alga līdz\"]]#.sort_values(by = \"Alga līdz\", ascending = False)"
   ]
  },
  {
   "cell_type": "markdown",
   "id": "b04ea094-bd55-4c9d-939b-8fdbd1bd2117",
   "metadata": {},
   "source": [
    "# 6. Modify DataFrame/Series\n",
    "## 6.1. Change values using loc property"
   ]
  },
  {
   "cell_type": "code",
   "execution_count": 32,
   "id": "7aa27e77-3c5a-4d8d-866a-28d50a44fb90",
   "metadata": {},
   "outputs": [],
   "source": [
    "# Fill all rows with \"(n/z)\" in 11th column\n",
    "df_vakances_raw.iloc[:, 11] = \"(n/z)\""
   ]
  },
  {
   "cell_type": "markdown",
   "id": "f9f9514a-ac81-4627-89ae-2ddf6a4b90d1",
   "metadata": {},
   "source": [
    "## 6.2. Change all columns to strings - applymap method"
   ]
  },
  {
   "cell_type": "code",
   "execution_count": 42,
   "id": "b722f089-c8ea-46f2-9710-c97ac5fe7862",
   "metadata": {},
   "outputs": [
    {
     "data": {
      "text/plain": [
       "Vakances Nr                      object\n",
       "Aktualizācijas datums            object\n",
       "Iestādes reģistrācijas numurs    object\n",
       "Vakances nosaukums               object\n",
       "Vakances kategorija              object\n",
       "Alga no                          object\n",
       "Alga līdz                        object\n",
       "Slodzes tips                     object\n",
       "Darba laika veids                object\n",
       "Darba stundas nedēļā             object\n",
       "Pieteikšanās termiņš             object\n",
       "Attēls                           object\n",
       "Vieta                            object\n",
       "Vakances paplašināts apraksts    object\n",
       "dtype: object"
      ]
     },
     "execution_count": 42,
     "metadata": {},
     "output_type": "execute_result"
    }
   ],
   "source": [
    "df_all_strings = df_vakances_raw.applymap(str)\n",
    "df_all_strings.dtypes"
   ]
  },
  {
   "cell_type": "markdown",
   "id": "efd85fc4-b14b-472a-815c-3067949641c4",
   "metadata": {},
   "source": [
    "## 6.3. Change column names"
   ]
  },
  {
   "cell_type": "code",
   "execution_count": 33,
   "id": "154b393d-645a-4a1e-903f-1da528cc558a",
   "metadata": {},
   "outputs": [
    {
     "data": {
      "text/html": [
       "<div>\n",
       "<style scoped>\n",
       "    .dataframe tbody tr th:only-of-type {\n",
       "        vertical-align: middle;\n",
       "    }\n",
       "\n",
       "    .dataframe tbody tr th {\n",
       "        vertical-align: top;\n",
       "    }\n",
       "\n",
       "    .dataframe thead th {\n",
       "        text-align: right;\n",
       "    }\n",
       "</style>\n",
       "<table border=\"1\" class=\"dataframe\">\n",
       "  <thead>\n",
       "    <tr style=\"text-align: right;\">\n",
       "      <th></th>\n",
       "      <th>vakances nr</th>\n",
       "      <th>aktualizācijas datums</th>\n",
       "      <th>iestādes_regnum</th>\n",
       "      <th>vakance</th>\n",
       "      <th>vakances kategorija</th>\n",
       "      <th>alga no</th>\n",
       "      <th>alga līdz</th>\n",
       "      <th>slodzes tips</th>\n",
       "      <th>darba laika veids</th>\n",
       "      <th>darba stundas nedēļā</th>\n",
       "      <th>termiņš</th>\n",
       "      <th>attēls</th>\n",
       "      <th>vieta</th>\n",
       "      <th>saite</th>\n",
       "    </tr>\n",
       "  </thead>\n",
       "  <tbody>\n",
       "    <tr>\n",
       "      <th>314</th>\n",
       "      <td>220224-42</td>\n",
       "      <td>2022-03-31</td>\n",
       "      <td>40003619950</td>\n",
       "      <td>AUTOAPKOPES SPECIĀLISTS</td>\n",
       "      <td>Transports / Loģistika</td>\n",
       "      <td>5.83</td>\n",
       "      <td>6.08</td>\n",
       "      <td>Viena vesela slodze</td>\n",
       "      <td>Summētais darba laiks</td>\n",
       "      <td>NaN</td>\n",
       "      <td>2022-05-30</td>\n",
       "      <td>(n/z)</td>\n",
       "      <td>Vestienas iela 35, Rīga</td>\n",
       "      <td>https://cvvp.nva.gov.lv/#/pub/vakances/316603445</td>\n",
       "    </tr>\n",
       "    <tr>\n",
       "      <th>1207</th>\n",
       "      <td>220419-312</td>\n",
       "      <td>2022-05-02</td>\n",
       "      <td>40900035103</td>\n",
       "      <td>MĀSAS PALĪGS</td>\n",
       "      <td>Veselības aprūpe / Sociālā aprūpe</td>\n",
       "      <td>552.00</td>\n",
       "      <td>802.00</td>\n",
       "      <td>Viena vesela slodze</td>\n",
       "      <td>NaN</td>\n",
       "      <td>NaN</td>\n",
       "      <td>2022-05-08</td>\n",
       "      <td>(n/z)</td>\n",
       "      <td>Lielbērze, Lielbērze, Auru pag., Dobeles nov.</td>\n",
       "      <td>https://cvvp.nva.gov.lv/#/pub/vakances/320033253</td>\n",
       "    </tr>\n",
       "    <tr>\n",
       "      <th>67</th>\n",
       "      <td>220503-421</td>\n",
       "      <td>2022-05-03</td>\n",
       "      <td>90002065000</td>\n",
       "      <td>KARTOGRĀFIJAS INŽENIERIS</td>\n",
       "      <td>Valsts pārvalde</td>\n",
       "      <td>835.00</td>\n",
       "      <td>1030.00</td>\n",
       "      <td>Viena vesela slodze</td>\n",
       "      <td>Normālais darba laiks</td>\n",
       "      <td>40.0</td>\n",
       "      <td>2022-05-20</td>\n",
       "      <td>(n/z)</td>\n",
       "      <td>Ojāra Vācieša iela 43, Rīga</td>\n",
       "      <td>https://cvvp.nva.gov.lv/#/pub/vakances/321222255</td>\n",
       "    </tr>\n",
       "  </tbody>\n",
       "</table>\n",
       "</div>"
      ],
      "text/plain": [
       "     vakances nr aktualizācijas datums  iestādes_regnum  \\\n",
       "314    220224-42            2022-03-31      40003619950   \n",
       "1207  220419-312            2022-05-02      40900035103   \n",
       "67    220503-421            2022-05-03      90002065000   \n",
       "\n",
       "                       vakance                vakances kategorija  alga no  \\\n",
       "314    AUTOAPKOPES SPECIĀLISTS             Transports / Loģistika     5.83   \n",
       "1207              MĀSAS PALĪGS  Veselības aprūpe / Sociālā aprūpe   552.00   \n",
       "67    KARTOGRĀFIJAS INŽENIERIS                    Valsts pārvalde   835.00   \n",
       "\n",
       "      alga līdz         slodzes tips      darba laika veids  \\\n",
       "314        6.08  Viena vesela slodze  Summētais darba laiks   \n",
       "1207     802.00  Viena vesela slodze                    NaN   \n",
       "67      1030.00  Viena vesela slodze  Normālais darba laiks   \n",
       "\n",
       "      darba stundas nedēļā     termiņš attēls  \\\n",
       "314                    NaN  2022-05-30  (n/z)   \n",
       "1207                   NaN  2022-05-08  (n/z)   \n",
       "67                    40.0  2022-05-20  (n/z)   \n",
       "\n",
       "                                              vieta  \\\n",
       "314                         Vestienas iela 35, Rīga   \n",
       "1207  Lielbērze, Lielbērze, Auru pag., Dobeles nov.   \n",
       "67                      Ojāra Vācieša iela 43, Rīga   \n",
       "\n",
       "                                                 saite  \n",
       "314   https://cvvp.nva.gov.lv/#/pub/vakances/316603445  \n",
       "1207  https://cvvp.nva.gov.lv/#/pub/vakances/320033253  \n",
       "67    https://cvvp.nva.gov.lv/#/pub/vakances/321222255  "
      ]
     },
     "execution_count": 33,
     "metadata": {},
     "output_type": "execute_result"
    }
   ],
   "source": [
    "df_vakances_raw = df_vakances_raw.rename(columns = str.lower) # all names to lowercase\n",
    "\n",
    "# Rename some columns\n",
    "    # In a dictionary - \"old name\": \"new name\"\n",
    "df_vakances_raw = df_vakances_raw.rename(columns = {\"iestādes reģistrācijas numurs\": \"iestādes_regnum\",\n",
    "                                                   \"vakances paplašināts apraksts\": \"saite\"})\n",
    "\n",
    "\n",
    "# Rename some columns - using \"axis\"\n",
    "df_vakances_raw = df_vakances_raw.rename({\"vakances nosaukums\": \"vakance\",\n",
    "                                         \"pieteikšanās termiņš\": \"termiņš\"}, axis = \"columns\")\n",
    "df_vakances_raw.sample(3)"
   ]
  },
  {
   "cell_type": "markdown",
   "id": "a0e9a60f-9bef-4abb-9a1c-10de0372aa17",
   "metadata": {},
   "source": [
    "## fillna method"
   ]
  },
  {
   "cell_type": "code",
   "execution_count": 34,
   "id": "e555018c-7682-4c84-8198-3dbf76236e31",
   "metadata": {},
   "outputs": [
    {
     "name": "stdout",
     "output_type": "stream",
     "text": [
      "BEFORE fillna() - using count():\n",
      "\n",
      "Slodzes tips\n",
      "Nepilna slodze          84\n",
      "Viena vesela slodze    690\n",
      "Name: Darba laika veids, dtype: int64\n",
      "\n",
      "BEFORE fillna() - using size():\n",
      "\n",
      "Slodzes tips\n",
      "Nepilna slodze          169\n",
      "Viena vesela slodze    1009\n",
      "Name: Darba laika veids, dtype: int64\n",
      "\n",
      "AFTER fillna() - using count():\n",
      "Slodzes tips\n",
      "(n/z)                   300\n",
      "Nepilna slodze          169\n",
      "Viena vesela slodze    1009\n",
      "Name: Darba laika veids, dtype: int64\n"
     ]
    }
   ],
   "source": [
    "print(\"BEFORE fillna() - using count():\\n\")\n",
    "# NULLs and NaNs are not counted by the count()\n",
    "print(df_xlsx_vakances.groupby(\"Slodzes tips\")[\"Darba laika veids\"].count())\n",
    "\n",
    "print(\"\\nBEFORE fillna() - using size():\\n\")\n",
    "print(df_xlsx_vakances.groupby(\"Slodzes tips\")[\"Darba laika veids\"].size())\n",
    "\n",
    "df_xlsx_vakances[[\"Slodzes tips\",\"Darba laika veids\"]] = df_xlsx_vakances[[\"Slodzes tips\",\"Darba laika veids\"]].fillna(\"(n/z)\")\n",
    "\n",
    "print(\"\\nAFTER fillna() - using count():\")\n",
    "# .size() would show same result\n",
    "print(df_xlsx_vakances.groupby(\"Slodzes tips\")[\"Darba laika veids\"].count())\n",
    "#df_xlsx_vakances.iloc[:, 0:8].tail(5) # select all rows and "
   ]
  },
  {
   "cell_type": "markdown",
   "id": "d4b40a01-2143-4a41-8be2-6bca53a1e3fd",
   "metadata": {},
   "source": [
    "## Create new columns"
   ]
  },
  {
   "cell_type": "code",
   "execution_count": 35,
   "id": "aba4c272-9092-40c3-8ae2-72f960f19f65",
   "metadata": {},
   "outputs": [
    {
     "data": {
      "text/plain": [
       "<AxesSubplot:ylabel='Frequency'>"
      ]
     },
     "execution_count": 35,
     "metadata": {},
     "output_type": "execute_result"
    },
    {
     "data": {
      "image/png": "[encoded data removed]",
      "text/plain": [
       "<Figure size 432x288 with 1 Axes>"
      ]
     },
     "metadata": {
      "needs_background": "light"
     },
     "output_type": "display_data"
    }
   ],
   "source": [
    "df_vakances_raw[\"salary_range\"] = df_vakances_raw[\"alga līdz\"] - df_vakances_raw[\"alga no\"]\n",
    "df_vakances_raw[\"salary_range\"].plot.hist(bins=10)"
   ]
  },
  {
   "cell_type": "markdown",
   "id": "88312976-32e9-4cb5-ad42-5c4850381ef0",
   "metadata": {},
   "source": [
    "### assign method\n",
    "https://pandas.pydata.org/docs/reference/api/pandas.DataFrame.assign.html"
   ]
  },
  {
   "cell_type": "code",
   "execution_count": 42,
   "id": "68cda786-f939-44da-8976-c2ad8e2782d2",
   "metadata": {},
   "outputs": [
    {
     "data": {
      "text/html": [
       "<div>\n",
       "<style scoped>\n",
       "    .dataframe tbody tr th:only-of-type {\n",
       "        vertical-align: middle;\n",
       "    }\n",
       "\n",
       "    .dataframe tbody tr th {\n",
       "        vertical-align: top;\n",
       "    }\n",
       "\n",
       "    .dataframe thead th {\n",
       "        text-align: right;\n",
       "    }\n",
       "</style>\n",
       "<table border=\"1\" class=\"dataframe\">\n",
       "  <thead>\n",
       "    <tr style=\"text-align: right;\">\n",
       "      <th></th>\n",
       "      <th>Vakances Nr</th>\n",
       "      <th>Aktualizācijas datums</th>\n",
       "      <th>Iestādes reģistrācijas numurs</th>\n",
       "      <th>Vakances nosaukums</th>\n",
       "      <th>Vakances kategorija</th>\n",
       "      <th>Alga no</th>\n",
       "      <th>Alga līdz</th>\n",
       "      <th>Slodzes tips</th>\n",
       "      <th>Darba laika veids</th>\n",
       "      <th>Darba stundas nedēļā</th>\n",
       "      <th>Pieteikšanās termiņš</th>\n",
       "      <th>Attēls</th>\n",
       "      <th>Vieta</th>\n",
       "      <th>Vakances paplašināts apraksts</th>\n",
       "      <th>days_diff</th>\n",
       "      <th>salary_range</th>\n",
       "      <th>is_0_range</th>\n",
       "    </tr>\n",
       "  </thead>\n",
       "  <tbody>\n",
       "    <tr>\n",
       "      <th>0</th>\n",
       "      <td>220419-23</td>\n",
       "      <td>2022-04-29</td>\n",
       "      <td>44103015509</td>\n",
       "      <td>OTRREIZĒJO IZEJVIELU ŠĶIROTĀJS</td>\n",
       "      <td>Pakalpojumi</td>\n",
       "      <td>750.0</td>\n",
       "      <td>1000.0</td>\n",
       "      <td>Viena vesela slodze</td>\n",
       "      <td>NaN</td>\n",
       "      <td>NaN</td>\n",
       "      <td>2022-05-20</td>\n",
       "      <td>NaN</td>\n",
       "      <td>Daibe, Stalbes pag., Cēsu nov.</td>\n",
       "      <td>https://cvvp.nva.gov.lv/#/pub/vakances/319927475</td>\n",
       "      <td>21.0</td>\n",
       "      <td>250.0</td>\n",
       "      <td>&gt; 0 EUR</td>\n",
       "    </tr>\n",
       "    <tr>\n",
       "      <th>1</th>\n",
       "      <td>220503-43</td>\n",
       "      <td>2022-05-03</td>\n",
       "      <td>44103015509</td>\n",
       "      <td>GADĪJUMA DARBU STRĀDNIEKS</td>\n",
       "      <td>Pakalpojumi</td>\n",
       "      <td>500.0</td>\n",
       "      <td>500.0</td>\n",
       "      <td>Viena vesela slodze</td>\n",
       "      <td>NaN</td>\n",
       "      <td>NaN</td>\n",
       "      <td>2022-05-20</td>\n",
       "      <td>NaN</td>\n",
       "      <td>Daibe, Stalbes pag., Cēsu nov.</td>\n",
       "      <td>https://cvvp.nva.gov.lv/#/pub/vakances/321151029</td>\n",
       "      <td>17.0</td>\n",
       "      <td>0.0</td>\n",
       "      <td>0 EUR</td>\n",
       "    </tr>\n",
       "    <tr>\n",
       "      <th>2</th>\n",
       "      <td>220503-61</td>\n",
       "      <td>2022-05-03</td>\n",
       "      <td>44103015509</td>\n",
       "      <td>ATKRITUMU SAVĀCĒJS</td>\n",
       "      <td>Pakalpojumi</td>\n",
       "      <td>700.0</td>\n",
       "      <td>800.0</td>\n",
       "      <td>Viena vesela slodze</td>\n",
       "      <td>NaN</td>\n",
       "      <td>NaN</td>\n",
       "      <td>2022-05-20</td>\n",
       "      <td>NaN</td>\n",
       "      <td>Valmiera, Valmieras nov.</td>\n",
       "      <td>https://cvvp.nva.gov.lv/#/pub/vakances/321154098</td>\n",
       "      <td>17.0</td>\n",
       "      <td>100.0</td>\n",
       "      <td>&gt; 0 EUR</td>\n",
       "    </tr>\n",
       "    <tr>\n",
       "      <th>3</th>\n",
       "      <td>220413-197</td>\n",
       "      <td>2022-04-14</td>\n",
       "      <td>90000064301</td>\n",
       "      <td>INSPEKTORS</td>\n",
       "      <td>Valsts pārvalde</td>\n",
       "      <td>940.0</td>\n",
       "      <td>1190.0</td>\n",
       "      <td>Viena vesela slodze</td>\n",
       "      <td>Normālais darba laiks</td>\n",
       "      <td>NaN</td>\n",
       "      <td>2022-05-08</td>\n",
       "      <td>NaN</td>\n",
       "      <td>Lubānas iela 49, Rīga</td>\n",
       "      <td>https://cvvp.nva.gov.lv/#/pub/vakances/319811747</td>\n",
       "      <td>24.0</td>\n",
       "      <td>250.0</td>\n",
       "      <td>&gt; 0 EUR</td>\n",
       "    </tr>\n",
       "  </tbody>\n",
       "</table>\n",
       "</div>"
      ],
      "text/plain": [
       "  Vakances Nr Aktualizācijas datums  Iestādes reģistrācijas numurs  \\\n",
       "0   220419-23            2022-04-29                    44103015509   \n",
       "1   220503-43            2022-05-03                    44103015509   \n",
       "2   220503-61            2022-05-03                    44103015509   \n",
       "3  220413-197            2022-04-14                    90000064301   \n",
       "\n",
       "               Vakances nosaukums Vakances kategorija  Alga no  Alga līdz  \\\n",
       "0  OTRREIZĒJO IZEJVIELU ŠĶIROTĀJS         Pakalpojumi    750.0     1000.0   \n",
       "1       GADĪJUMA DARBU STRĀDNIEKS         Pakalpojumi    500.0      500.0   \n",
       "2              ATKRITUMU SAVĀCĒJS         Pakalpojumi    700.0      800.0   \n",
       "3                      INSPEKTORS     Valsts pārvalde    940.0     1190.0   \n",
       "\n",
       "          Slodzes tips      Darba laika veids  Darba stundas nedēļā  \\\n",
       "0  Viena vesela slodze                    NaN                   NaN   \n",
       "1  Viena vesela slodze                    NaN                   NaN   \n",
       "2  Viena vesela slodze                    NaN                   NaN   \n",
       "3  Viena vesela slodze  Normālais darba laiks                   NaN   \n",
       "\n",
       "  Pieteikšanās termiņš Attēls                           Vieta  \\\n",
       "0           2022-05-20    NaN  Daibe, Stalbes pag., Cēsu nov.   \n",
       "1           2022-05-20    NaN  Daibe, Stalbes pag., Cēsu nov.   \n",
       "2           2022-05-20    NaN        Valmiera, Valmieras nov.   \n",
       "3           2022-05-08    NaN           Lubānas iela 49, Rīga   \n",
       "\n",
       "                      Vakances paplašināts apraksts  days_diff  salary_range  \\\n",
       "0  https://cvvp.nva.gov.lv/#/pub/vakances/319927475       21.0         250.0   \n",
       "1  https://cvvp.nva.gov.lv/#/pub/vakances/321151029       17.0           0.0   \n",
       "2  https://cvvp.nva.gov.lv/#/pub/vakances/321154098       17.0         100.0   \n",
       "3  https://cvvp.nva.gov.lv/#/pub/vakances/319811747       24.0         250.0   \n",
       "\n",
       "  is_0_range  \n",
       "0    > 0 EUR  \n",
       "1      0 EUR  \n",
       "2    > 0 EUR  \n",
       "3    > 0 EUR  "
      ]
     },
     "execution_count": 42,
     "metadata": {},
     "output_type": "execute_result"
    }
   ],
   "source": [
    "import numpy as np\n",
    "\n",
    "df_vakances_raw2 = df_vakances_raw2.assign(days_diff = (df_vakances_raw2[\"Pieteikšanās termiņš\"] - df_vakances_raw2[\"Aktualizācijas datums\"])/np.timedelta64(1,'D'),\n",
    "                                           salary_range = df_vakances_raw2[\"Alga līdz\"] - df_vakances_raw2[\"Alga no\"],\n",
    "                                           is_0_range = [\"0 EUR\" if a == 0 else \"> 0 EUR\" for a in df_vakances_raw2[\"salary_range\"]])\n",
    "df_vakances_raw2.head(4)"
   ]
  },
  {
   "cell_type": "markdown",
   "id": "092bd696-1d1a-4127-82f3-f107488214d3",
   "metadata": {},
   "source": [
    "For more complicated conditions, use numpy's where or select methods: https://www.dataquest.io/blog/tutorial-add-column-pandas-dataframe-based-on-if-else-condition/ <br/>\n",
    "### merge method - merging 2 DataFrames\n",
    "https://pandas.pydata.org/docs/reference/api/pandas.DataFrame.merge.html"
   ]
  },
  {
   "cell_type": "code",
   "execution_count": 43,
   "id": "03af679e-2000-4ab0-9c5e-9380a489c39a",
   "metadata": {},
   "outputs": [
    {
     "data": {
      "text/html": [
       "<div>\n",
       "<style scoped>\n",
       "    .dataframe tbody tr th:only-of-type {\n",
       "        vertical-align: middle;\n",
       "    }\n",
       "\n",
       "    .dataframe tbody tr th {\n",
       "        vertical-align: top;\n",
       "    }\n",
       "\n",
       "    .dataframe thead th {\n",
       "        text-align: right;\n",
       "    }\n",
       "</style>\n",
       "<table border=\"1\" class=\"dataframe\">\n",
       "  <thead>\n",
       "    <tr style=\"text-align: right;\">\n",
       "      <th></th>\n",
       "      <th>vakances nr</th>\n",
       "      <th>aktualizācijas datums</th>\n",
       "      <th>iestādes_regnum</th>\n",
       "      <th>vakance</th>\n",
       "      <th>vakances kategorija</th>\n",
       "      <th>alga no</th>\n",
       "      <th>alga līdz</th>\n",
       "      <th>slodzes tips</th>\n",
       "      <th>darba laika veids</th>\n",
       "      <th>darba stundas nedēļā</th>\n",
       "      <th>termiņš</th>\n",
       "      <th>attēls</th>\n",
       "      <th>vieta</th>\n",
       "      <th>saite</th>\n",
       "      <th>salary_range</th>\n",
       "      <th>days_diff</th>\n",
       "      <th>is_0_range</th>\n",
       "    </tr>\n",
       "  </thead>\n",
       "  <tbody>\n",
       "    <tr>\n",
       "      <th>0</th>\n",
       "      <td>220419-23</td>\n",
       "      <td>2022-04-29</td>\n",
       "      <td>44103015509</td>\n",
       "      <td>OTRREIZĒJO IZEJVIELU ŠĶIROTĀJS</td>\n",
       "      <td>Pakalpojumi</td>\n",
       "      <td>750.0</td>\n",
       "      <td>1000.0</td>\n",
       "      <td>Viena vesela slodze</td>\n",
       "      <td>NaN</td>\n",
       "      <td>NaN</td>\n",
       "      <td>2022-05-20</td>\n",
       "      <td>(n/z)</td>\n",
       "      <td>Daibe, Stalbes pag., Cēsu nov.</td>\n",
       "      <td>https://cvvp.nva.gov.lv/#/pub/vakances/319927475</td>\n",
       "      <td>250.0</td>\n",
       "      <td>21.0</td>\n",
       "      <td>&gt; 0 EUR</td>\n",
       "    </tr>\n",
       "    <tr>\n",
       "      <th>1</th>\n",
       "      <td>220503-43</td>\n",
       "      <td>2022-05-03</td>\n",
       "      <td>44103015509</td>\n",
       "      <td>GADĪJUMA DARBU STRĀDNIEKS</td>\n",
       "      <td>Pakalpojumi</td>\n",
       "      <td>500.0</td>\n",
       "      <td>500.0</td>\n",
       "      <td>Viena vesela slodze</td>\n",
       "      <td>NaN</td>\n",
       "      <td>NaN</td>\n",
       "      <td>2022-05-20</td>\n",
       "      <td>(n/z)</td>\n",
       "      <td>Daibe, Stalbes pag., Cēsu nov.</td>\n",
       "      <td>https://cvvp.nva.gov.lv/#/pub/vakances/321151029</td>\n",
       "      <td>0.0</td>\n",
       "      <td>17.0</td>\n",
       "      <td>0 EUR</td>\n",
       "    </tr>\n",
       "    <tr>\n",
       "      <th>2</th>\n",
       "      <td>220503-61</td>\n",
       "      <td>2022-05-03</td>\n",
       "      <td>44103015509</td>\n",
       "      <td>ATKRITUMU SAVĀCĒJS</td>\n",
       "      <td>Pakalpojumi</td>\n",
       "      <td>700.0</td>\n",
       "      <td>800.0</td>\n",
       "      <td>Viena vesela slodze</td>\n",
       "      <td>NaN</td>\n",
       "      <td>NaN</td>\n",
       "      <td>2022-05-20</td>\n",
       "      <td>(n/z)</td>\n",
       "      <td>Valmiera, Valmieras nov.</td>\n",
       "      <td>https://cvvp.nva.gov.lv/#/pub/vakances/321154098</td>\n",
       "      <td>100.0</td>\n",
       "      <td>17.0</td>\n",
       "      <td>&gt; 0 EUR</td>\n",
       "    </tr>\n",
       "  </tbody>\n",
       "</table>\n",
       "</div>"
      ],
      "text/plain": [
       "  vakances nr aktualizācijas datums  iestādes_regnum  \\\n",
       "0   220419-23            2022-04-29      44103015509   \n",
       "1   220503-43            2022-05-03      44103015509   \n",
       "2   220503-61            2022-05-03      44103015509   \n",
       "\n",
       "                          vakance vakances kategorija  alga no  alga līdz  \\\n",
       "0  OTRREIZĒJO IZEJVIELU ŠĶIROTĀJS         Pakalpojumi    750.0     1000.0   \n",
       "1       GADĪJUMA DARBU STRĀDNIEKS         Pakalpojumi    500.0      500.0   \n",
       "2              ATKRITUMU SAVĀCĒJS         Pakalpojumi    700.0      800.0   \n",
       "\n",
       "          slodzes tips darba laika veids  darba stundas nedēļā     termiņš  \\\n",
       "0  Viena vesela slodze               NaN                   NaN  2022-05-20   \n",
       "1  Viena vesela slodze               NaN                   NaN  2022-05-20   \n",
       "2  Viena vesela slodze               NaN                   NaN  2022-05-20   \n",
       "\n",
       "  attēls                           vieta  \\\n",
       "0  (n/z)  Daibe, Stalbes pag., Cēsu nov.   \n",
       "1  (n/z)  Daibe, Stalbes pag., Cēsu nov.   \n",
       "2  (n/z)        Valmiera, Valmieras nov.   \n",
       "\n",
       "                                              saite  salary_range  days_diff  \\\n",
       "0  https://cvvp.nva.gov.lv/#/pub/vakances/319927475         250.0       21.0   \n",
       "1  https://cvvp.nva.gov.lv/#/pub/vakances/321151029           0.0       17.0   \n",
       "2  https://cvvp.nva.gov.lv/#/pub/vakances/321154098         100.0       17.0   \n",
       "\n",
       "  is_0_range  \n",
       "0    > 0 EUR  \n",
       "1      0 EUR  \n",
       "2    > 0 EUR  "
      ]
     },
     "execution_count": 43,
     "metadata": {},
     "output_type": "execute_result"
    }
   ],
   "source": [
    "# Renamed column in order to not include it when merging with other df\n",
    "df_vakances_raw2 = df_vakances_raw2.rename(columns = {\"Vakances Nr\": \"vakances nr\"})\n",
    "columns_to_merge = [\"vakances nr\", \"days_diff\", \"is_0_range\"]\n",
    "\n",
    "# merge 2 DataFrames\n",
    "df_merged = df_vakances_raw.merge(df_vakances_raw2[columns_to_merge],\n",
    "                                  how = \"left\", # default - inner\n",
    "                                  left_on='vakances nr', right_on='vakances nr')\n",
    "df_merged.head(3)"
   ]
  },
  {
   "cell_type": "markdown",
   "id": "17e10eac-2a5d-4250-85bf-2a879ec7cd50",
   "metadata": {},
   "source": [
    "# 7. Save DataFrame\n",
    "## 7.1. Save DataFrame as Excel\n",
    "https://pandas.pydata.org/docs/reference/api/pandas.DataFrame.to_excel.html <br/>\n",
    "!!! need to install <strong>openpyxl</strong> package or <strong>xlsxwriter</strong> package (depending which engine is used).\n",
    "### to_excel method"
   ]
  },
  {
   "cell_type": "code",
   "execution_count": 18,
   "id": "bf3314a2-385f-4d2e-9d7d-a3bb67286708",
   "metadata": {},
   "outputs": [],
   "source": [
    "df_vakances_raw.to_excel(excel_writer='vakances-2022-05-04_modif.xlsx',\n",
    "sheet_name='vakances',\n",
    "index=False, # False - do not show index ID's in the first column. Index ID = row ID (starting from 0)\n",
    "engine = 'openpyxl') # Default. Support also: xlsxwriter"
   ]
  },
  {
   "cell_type": "markdown",
   "id": "d028cf1a-dd11-48c2-a19d-1a504bbe7bec",
   "metadata": {},
   "source": [
    "## 7.2. Save multiple DataFrames in Excel"
   ]
  },
  {
   "cell_type": "code",
   "execution_count": 11,
   "id": "b2782498-936f-4c3e-ad23-744fe29c7cab",
   "metadata": {},
   "outputs": [],
   "source": [
    "# If executed again - will overwrite result\n",
    "with pd.ExcelWriter(path='vakances-2022-05-04_multiple_sheets.xlsx') as df:\n",
    "        df_vakances_raw.to_excel(excel_writer=df, sheet_name='first_sheet', index=False)\n",
    "        df_vakances_raw.to_excel(excel_writer=df, sheet_name='second_sheet', index=False)"
   ]
  },
  {
   "cell_type": "markdown",
   "id": "101dcd63-3cc8-4848-bad9-77c463edb395",
   "metadata": {},
   "source": [
    "## Save data into database"
   ]
  },
  {
   "cell_type": "code",
   "execution_count": 103,
   "id": "7a28616c-d1a7-45e6-9242-7cc5c40cdf8d",
   "metadata": {},
   "outputs": [
    {
     "data": {
      "text/plain": [
       "NUMBERVAL              int64\n",
       "VARCHARVAL            object\n",
       "DATEVAL       datetime64[ns]\n",
       "dtype: object"
      ]
     },
     "execution_count": 103,
     "metadata": {},
     "output_type": "execute_result"
    }
   ],
   "source": [
    "# Creating DataFrame (that need to insert into database)\n",
    "df_data_to_db = pd.DataFrame(data = {\"NUMBERVAL\": [0, 1, 10],\n",
    "                                     \"VARCHARVAL\": [\"Glāžšķūņu\", \"rūķīši\", \"text\"],\n",
    "                                     \"DATEVAL\": [\"2022-05-25 15:19:48\", \"2022-05-25 15:19:48\", \"2022-05-25 15:19:48\"]})\n",
    "# Change object into datetime64\n",
    "df_data_to_db[\"DATEVAL\"] = pd.to_datetime(df_data_to_db[\"DATEVAL\"])\n",
    "\n",
    "df_data_to_db.dtypes"
   ]
  },
  {
   "cell_type": "code",
   "execution_count": 102,
   "id": "81c88007-ff4e-4fbc-8f6d-1607299e2225",
   "metadata": {},
   "outputs": [
    {
     "name": "stdin",
     "output_type": "stream",
     "text": [
      "Enter password to connect to the db_name database:  ··············\n"
     ]
    }
   ],
   "source": [
    "ci = {\"user\":\"user_name\", \"host\":\"hostname\", \"port\":1521, \"database\":\"db_name\"}\n",
    "psw = getpass.getpass(f'Enter password to connect to the {ci[\"database\"]} database: ')  \n",
    "o_engine = create_engine(f'oracle://{ci[\"user\"]}:{psw}@{ci[\"host\"]}:{ci[\"port\"]}/{ci[\"database\"]}') # need also cx_Oracle package"
   ]
  },
  {
   "cell_type": "code",
   "execution_count": 101,
   "id": "a3460be9-5d18-41a4-908e-dec0f8cc0c50",
   "metadata": {},
   "outputs": [
    {
     "data": {
      "text/plain": [
       "3"
      ]
     },
     "execution_count": 101,
     "metadata": {},
     "output_type": "execute_result"
    }
   ],
   "source": [
    "df_data_to_db.to_sql(name = \"TABLE_NAME\",\n",
    "                     con = o_engine, index=False, if_exists = \"append\")"
   ]
  },
  {
   "cell_type": "markdown",
   "id": "27060dd8-ca1f-432d-af98-55291ac29a94",
   "metadata": {},
   "source": [
    "Other ways on how to insert data into database:\n",
    "* using pyodbc package (https://github.com/mkleehammer/pyodbc/wiki)"
   ]
  },
  {
   "cell_type": "markdown",
   "id": "24ae39ff-4b3c-4ec8-84a2-c69e420298e8",
   "metadata": {},
   "source": [
    "# 8. Plotting\n",
    "More about plotting: https://pandas.pydata.org/docs/getting_started/intro_tutorials/04_plotting.html and https://pandas.pydata.org/docs/user_guide/visualization.html#visualization"
   ]
  },
  {
   "cell_type": "code",
   "execution_count": null,
   "id": "1db535f9-72fa-4ad3-83ec-bcaae5dca186",
   "metadata": {},
   "outputs": [],
   "source": []
  }
 ],
 "metadata": {
  "kernelspec": {
   "display_name": "Python 3 (ipykernel)",
   "language": "python",
   "name": "python3"
  },
  "language_info": {
   "codemirror_mode": {
    "name": "ipython",
    "version": 3
   },
   "file_extension": ".py",
   "mimetype": "text/x-python",
   "name": "python",
   "nbconvert_exporter": "python",
   "pygments_lexer": "ipython3",
   "version": "3.10.2"
  }
 },
 "nbformat": 4,
 "nbformat_minor": 5
}
